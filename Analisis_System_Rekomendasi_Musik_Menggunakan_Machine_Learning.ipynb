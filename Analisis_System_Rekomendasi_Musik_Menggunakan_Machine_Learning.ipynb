{
  "cells": [
    {
      "cell_type": "markdown",
      "metadata": {
        "id": "view-in-github",
        "colab_type": "text"
      },
      "source": [
        "<a href=\"https://colab.research.google.com/github/Dhiooonn/Analisis-System-Rekomendasi-Musik-Spotify-MenggunakanMachineLearning/blob/main/Analisis_System_Rekomendasi_Musik_Menggunakan_Machine_Learning.ipynb\" target=\"_parent\"><img src=\"https://colab.research.google.com/assets/colab-badge.svg\" alt=\"Open In Colab\"/></a>"
      ]
    },
    {
      "cell_type": "markdown",
      "id": "0a37eb26-3a3e-43aa-b4c5-ad88abd0cbc5",
      "metadata": {
        "id": "0a37eb26-3a3e-43aa-b4c5-ad88abd0cbc5"
      },
      "source": [
        "Proyek ini berfokus pada **analisis musik Spotify menggunakan pendekatan machine learning** untuk mengklasifikasikan musik berdasarkan suasana hati, dengan mempertimbangkan lirik lagu dan berbagai faktor lainnya. Tujuan utama dari proyek ini adalah membangun sistem rekomendasi musik bagi pengguna yang ingin mendengarkan playlist yang disesuaikan. Sistem semacam ini tidak hanya dapat membantu memperbaiki suasana hati seseorang, tetapi juga dapat menyebarkan suasana positif di antara orang-orang.\n",
        "\n",
        "Data yang digunakan dalam proyek ini diambil dari Kaggle, yang merupakan platform penyimpanan dan berbagi dataset. Proyek ini memanfaatkan dataset yang tersedia untuk menganalisis musik dan membangun sistem rekomendasi.\n",
        "\n",
        "Pengimporan Pustaka yang Diperlukan\n",
        "Pustaka yang diimpor dalam proyek ini meliputi:\n",
        "1. NumPy: Menyediakan dukungan untuk array multi-dimensi dan fungsi matematika tingkat tinggi.\n",
        "2. Pandas: Digunakan untuk manipulasi dan analisis data.\n",
        "3. Matplotlib: Membantu dalam menghasilkan grafik berkualitas publikasi.\n",
        "4. Scikit-learn: Menyediakan berbagai algoritma klasifikasi.\n",
        "Seaborn: Menyediakan antarmuka tingkat tinggi untuk menggambar grafik statistik yang menarik.\n",
        "\n",
        "Setelah memuat dan membersihkan dataset dengan menghapus kolom yang tidak diperlukan, analisis lebih lanjut dilakukan pada data tersebut."
      ]
    },
    {
      "cell_type": "code",
      "execution_count": 61,
      "id": "cb06f7c0-8a9d-4255-9980-7f2762b3a5ea",
      "metadata": {
        "id": "cb06f7c0-8a9d-4255-9980-7f2762b3a5ea"
      },
      "outputs": [],
      "source": [
        "import numpy as np # linear algebra\n",
        "import pandas as pd\n",
        "from google.colab import drive # memuat data melalui google drive\n",
        "import matplotlib.pyplot as plt\n",
        "import matplotlib.ticker as ticker\n",
        "from sklearn import datasets, linear_model\n",
        "from sklearn.decomposition import PCA\n",
        "from sklearn.preprocessing import MinMaxScaler\n",
        "from sklearn.manifold import TSNE\n",
        "import seaborn as sns\n",
        "from sklearn import tree\n",
        "from sklearn.metrics import accuracy_score\n",
        "%matplotlib inline\n",
        "from sklearn.tree import DecisionTreeClassifier, export_graphviz\n",
        "\n"
      ]
    },
    {
      "cell_type": "code",
      "execution_count": 62,
      "id": "nV_C_msU310I",
      "metadata": {
        "colab": {
          "base_uri": "https://localhost:8080/"
        },
        "id": "nV_C_msU310I",
        "outputId": "d1574a6f-6f7c-41ec-825d-8e4b8069760c"
      },
      "outputs": [
        {
          "output_type": "stream",
          "name": "stdout",
          "text": [
            "Drive already mounted at /content/drive; to attempt to forcibly remount, call drive.mount(\"/content/drive\", force_remount=True).\n"
          ]
        }
      ],
      "source": [
        "drive.mount('/content/drive')"
      ]
    },
    {
      "cell_type": "code",
      "execution_count": 63,
      "id": "084a8752-0974-4ed8-b6e6-ea1e49016eac",
      "metadata": {
        "id": "084a8752-0974-4ed8-b6e6-ea1e49016eac"
      },
      "outputs": [],
      "source": [
        "pd.set_option('display.max_columns' , None)\n",
        "pd.set_option('display.max_rows' , None)"
      ]
    },
    {
      "cell_type": "code",
      "execution_count": 64,
      "id": "pQyTKqOm4DNA",
      "metadata": {
        "id": "pQyTKqOm4DNA"
      },
      "outputs": [],
      "source": [
        "# Path file dataset\n",
        "file_path = '/content/drive/MyDrive/Machine Learning/Analisis system rekomendasi spotify menggunakan machine learning/dataset/spotify_top_songs_audio_features.csv'"
      ]
    },
    {
      "cell_type": "code",
      "execution_count": 66,
      "id": "037b5cdd-7453-4535-847d-74d473d045ab",
      "metadata": {
        "colab": {
          "base_uri": "https://localhost:8080/",
          "height": 347
        },
        "collapsed": true,
        "id": "037b5cdd-7453-4535-847d-74d473d045ab",
        "outputId": "a287f548-549b-417d-d368-e8fe96f4b335"
      },
      "outputs": [
        {
          "output_type": "execute_result",
          "data": {
            "text/plain": [
              "                       id                artist_names  \\\n",
              "0  000xQL6tZNLJzIrtIgxqSl         ZAYN, PARTYNEXTDOOR   \n",
              "1  003eoIwxETJujVWmNFMoZy                Alessia Cara   \n",
              "2  003vvx7Niy0yvhvHt4a68B                 The Killers   \n",
              "3  00B7TZ0Xawar6NZ00JFomN  Cardi B, Chance the Rapper   \n",
              "4  00Blm7zeNqgYLPtW6zg8cj     Post Malone, The Weeknd   \n",
              "\n",
              "                             track_name              source    key   mode  \\\n",
              "0  Still Got Time (feat. PARTYNEXTDOOR)   RCA Records Label      G  Major   \n",
              "1                         Growing Pains  Def Jam Recordings  C#/Db  Minor   \n",
              "2                        Mr. Brightside      Island Records  C#/Db  Major   \n",
              "3   Best Life (feat. Chance The Rapper)        Atlantic/KSR      A  Major   \n",
              "4       One Right Now (with The Weeknd)    Republic Records  C#/Db  Major   \n",
              "\n",
              "  time_signature  danceability  energy  speechiness  acousticness  \\\n",
              "0        4 beats         0.748   0.627       0.0639       0.13100   \n",
              "1        4 beats         0.353   0.755       0.7330       0.08220   \n",
              "2        4 beats         0.352   0.911       0.0747       0.00121   \n",
              "3        4 beats         0.620   0.625       0.5530       0.28700   \n",
              "4        4 beats         0.687   0.781       0.0530       0.03610   \n",
              "\n",
              "   instrumentalness  liveness  valence  loudness    tempo  duration_ms  \\\n",
              "0               0.0    0.0852    0.524    -6.029  120.963       188491   \n",
              "1               0.0    0.3900    0.437    -6.276  191.153       193680   \n",
              "2               0.0    0.0995    0.236    -5.230  148.033       222973   \n",
              "3               0.0    0.3140    0.665    -7.438  167.911       284856   \n",
              "4               0.0    0.0755    0.688    -4.806   97.014       193507   \n",
              "\n",
              "   weeks_on_chart    streams  \n",
              "0              17  107527761  \n",
              "1               2    9944865  \n",
              "2             125  512388123  \n",
              "3               2   11985346  \n",
              "4              30  301860377  "
            ],
            "text/html": [
              "\n",
              "  <div id=\"df-17b7cebd-b2c4-4130-a249-50f0361d34f1\" class=\"colab-df-container\">\n",
              "    <div>\n",
              "<style scoped>\n",
              "    .dataframe tbody tr th:only-of-type {\n",
              "        vertical-align: middle;\n",
              "    }\n",
              "\n",
              "    .dataframe tbody tr th {\n",
              "        vertical-align: top;\n",
              "    }\n",
              "\n",
              "    .dataframe thead th {\n",
              "        text-align: right;\n",
              "    }\n",
              "</style>\n",
              "<table border=\"1\" class=\"dataframe\">\n",
              "  <thead>\n",
              "    <tr style=\"text-align: right;\">\n",
              "      <th></th>\n",
              "      <th>id</th>\n",
              "      <th>artist_names</th>\n",
              "      <th>track_name</th>\n",
              "      <th>source</th>\n",
              "      <th>key</th>\n",
              "      <th>mode</th>\n",
              "      <th>time_signature</th>\n",
              "      <th>danceability</th>\n",
              "      <th>energy</th>\n",
              "      <th>speechiness</th>\n",
              "      <th>acousticness</th>\n",
              "      <th>instrumentalness</th>\n",
              "      <th>liveness</th>\n",
              "      <th>valence</th>\n",
              "      <th>loudness</th>\n",
              "      <th>tempo</th>\n",
              "      <th>duration_ms</th>\n",
              "      <th>weeks_on_chart</th>\n",
              "      <th>streams</th>\n",
              "    </tr>\n",
              "  </thead>\n",
              "  <tbody>\n",
              "    <tr>\n",
              "      <th>0</th>\n",
              "      <td>000xQL6tZNLJzIrtIgxqSl</td>\n",
              "      <td>ZAYN, PARTYNEXTDOOR</td>\n",
              "      <td>Still Got Time (feat. PARTYNEXTDOOR)</td>\n",
              "      <td>RCA Records Label</td>\n",
              "      <td>G</td>\n",
              "      <td>Major</td>\n",
              "      <td>4 beats</td>\n",
              "      <td>0.748</td>\n",
              "      <td>0.627</td>\n",
              "      <td>0.0639</td>\n",
              "      <td>0.13100</td>\n",
              "      <td>0.0</td>\n",
              "      <td>0.0852</td>\n",
              "      <td>0.524</td>\n",
              "      <td>-6.029</td>\n",
              "      <td>120.963</td>\n",
              "      <td>188491</td>\n",
              "      <td>17</td>\n",
              "      <td>107527761</td>\n",
              "    </tr>\n",
              "    <tr>\n",
              "      <th>1</th>\n",
              "      <td>003eoIwxETJujVWmNFMoZy</td>\n",
              "      <td>Alessia Cara</td>\n",
              "      <td>Growing Pains</td>\n",
              "      <td>Def Jam Recordings</td>\n",
              "      <td>C#/Db</td>\n",
              "      <td>Minor</td>\n",
              "      <td>4 beats</td>\n",
              "      <td>0.353</td>\n",
              "      <td>0.755</td>\n",
              "      <td>0.7330</td>\n",
              "      <td>0.08220</td>\n",
              "      <td>0.0</td>\n",
              "      <td>0.3900</td>\n",
              "      <td>0.437</td>\n",
              "      <td>-6.276</td>\n",
              "      <td>191.153</td>\n",
              "      <td>193680</td>\n",
              "      <td>2</td>\n",
              "      <td>9944865</td>\n",
              "    </tr>\n",
              "    <tr>\n",
              "      <th>2</th>\n",
              "      <td>003vvx7Niy0yvhvHt4a68B</td>\n",
              "      <td>The Killers</td>\n",
              "      <td>Mr. Brightside</td>\n",
              "      <td>Island Records</td>\n",
              "      <td>C#/Db</td>\n",
              "      <td>Major</td>\n",
              "      <td>4 beats</td>\n",
              "      <td>0.352</td>\n",
              "      <td>0.911</td>\n",
              "      <td>0.0747</td>\n",
              "      <td>0.00121</td>\n",
              "      <td>0.0</td>\n",
              "      <td>0.0995</td>\n",
              "      <td>0.236</td>\n",
              "      <td>-5.230</td>\n",
              "      <td>148.033</td>\n",
              "      <td>222973</td>\n",
              "      <td>125</td>\n",
              "      <td>512388123</td>\n",
              "    </tr>\n",
              "    <tr>\n",
              "      <th>3</th>\n",
              "      <td>00B7TZ0Xawar6NZ00JFomN</td>\n",
              "      <td>Cardi B, Chance the Rapper</td>\n",
              "      <td>Best Life (feat. Chance The Rapper)</td>\n",
              "      <td>Atlantic/KSR</td>\n",
              "      <td>A</td>\n",
              "      <td>Major</td>\n",
              "      <td>4 beats</td>\n",
              "      <td>0.620</td>\n",
              "      <td>0.625</td>\n",
              "      <td>0.5530</td>\n",
              "      <td>0.28700</td>\n",
              "      <td>0.0</td>\n",
              "      <td>0.3140</td>\n",
              "      <td>0.665</td>\n",
              "      <td>-7.438</td>\n",
              "      <td>167.911</td>\n",
              "      <td>284856</td>\n",
              "      <td>2</td>\n",
              "      <td>11985346</td>\n",
              "    </tr>\n",
              "    <tr>\n",
              "      <th>4</th>\n",
              "      <td>00Blm7zeNqgYLPtW6zg8cj</td>\n",
              "      <td>Post Malone, The Weeknd</td>\n",
              "      <td>One Right Now (with The Weeknd)</td>\n",
              "      <td>Republic Records</td>\n",
              "      <td>C#/Db</td>\n",
              "      <td>Major</td>\n",
              "      <td>4 beats</td>\n",
              "      <td>0.687</td>\n",
              "      <td>0.781</td>\n",
              "      <td>0.0530</td>\n",
              "      <td>0.03610</td>\n",
              "      <td>0.0</td>\n",
              "      <td>0.0755</td>\n",
              "      <td>0.688</td>\n",
              "      <td>-4.806</td>\n",
              "      <td>97.014</td>\n",
              "      <td>193507</td>\n",
              "      <td>30</td>\n",
              "      <td>301860377</td>\n",
              "    </tr>\n",
              "  </tbody>\n",
              "</table>\n",
              "</div>\n",
              "    <div class=\"colab-df-buttons\">\n",
              "\n",
              "  <div class=\"colab-df-container\">\n",
              "    <button class=\"colab-df-convert\" onclick=\"convertToInteractive('df-17b7cebd-b2c4-4130-a249-50f0361d34f1')\"\n",
              "            title=\"Convert this dataframe to an interactive table.\"\n",
              "            style=\"display:none;\">\n",
              "\n",
              "  <svg xmlns=\"http://www.w3.org/2000/svg\" height=\"24px\" viewBox=\"0 -960 960 960\">\n",
              "    <path d=\"M120-120v-720h720v720H120Zm60-500h600v-160H180v160Zm220 220h160v-160H400v160Zm0 220h160v-160H400v160ZM180-400h160v-160H180v160Zm440 0h160v-160H620v160ZM180-180h160v-160H180v160Zm440 0h160v-160H620v160Z\"/>\n",
              "  </svg>\n",
              "    </button>\n",
              "\n",
              "  <style>\n",
              "    .colab-df-container {\n",
              "      display:flex;\n",
              "      gap: 12px;\n",
              "    }\n",
              "\n",
              "    .colab-df-convert {\n",
              "      background-color: #E8F0FE;\n",
              "      border: none;\n",
              "      border-radius: 50%;\n",
              "      cursor: pointer;\n",
              "      display: none;\n",
              "      fill: #1967D2;\n",
              "      height: 32px;\n",
              "      padding: 0 0 0 0;\n",
              "      width: 32px;\n",
              "    }\n",
              "\n",
              "    .colab-df-convert:hover {\n",
              "      background-color: #E2EBFA;\n",
              "      box-shadow: 0px 1px 2px rgba(60, 64, 67, 0.3), 0px 1px 3px 1px rgba(60, 64, 67, 0.15);\n",
              "      fill: #174EA6;\n",
              "    }\n",
              "\n",
              "    .colab-df-buttons div {\n",
              "      margin-bottom: 4px;\n",
              "    }\n",
              "\n",
              "    [theme=dark] .colab-df-convert {\n",
              "      background-color: #3B4455;\n",
              "      fill: #D2E3FC;\n",
              "    }\n",
              "\n",
              "    [theme=dark] .colab-df-convert:hover {\n",
              "      background-color: #434B5C;\n",
              "      box-shadow: 0px 1px 3px 1px rgba(0, 0, 0, 0.15);\n",
              "      filter: drop-shadow(0px 1px 2px rgba(0, 0, 0, 0.3));\n",
              "      fill: #FFFFFF;\n",
              "    }\n",
              "  </style>\n",
              "\n",
              "    <script>\n",
              "      const buttonEl =\n",
              "        document.querySelector('#df-17b7cebd-b2c4-4130-a249-50f0361d34f1 button.colab-df-convert');\n",
              "      buttonEl.style.display =\n",
              "        google.colab.kernel.accessAllowed ? 'block' : 'none';\n",
              "\n",
              "      async function convertToInteractive(key) {\n",
              "        const element = document.querySelector('#df-17b7cebd-b2c4-4130-a249-50f0361d34f1');\n",
              "        const dataTable =\n",
              "          await google.colab.kernel.invokeFunction('convertToInteractive',\n",
              "                                                    [key], {});\n",
              "        if (!dataTable) return;\n",
              "\n",
              "        const docLinkHtml = 'Like what you see? Visit the ' +\n",
              "          '<a target=\"_blank\" href=https://colab.research.google.com/notebooks/data_table.ipynb>data table notebook</a>'\n",
              "          + ' to learn more about interactive tables.';\n",
              "        element.innerHTML = '';\n",
              "        dataTable['output_type'] = 'display_data';\n",
              "        await google.colab.output.renderOutput(dataTable, element);\n",
              "        const docLink = document.createElement('div');\n",
              "        docLink.innerHTML = docLinkHtml;\n",
              "        element.appendChild(docLink);\n",
              "      }\n",
              "    </script>\n",
              "  </div>\n",
              "\n",
              "\n",
              "    <div id=\"df-9ede7e64-0a2b-47ca-a715-4c446e7bac36\">\n",
              "      <button class=\"colab-df-quickchart\" onclick=\"quickchart('df-9ede7e64-0a2b-47ca-a715-4c446e7bac36')\"\n",
              "                title=\"Suggest charts\"\n",
              "                style=\"display:none;\">\n",
              "\n",
              "<svg xmlns=\"http://www.w3.org/2000/svg\" height=\"24px\"viewBox=\"0 0 24 24\"\n",
              "     width=\"24px\">\n",
              "    <g>\n",
              "        <path d=\"M19 3H5c-1.1 0-2 .9-2 2v14c0 1.1.9 2 2 2h14c1.1 0 2-.9 2-2V5c0-1.1-.9-2-2-2zM9 17H7v-7h2v7zm4 0h-2V7h2v10zm4 0h-2v-4h2v4z\"/>\n",
              "    </g>\n",
              "</svg>\n",
              "      </button>\n",
              "\n",
              "<style>\n",
              "  .colab-df-quickchart {\n",
              "      --bg-color: #E8F0FE;\n",
              "      --fill-color: #1967D2;\n",
              "      --hover-bg-color: #E2EBFA;\n",
              "      --hover-fill-color: #174EA6;\n",
              "      --disabled-fill-color: #AAA;\n",
              "      --disabled-bg-color: #DDD;\n",
              "  }\n",
              "\n",
              "  [theme=dark] .colab-df-quickchart {\n",
              "      --bg-color: #3B4455;\n",
              "      --fill-color: #D2E3FC;\n",
              "      --hover-bg-color: #434B5C;\n",
              "      --hover-fill-color: #FFFFFF;\n",
              "      --disabled-bg-color: #3B4455;\n",
              "      --disabled-fill-color: #666;\n",
              "  }\n",
              "\n",
              "  .colab-df-quickchart {\n",
              "    background-color: var(--bg-color);\n",
              "    border: none;\n",
              "    border-radius: 50%;\n",
              "    cursor: pointer;\n",
              "    display: none;\n",
              "    fill: var(--fill-color);\n",
              "    height: 32px;\n",
              "    padding: 0;\n",
              "    width: 32px;\n",
              "  }\n",
              "\n",
              "  .colab-df-quickchart:hover {\n",
              "    background-color: var(--hover-bg-color);\n",
              "    box-shadow: 0 1px 2px rgba(60, 64, 67, 0.3), 0 1px 3px 1px rgba(60, 64, 67, 0.15);\n",
              "    fill: var(--button-hover-fill-color);\n",
              "  }\n",
              "\n",
              "  .colab-df-quickchart-complete:disabled,\n",
              "  .colab-df-quickchart-complete:disabled:hover {\n",
              "    background-color: var(--disabled-bg-color);\n",
              "    fill: var(--disabled-fill-color);\n",
              "    box-shadow: none;\n",
              "  }\n",
              "\n",
              "  .colab-df-spinner {\n",
              "    border: 2px solid var(--fill-color);\n",
              "    border-color: transparent;\n",
              "    border-bottom-color: var(--fill-color);\n",
              "    animation:\n",
              "      spin 1s steps(1) infinite;\n",
              "  }\n",
              "\n",
              "  @keyframes spin {\n",
              "    0% {\n",
              "      border-color: transparent;\n",
              "      border-bottom-color: var(--fill-color);\n",
              "      border-left-color: var(--fill-color);\n",
              "    }\n",
              "    20% {\n",
              "      border-color: transparent;\n",
              "      border-left-color: var(--fill-color);\n",
              "      border-top-color: var(--fill-color);\n",
              "    }\n",
              "    30% {\n",
              "      border-color: transparent;\n",
              "      border-left-color: var(--fill-color);\n",
              "      border-top-color: var(--fill-color);\n",
              "      border-right-color: var(--fill-color);\n",
              "    }\n",
              "    40% {\n",
              "      border-color: transparent;\n",
              "      border-right-color: var(--fill-color);\n",
              "      border-top-color: var(--fill-color);\n",
              "    }\n",
              "    60% {\n",
              "      border-color: transparent;\n",
              "      border-right-color: var(--fill-color);\n",
              "    }\n",
              "    80% {\n",
              "      border-color: transparent;\n",
              "      border-right-color: var(--fill-color);\n",
              "      border-bottom-color: var(--fill-color);\n",
              "    }\n",
              "    90% {\n",
              "      border-color: transparent;\n",
              "      border-bottom-color: var(--fill-color);\n",
              "    }\n",
              "  }\n",
              "</style>\n",
              "\n",
              "      <script>\n",
              "        async function quickchart(key) {\n",
              "          const quickchartButtonEl =\n",
              "            document.querySelector('#' + key + ' button');\n",
              "          quickchartButtonEl.disabled = true;  // To prevent multiple clicks.\n",
              "          quickchartButtonEl.classList.add('colab-df-spinner');\n",
              "          try {\n",
              "            const charts = await google.colab.kernel.invokeFunction(\n",
              "                'suggestCharts', [key], {});\n",
              "          } catch (error) {\n",
              "            console.error('Error during call to suggestCharts:', error);\n",
              "          }\n",
              "          quickchartButtonEl.classList.remove('colab-df-spinner');\n",
              "          quickchartButtonEl.classList.add('colab-df-quickchart-complete');\n",
              "        }\n",
              "        (() => {\n",
              "          let quickchartButtonEl =\n",
              "            document.querySelector('#df-9ede7e64-0a2b-47ca-a715-4c446e7bac36 button');\n",
              "          quickchartButtonEl.style.display =\n",
              "            google.colab.kernel.accessAllowed ? 'block' : 'none';\n",
              "        })();\n",
              "      </script>\n",
              "    </div>\n",
              "\n",
              "    </div>\n",
              "  </div>\n"
            ],
            "application/vnd.google.colaboratory.intrinsic+json": {
              "type": "dataframe",
              "variable_name": "spotify_df",
              "summary": "{\n  \"name\": \"spotify_df\",\n  \"rows\": 6513,\n  \"fields\": [\n    {\n      \"column\": \"id\",\n      \"properties\": {\n        \"dtype\": \"string\",\n        \"num_unique_values\": 6513,\n        \"samples\": [\n          \"6wos8Ds5FKMe33GjBHRake\",\n          \"1d7q712nXjG98HiwHk7HFS\",\n          \"1Qg9jWGDkKAGZXj5v2OG59\"\n        ],\n        \"semantic_type\": \"\",\n        \"description\": \"\"\n      }\n    },\n    {\n      \"column\": \"artist_names\",\n      \"properties\": {\n        \"dtype\": \"category\",\n        \"num_unique_values\": 3001,\n        \"samples\": [\n          \"Louis Tomlinson\",\n          \"Migos, Travis Scott, Ty Dolla $ign, Big Sean\",\n          \"Nick Jonas, Anne-Marie, Mike Posner\"\n        ],\n        \"semantic_type\": \"\",\n        \"description\": \"\"\n      }\n    },\n    {\n      \"column\": \"track_name\",\n      \"properties\": {\n        \"dtype\": \"string\",\n        \"num_unique_values\": 5351,\n        \"samples\": [\n          \"A Sweeter Place (feat. Kid Cudi)\",\n          \"Bodak Yellow\",\n          \"Instagram\"\n        ],\n        \"semantic_type\": \"\",\n        \"description\": \"\"\n      }\n    },\n    {\n      \"column\": \"source\",\n      \"properties\": {\n        \"dtype\": \"category\",\n        \"num_unique_values\": 967,\n        \"samples\": [\n          \"Rich The Kid / (TDE/ISR PS)\",\n          \"Riot Games\",\n          \"Roc Nation Records LLC\"\n        ],\n        \"semantic_type\": \"\",\n        \"description\": \"\"\n      }\n    },\n    {\n      \"column\": \"key\",\n      \"properties\": {\n        \"dtype\": \"category\",\n        \"num_unique_values\": 12,\n        \"samples\": [\n          \"F#/Gb\",\n          \"D\",\n          \"G\"\n        ],\n        \"semantic_type\": \"\",\n        \"description\": \"\"\n      }\n    },\n    {\n      \"column\": \"mode\",\n      \"properties\": {\n        \"dtype\": \"category\",\n        \"num_unique_values\": 2,\n        \"samples\": [\n          \"Minor\",\n          \"Major\"\n        ],\n        \"semantic_type\": \"\",\n        \"description\": \"\"\n      }\n    },\n    {\n      \"column\": \"time_signature\",\n      \"properties\": {\n        \"dtype\": \"category\",\n        \"num_unique_values\": 4,\n        \"samples\": [\n          \"5 beats\",\n          \"1\"\n        ],\n        \"semantic_type\": \"\",\n        \"description\": \"\"\n      }\n    },\n    {\n      \"column\": \"danceability\",\n      \"properties\": {\n        \"dtype\": \"number\",\n        \"std\": 0.14178728706021024,\n        \"min\": 0.15,\n        \"max\": 0.985,\n        \"num_unique_values\": 686,\n        \"samples\": [\n          0.618,\n          0.418\n        ],\n        \"semantic_type\": \"\",\n        \"description\": \"\"\n      }\n    },\n    {\n      \"column\": \"energy\",\n      \"properties\": {\n        \"dtype\": \"number\",\n        \"std\": 0.16481253789387149,\n        \"min\": 0.0218,\n        \"max\": 0.989,\n        \"num_unique_values\": 805,\n        \"samples\": [\n          0.331,\n          0.941\n        ],\n        \"semantic_type\": \"\",\n        \"description\": \"\"\n      }\n    },\n    {\n      \"column\": \"speechiness\",\n      \"properties\": {\n        \"dtype\": \"number\",\n        \"std\": 0.1134414598261523,\n        \"min\": 0.0232,\n        \"max\": 0.966,\n        \"num_unique_values\": 1146,\n        \"samples\": [\n          0.0496,\n          0.0968\n        ],\n        \"semantic_type\": \"\",\n        \"description\": \"\"\n      }\n    },\n    {\n      \"column\": \"acousticness\",\n      \"properties\": {\n        \"dtype\": \"number\",\n        \"std\": 0.2447843932595484,\n        \"min\": 7.53e-06,\n        \"max\": 0.994,\n        \"num_unique_values\": 2020,\n        \"samples\": [\n          0.227,\n          0.0199\n        ],\n        \"semantic_type\": \"\",\n        \"description\": \"\"\n      }\n    },\n    {\n      \"column\": \"instrumentalness\",\n      \"properties\": {\n        \"dtype\": \"number\",\n        \"std\": 0.07515096868581032,\n        \"min\": 0.0,\n        \"max\": 0.953,\n        \"num_unique_values\": 1833,\n        \"samples\": [\n          0.000227,\n          0.00919\n        ],\n        \"semantic_type\": \"\",\n        \"description\": \"\"\n      }\n    },\n    {\n      \"column\": \"liveness\",\n      \"properties\": {\n        \"dtype\": \"number\",\n        \"std\": 0.1380543529009922,\n        \"min\": 0.0197,\n        \"max\": 0.977,\n        \"num_unique_values\": 1071,\n        \"samples\": [\n          0.094,\n          0.0578\n        ],\n        \"semantic_type\": \"\",\n        \"description\": \"\"\n      }\n    },\n    {\n      \"column\": \"valence\",\n      \"properties\": {\n        \"dtype\": \"number\",\n        \"std\": 0.22700059158361902,\n        \"min\": 0.032,\n        \"max\": 0.982,\n        \"num_unique_values\": 1013,\n        \"samples\": [\n          0.0807,\n          0.624\n        ],\n        \"semantic_type\": \"\",\n        \"description\": \"\"\n      }\n    },\n    {\n      \"column\": \"loudness\",\n      \"properties\": {\n        \"dtype\": \"number\",\n        \"std\": 2.536114362713086,\n        \"min\": -34.475,\n        \"max\": 1.509,\n        \"num_unique_values\": 4255,\n        \"samples\": [\n          -3.547,\n          -7.415\n        ],\n        \"semantic_type\": \"\",\n        \"description\": \"\"\n      }\n    },\n    {\n      \"column\": \"tempo\",\n      \"properties\": {\n        \"dtype\": \"number\",\n        \"std\": 29.416096740706195,\n        \"min\": 46.718,\n        \"max\": 212.117,\n        \"num_unique_values\": 5353,\n        \"samples\": [\n          113.669,\n          105.137\n        ],\n        \"semantic_type\": \"\",\n        \"description\": \"\"\n      }\n    },\n    {\n      \"column\": \"duration_ms\",\n      \"properties\": {\n        \"dtype\": \"number\",\n        \"std\": 49199,\n        \"min\": 30133,\n        \"max\": 690732,\n        \"num_unique_values\": 5460,\n        \"samples\": [\n          236160,\n          227467\n        ],\n        \"semantic_type\": \"\",\n        \"description\": \"\"\n      }\n    },\n    {\n      \"column\": \"weeks_on_chart\",\n      \"properties\": {\n        \"dtype\": \"number\",\n        \"std\": 24,\n        \"min\": 1,\n        \"max\": 367,\n        \"num_unique_values\": 159,\n        \"samples\": [\n          367,\n          217\n        ],\n        \"semantic_type\": \"\",\n        \"description\": \"\"\n      }\n    },\n    {\n      \"column\": \"streams\",\n      \"properties\": {\n        \"dtype\": \"number\",\n        \"std\": 227669470,\n        \"min\": 2525159,\n        \"max\": 3528450184,\n        \"num_unique_values\": 6513,\n        \"samples\": [\n          3812830,\n          15967986\n        ],\n        \"semantic_type\": \"\",\n        \"description\": \"\"\n      }\n    }\n  ]\n}"
            }
          },
          "metadata": {},
          "execution_count": 66
        }
      ],
      "source": [
        "spotify_df = pd.read_csv(file_path)\n",
        "spotify_df.head()"
      ]
    },
    {
      "cell_type": "markdown",
      "id": "9f4f34d4-5c1c-4049-816c-512e570b80c8",
      "metadata": {
        "id": "9f4f34d4-5c1c-4049-816c-512e570b80c8"
      },
      "source": [
        "## Data Cleaning and Preparation"
      ]
    },
    {
      "cell_type": "code",
      "execution_count": 67,
      "id": "8513513a-f758-4bae-b252-5c9b1738833e",
      "metadata": {
        "colab": {
          "base_uri": "https://localhost:8080/"
        },
        "id": "8513513a-f758-4bae-b252-5c9b1738833e",
        "outputId": "8c11ef34-7015-47ab-9528-743f245873dd"
      },
      "outputs": [
        {
          "output_type": "stream",
          "name": "stdout",
          "text": [
            "<class 'pandas.core.frame.DataFrame'>\n",
            "RangeIndex: 6513 entries, 0 to 6512\n",
            "Data columns (total 19 columns):\n",
            " #   Column            Non-Null Count  Dtype  \n",
            "---  ------            --------------  -----  \n",
            " 0   id                6513 non-null   object \n",
            " 1   artist_names      6513 non-null   object \n",
            " 2   track_name        6513 non-null   object \n",
            " 3   source            6513 non-null   object \n",
            " 4   key               6513 non-null   object \n",
            " 5   mode              6513 non-null   object \n",
            " 6   time_signature    6513 non-null   object \n",
            " 7   danceability      6513 non-null   float64\n",
            " 8   energy            6513 non-null   float64\n",
            " 9   speechiness       6513 non-null   float64\n",
            " 10  acousticness      6513 non-null   float64\n",
            " 11  instrumentalness  6513 non-null   float64\n",
            " 12  liveness          6513 non-null   float64\n",
            " 13  valence           6513 non-null   float64\n",
            " 14  loudness          6513 non-null   float64\n",
            " 15  tempo             6513 non-null   float64\n",
            " 16  duration_ms       6513 non-null   int64  \n",
            " 17  weeks_on_chart    6513 non-null   int64  \n",
            " 18  streams           6513 non-null   int64  \n",
            "dtypes: float64(9), int64(3), object(7)\n",
            "memory usage: 966.9+ KB\n"
          ]
        }
      ],
      "source": [
        "spotify_df.info()"
      ]
    },
    {
      "cell_type": "code",
      "execution_count": 68,
      "id": "40da636e-6b10-4373-a5a1-b7673cfa5f2a",
      "metadata": {
        "colab": {
          "base_uri": "https://localhost:8080/"
        },
        "id": "40da636e-6b10-4373-a5a1-b7673cfa5f2a",
        "outputId": "c497569d-6717-4181-b6a7-b75021eff21a"
      },
      "outputs": [
        {
          "output_type": "execute_result",
          "data": {
            "text/plain": [
              "(6513, 19)"
            ]
          },
          "metadata": {},
          "execution_count": 68
        }
      ],
      "source": [
        "spotify_df.shape"
      ]
    },
    {
      "cell_type": "code",
      "execution_count": 69,
      "id": "c4690660-b409-45df-a59c-2f377e8d6c51",
      "metadata": {
        "colab": {
          "base_uri": "https://localhost:8080/"
        },
        "id": "c4690660-b409-45df-a59c-2f377e8d6c51",
        "outputId": "b0592d57-0885-4adc-fdec-4e622ee9260d"
      },
      "outputs": [
        {
          "output_type": "execute_result",
          "data": {
            "text/plain": [
              "np.int64(0)"
            ]
          },
          "metadata": {},
          "execution_count": 69
        }
      ],
      "source": [
        "spotify_df['id'].duplicated().sum()"
      ]
    },
    {
      "cell_type": "code",
      "execution_count": 70,
      "id": "d60ff5e9-1d24-4580-8632-e58a87079912",
      "metadata": {
        "id": "d60ff5e9-1d24-4580-8632-e58a87079912",
        "colab": {
          "base_uri": "https://localhost:8080/",
          "height": 680
        },
        "outputId": "5df0ff64-cb88-425a-e336-b463de60e244"
      },
      "outputs": [
        {
          "output_type": "execute_result",
          "data": {
            "text/plain": [
              "id                  0\n",
              "artist_names        0\n",
              "track_name          0\n",
              "source              0\n",
              "key                 0\n",
              "mode                0\n",
              "time_signature      0\n",
              "danceability        0\n",
              "energy              0\n",
              "speechiness         0\n",
              "acousticness        0\n",
              "instrumentalness    0\n",
              "liveness            0\n",
              "valence             0\n",
              "loudness            0\n",
              "tempo               0\n",
              "duration_ms         0\n",
              "weeks_on_chart      0\n",
              "streams             0\n",
              "dtype: int64"
            ],
            "text/html": [
              "<div>\n",
              "<style scoped>\n",
              "    .dataframe tbody tr th:only-of-type {\n",
              "        vertical-align: middle;\n",
              "    }\n",
              "\n",
              "    .dataframe tbody tr th {\n",
              "        vertical-align: top;\n",
              "    }\n",
              "\n",
              "    .dataframe thead th {\n",
              "        text-align: right;\n",
              "    }\n",
              "</style>\n",
              "<table border=\"1\" class=\"dataframe\">\n",
              "  <thead>\n",
              "    <tr style=\"text-align: right;\">\n",
              "      <th></th>\n",
              "      <th>0</th>\n",
              "    </tr>\n",
              "  </thead>\n",
              "  <tbody>\n",
              "    <tr>\n",
              "      <th>id</th>\n",
              "      <td>0</td>\n",
              "    </tr>\n",
              "    <tr>\n",
              "      <th>artist_names</th>\n",
              "      <td>0</td>\n",
              "    </tr>\n",
              "    <tr>\n",
              "      <th>track_name</th>\n",
              "      <td>0</td>\n",
              "    </tr>\n",
              "    <tr>\n",
              "      <th>source</th>\n",
              "      <td>0</td>\n",
              "    </tr>\n",
              "    <tr>\n",
              "      <th>key</th>\n",
              "      <td>0</td>\n",
              "    </tr>\n",
              "    <tr>\n",
              "      <th>mode</th>\n",
              "      <td>0</td>\n",
              "    </tr>\n",
              "    <tr>\n",
              "      <th>time_signature</th>\n",
              "      <td>0</td>\n",
              "    </tr>\n",
              "    <tr>\n",
              "      <th>danceability</th>\n",
              "      <td>0</td>\n",
              "    </tr>\n",
              "    <tr>\n",
              "      <th>energy</th>\n",
              "      <td>0</td>\n",
              "    </tr>\n",
              "    <tr>\n",
              "      <th>speechiness</th>\n",
              "      <td>0</td>\n",
              "    </tr>\n",
              "    <tr>\n",
              "      <th>acousticness</th>\n",
              "      <td>0</td>\n",
              "    </tr>\n",
              "    <tr>\n",
              "      <th>instrumentalness</th>\n",
              "      <td>0</td>\n",
              "    </tr>\n",
              "    <tr>\n",
              "      <th>liveness</th>\n",
              "      <td>0</td>\n",
              "    </tr>\n",
              "    <tr>\n",
              "      <th>valence</th>\n",
              "      <td>0</td>\n",
              "    </tr>\n",
              "    <tr>\n",
              "      <th>loudness</th>\n",
              "      <td>0</td>\n",
              "    </tr>\n",
              "    <tr>\n",
              "      <th>tempo</th>\n",
              "      <td>0</td>\n",
              "    </tr>\n",
              "    <tr>\n",
              "      <th>duration_ms</th>\n",
              "      <td>0</td>\n",
              "    </tr>\n",
              "    <tr>\n",
              "      <th>weeks_on_chart</th>\n",
              "      <td>0</td>\n",
              "    </tr>\n",
              "    <tr>\n",
              "      <th>streams</th>\n",
              "      <td>0</td>\n",
              "    </tr>\n",
              "  </tbody>\n",
              "</table>\n",
              "</div><br><label><b>dtype:</b> int64</label>"
            ]
          },
          "metadata": {},
          "execution_count": 70
        }
      ],
      "source": [
        "spotify_df.isnull().sum()"
      ]
    },
    {
      "cell_type": "markdown",
      "id": "Rs0j6MK4GJtP",
      "metadata": {
        "id": "Rs0j6MK4GJtP"
      },
      "source": [
        "Ini menunjukkan bahwa tidak ada **nilai yang hilang** dalam dataset. Selain itu, tidak ada **data yang buruk** dalam dataframe tersebut.\n"
      ]
    },
    {
      "cell_type": "markdown",
      "id": "5dd01128-081f-447d-ac21-bcc3a0e542c8",
      "metadata": {
        "id": "5dd01128-081f-447d-ac21-bcc3a0e542c8"
      },
      "source": [
        "#### Memeriksa apakah ada nilai yang melebihi batas yang ditentukan untuk kolom-kolom ini.\n"
      ]
    },
    {
      "cell_type": "code",
      "execution_count": 71,
      "id": "1bd1e77c-3205-46aa-9d25-76db659b4d49",
      "metadata": {
        "id": "1bd1e77c-3205-46aa-9d25-76db659b4d49",
        "colab": {
          "base_uri": "https://localhost:8080/",
          "height": 73
        },
        "outputId": "37bde200-cd78-4fc3-9aef-e6be6ae7406c"
      },
      "outputs": [
        {
          "output_type": "execute_result",
          "data": {
            "text/plain": [
              "Empty DataFrame\n",
              "Columns: [id, artist_names, track_name, source, key, mode, time_signature, danceability, energy, speechiness, acousticness, instrumentalness, liveness, valence, loudness, tempo, duration_ms, weeks_on_chart, streams]\n",
              "Index: []"
            ],
            "text/html": [
              "\n",
              "  <div id=\"df-02d0e5c6-dbef-4c12-b9e5-95d629c63703\" class=\"colab-df-container\">\n",
              "    <div>\n",
              "<style scoped>\n",
              "    .dataframe tbody tr th:only-of-type {\n",
              "        vertical-align: middle;\n",
              "    }\n",
              "\n",
              "    .dataframe tbody tr th {\n",
              "        vertical-align: top;\n",
              "    }\n",
              "\n",
              "    .dataframe thead th {\n",
              "        text-align: right;\n",
              "    }\n",
              "</style>\n",
              "<table border=\"1\" class=\"dataframe\">\n",
              "  <thead>\n",
              "    <tr style=\"text-align: right;\">\n",
              "      <th></th>\n",
              "      <th>id</th>\n",
              "      <th>artist_names</th>\n",
              "      <th>track_name</th>\n",
              "      <th>source</th>\n",
              "      <th>key</th>\n",
              "      <th>mode</th>\n",
              "      <th>time_signature</th>\n",
              "      <th>danceability</th>\n",
              "      <th>energy</th>\n",
              "      <th>speechiness</th>\n",
              "      <th>acousticness</th>\n",
              "      <th>instrumentalness</th>\n",
              "      <th>liveness</th>\n",
              "      <th>valence</th>\n",
              "      <th>loudness</th>\n",
              "      <th>tempo</th>\n",
              "      <th>duration_ms</th>\n",
              "      <th>weeks_on_chart</th>\n",
              "      <th>streams</th>\n",
              "    </tr>\n",
              "  </thead>\n",
              "  <tbody>\n",
              "  </tbody>\n",
              "</table>\n",
              "</div>\n",
              "    <div class=\"colab-df-buttons\">\n",
              "\n",
              "  <div class=\"colab-df-container\">\n",
              "    <button class=\"colab-df-convert\" onclick=\"convertToInteractive('df-02d0e5c6-dbef-4c12-b9e5-95d629c63703')\"\n",
              "            title=\"Convert this dataframe to an interactive table.\"\n",
              "            style=\"display:none;\">\n",
              "\n",
              "  <svg xmlns=\"http://www.w3.org/2000/svg\" height=\"24px\" viewBox=\"0 -960 960 960\">\n",
              "    <path d=\"M120-120v-720h720v720H120Zm60-500h600v-160H180v160Zm220 220h160v-160H400v160Zm0 220h160v-160H400v160ZM180-400h160v-160H180v160Zm440 0h160v-160H620v160ZM180-180h160v-160H180v160Zm440 0h160v-160H620v160Z\"/>\n",
              "  </svg>\n",
              "    </button>\n",
              "\n",
              "  <style>\n",
              "    .colab-df-container {\n",
              "      display:flex;\n",
              "      gap: 12px;\n",
              "    }\n",
              "\n",
              "    .colab-df-convert {\n",
              "      background-color: #E8F0FE;\n",
              "      border: none;\n",
              "      border-radius: 50%;\n",
              "      cursor: pointer;\n",
              "      display: none;\n",
              "      fill: #1967D2;\n",
              "      height: 32px;\n",
              "      padding: 0 0 0 0;\n",
              "      width: 32px;\n",
              "    }\n",
              "\n",
              "    .colab-df-convert:hover {\n",
              "      background-color: #E2EBFA;\n",
              "      box-shadow: 0px 1px 2px rgba(60, 64, 67, 0.3), 0px 1px 3px 1px rgba(60, 64, 67, 0.15);\n",
              "      fill: #174EA6;\n",
              "    }\n",
              "\n",
              "    .colab-df-buttons div {\n",
              "      margin-bottom: 4px;\n",
              "    }\n",
              "\n",
              "    [theme=dark] .colab-df-convert {\n",
              "      background-color: #3B4455;\n",
              "      fill: #D2E3FC;\n",
              "    }\n",
              "\n",
              "    [theme=dark] .colab-df-convert:hover {\n",
              "      background-color: #434B5C;\n",
              "      box-shadow: 0px 1px 3px 1px rgba(0, 0, 0, 0.15);\n",
              "      filter: drop-shadow(0px 1px 2px rgba(0, 0, 0, 0.3));\n",
              "      fill: #FFFFFF;\n",
              "    }\n",
              "  </style>\n",
              "\n",
              "    <script>\n",
              "      const buttonEl =\n",
              "        document.querySelector('#df-02d0e5c6-dbef-4c12-b9e5-95d629c63703 button.colab-df-convert');\n",
              "      buttonEl.style.display =\n",
              "        google.colab.kernel.accessAllowed ? 'block' : 'none';\n",
              "\n",
              "      async function convertToInteractive(key) {\n",
              "        const element = document.querySelector('#df-02d0e5c6-dbef-4c12-b9e5-95d629c63703');\n",
              "        const dataTable =\n",
              "          await google.colab.kernel.invokeFunction('convertToInteractive',\n",
              "                                                    [key], {});\n",
              "        if (!dataTable) return;\n",
              "\n",
              "        const docLinkHtml = 'Like what you see? Visit the ' +\n",
              "          '<a target=\"_blank\" href=https://colab.research.google.com/notebooks/data_table.ipynb>data table notebook</a>'\n",
              "          + ' to learn more about interactive tables.';\n",
              "        element.innerHTML = '';\n",
              "        dataTable['output_type'] = 'display_data';\n",
              "        await google.colab.output.renderOutput(dataTable, element);\n",
              "        const docLink = document.createElement('div');\n",
              "        docLink.innerHTML = docLinkHtml;\n",
              "        element.appendChild(docLink);\n",
              "      }\n",
              "    </script>\n",
              "  </div>\n",
              "\n",
              "\n",
              "    </div>\n",
              "  </div>\n"
            ],
            "application/vnd.google.colaboratory.intrinsic+json": {
              "type": "dataframe",
              "repr_error": "Out of range float values are not JSON compliant: nan"
            }
          },
          "metadata": {},
          "execution_count": 71
        }
      ],
      "source": [
        "columns = ['danceability', 'energy', 'speechiness', 'acousticness', 'instrumentalness', 'liveness', 'valence']\n",
        "query = \" | \".join([f\"({col} < 0) | ({col} > 1)\" for col in columns])\n",
        "spotify_df.query(query)\n"
      ]
    },
    {
      "cell_type": "code",
      "execution_count": 72,
      "id": "c785f91f-92c9-43e1-8155-c42cab8104e2",
      "metadata": {
        "id": "c785f91f-92c9-43e1-8155-c42cab8104e2"
      },
      "outputs": [],
      "source": [
        "query_loudness = \"(loudness < -60) | (loudness > 0)\"\n",
        "query_tempo = \"( tempo < 50) | (tempo > 220)\"\n",
        "spotify_df = spotify_df.drop(spotify_df.query(query_loudness or query_tempo).index)"
      ]
    },
    {
      "cell_type": "code",
      "execution_count": 73,
      "id": "c9248d8b-eead-44d9-a7f2-dac22e5fde04",
      "metadata": {
        "id": "c9248d8b-eead-44d9-a7f2-dac22e5fde04",
        "colab": {
          "base_uri": "https://localhost:8080/"
        },
        "outputId": "457df44a-3742-4540-c920-f88c49339a35"
      },
      "outputs": [
        {
          "output_type": "execute_result",
          "data": {
            "text/plain": [
              "(6509, 19)"
            ]
          },
          "metadata": {},
          "execution_count": 73
        }
      ],
      "source": [
        "spotify_df.shape"
      ]
    },
    {
      "cell_type": "code",
      "execution_count": 74,
      "id": "ba8f8afa-16a7-4ffe-abb8-011d76805f2b",
      "metadata": {
        "id": "ba8f8afa-16a7-4ffe-abb8-011d76805f2b",
        "colab": {
          "base_uri": "https://localhost:8080/"
        },
        "outputId": "1809b09d-40dd-42d7-d744-008e8850c271"
      },
      "outputs": [
        {
          "output_type": "stream",
          "name": "stdout",
          "text": [
            "key\n",
            "1.0     942\n",
            "0.0     705\n",
            "7.0     595\n",
            "11.0    567\n",
            "8.0     553\n",
            "5.0     531\n",
            "9.0     523\n",
            "2.0     523\n",
            "6.0     501\n",
            "10.0    465\n",
            "4.0     424\n",
            "3.0     180\n",
            "Name: count, dtype: int64\n"
          ]
        }
      ],
      "source": [
        "# Pemetaan key ke angka\n",
        "key_mapping = {\n",
        "    'C': 0.0,\n",
        "    'C#/Db': 1.0,\n",
        "    'D': 2.0,\n",
        "    'D#/Eb': 3.0,\n",
        "    'E': 4.0,\n",
        "    'F': 5.0,\n",
        "    'F#/Gb': 6.0,\n",
        "    'G': 7.0,\n",
        "    'G#/Ab': 8.0,\n",
        "    'A': 9.0,\n",
        "    'A#/Bb': 10.0,\n",
        "    'B': 11.0\n",
        "}\n",
        "\n",
        "# Mengubah kolom 'key' menjadi angka sesuai dengan key_mapping\n",
        "spotify_df['key'] = spotify_df['key'].map(key_mapping)\n",
        "\n",
        "# Memeriksa hasil perubahan\n",
        "print(spotify_df['key'].value_counts())\n"
      ]
    },
    {
      "cell_type": "code",
      "execution_count": 75,
      "id": "a0c71e37-ea76-4a99-bd3d-08bb03f9465b",
      "metadata": {
        "id": "a0c71e37-ea76-4a99-bd3d-08bb03f9465b",
        "colab": {
          "base_uri": "https://localhost:8080/",
          "height": 178
        },
        "outputId": "232cc9d6-4fa7-4fa6-db8b-8d182c4e1f25"
      },
      "outputs": [
        {
          "output_type": "execute_result",
          "data": {
            "text/plain": [
              "mode\n",
              "Major    3745\n",
              "Minor    2764\n",
              "Name: count, dtype: int64"
            ],
            "text/html": [
              "<div>\n",
              "<style scoped>\n",
              "    .dataframe tbody tr th:only-of-type {\n",
              "        vertical-align: middle;\n",
              "    }\n",
              "\n",
              "    .dataframe tbody tr th {\n",
              "        vertical-align: top;\n",
              "    }\n",
              "\n",
              "    .dataframe thead th {\n",
              "        text-align: right;\n",
              "    }\n",
              "</style>\n",
              "<table border=\"1\" class=\"dataframe\">\n",
              "  <thead>\n",
              "    <tr style=\"text-align: right;\">\n",
              "      <th></th>\n",
              "      <th>count</th>\n",
              "    </tr>\n",
              "    <tr>\n",
              "      <th>mode</th>\n",
              "      <th></th>\n",
              "    </tr>\n",
              "  </thead>\n",
              "  <tbody>\n",
              "    <tr>\n",
              "      <th>Major</th>\n",
              "      <td>3745</td>\n",
              "    </tr>\n",
              "    <tr>\n",
              "      <th>Minor</th>\n",
              "      <td>2764</td>\n",
              "    </tr>\n",
              "  </tbody>\n",
              "</table>\n",
              "</div><br><label><b>dtype:</b> int64</label>"
            ]
          },
          "metadata": {},
          "execution_count": 75
        }
      ],
      "source": [
        "spotify_df['mode'].value_counts()"
      ]
    },
    {
      "cell_type": "code",
      "execution_count": 76,
      "id": "EKW5_FrbGCPz",
      "metadata": {
        "id": "EKW5_FrbGCPz",
        "colab": {
          "base_uri": "https://localhost:8080/",
          "height": 347
        },
        "outputId": "c6d082fd-b07c-4fa9-c83f-ea2f9a4cfbbd"
      },
      "outputs": [
        {
          "output_type": "execute_result",
          "data": {
            "text/plain": [
              "                       id                artist_names  \\\n",
              "0  000xQL6tZNLJzIrtIgxqSl         ZAYN, PARTYNEXTDOOR   \n",
              "1  003eoIwxETJujVWmNFMoZy                Alessia Cara   \n",
              "2  003vvx7Niy0yvhvHt4a68B                 The Killers   \n",
              "3  00B7TZ0Xawar6NZ00JFomN  Cardi B, Chance the Rapper   \n",
              "4  00Blm7zeNqgYLPtW6zg8cj     Post Malone, The Weeknd   \n",
              "\n",
              "                             track_name              source   mode  \\\n",
              "0  Still Got Time (feat. PARTYNEXTDOOR)   RCA Records Label  Major   \n",
              "1                         Growing Pains  Def Jam Recordings  Minor   \n",
              "2                        Mr. Brightside      Island Records  Major   \n",
              "3   Best Life (feat. Chance The Rapper)        Atlantic/KSR  Major   \n",
              "4       One Right Now (with The Weeknd)    Republic Records  Major   \n",
              "\n",
              "  time_signature  key  danceability  energy  speechiness  acousticness  \\\n",
              "0        4 beats  7.0         0.748   0.627       0.0639       0.13100   \n",
              "1        4 beats  1.0         0.353   0.755       0.7330       0.08220   \n",
              "2        4 beats  1.0         0.352   0.911       0.0747       0.00121   \n",
              "3        4 beats  9.0         0.620   0.625       0.5530       0.28700   \n",
              "4        4 beats  1.0         0.687   0.781       0.0530       0.03610   \n",
              "\n",
              "   instrumentalness  liveness  valence  loudness    tempo  duration_ms  \\\n",
              "0               0.0    0.0852    0.524    -6.029  120.963       188491   \n",
              "1               0.0    0.3900    0.437    -6.276  191.153       193680   \n",
              "2               0.0    0.0995    0.236    -5.230  148.033       222973   \n",
              "3               0.0    0.3140    0.665    -7.438  167.911       284856   \n",
              "4               0.0    0.0755    0.688    -4.806   97.014       193507   \n",
              "\n",
              "   weeks_on_chart    streams  \n",
              "0              17  107527761  \n",
              "1               2    9944865  \n",
              "2             125  512388123  \n",
              "3               2   11985346  \n",
              "4              30  301860377  "
            ],
            "text/html": [
              "\n",
              "  <div id=\"df-f61ad820-a99e-460f-9b70-a507a69559b8\" class=\"colab-df-container\">\n",
              "    <div>\n",
              "<style scoped>\n",
              "    .dataframe tbody tr th:only-of-type {\n",
              "        vertical-align: middle;\n",
              "    }\n",
              "\n",
              "    .dataframe tbody tr th {\n",
              "        vertical-align: top;\n",
              "    }\n",
              "\n",
              "    .dataframe thead th {\n",
              "        text-align: right;\n",
              "    }\n",
              "</style>\n",
              "<table border=\"1\" class=\"dataframe\">\n",
              "  <thead>\n",
              "    <tr style=\"text-align: right;\">\n",
              "      <th></th>\n",
              "      <th>id</th>\n",
              "      <th>artist_names</th>\n",
              "      <th>track_name</th>\n",
              "      <th>source</th>\n",
              "      <th>mode</th>\n",
              "      <th>time_signature</th>\n",
              "      <th>key</th>\n",
              "      <th>danceability</th>\n",
              "      <th>energy</th>\n",
              "      <th>speechiness</th>\n",
              "      <th>acousticness</th>\n",
              "      <th>instrumentalness</th>\n",
              "      <th>liveness</th>\n",
              "      <th>valence</th>\n",
              "      <th>loudness</th>\n",
              "      <th>tempo</th>\n",
              "      <th>duration_ms</th>\n",
              "      <th>weeks_on_chart</th>\n",
              "      <th>streams</th>\n",
              "    </tr>\n",
              "  </thead>\n",
              "  <tbody>\n",
              "    <tr>\n",
              "      <th>0</th>\n",
              "      <td>000xQL6tZNLJzIrtIgxqSl</td>\n",
              "      <td>ZAYN, PARTYNEXTDOOR</td>\n",
              "      <td>Still Got Time (feat. PARTYNEXTDOOR)</td>\n",
              "      <td>RCA Records Label</td>\n",
              "      <td>Major</td>\n",
              "      <td>4 beats</td>\n",
              "      <td>7.0</td>\n",
              "      <td>0.748</td>\n",
              "      <td>0.627</td>\n",
              "      <td>0.0639</td>\n",
              "      <td>0.13100</td>\n",
              "      <td>0.0</td>\n",
              "      <td>0.0852</td>\n",
              "      <td>0.524</td>\n",
              "      <td>-6.029</td>\n",
              "      <td>120.963</td>\n",
              "      <td>188491</td>\n",
              "      <td>17</td>\n",
              "      <td>107527761</td>\n",
              "    </tr>\n",
              "    <tr>\n",
              "      <th>1</th>\n",
              "      <td>003eoIwxETJujVWmNFMoZy</td>\n",
              "      <td>Alessia Cara</td>\n",
              "      <td>Growing Pains</td>\n",
              "      <td>Def Jam Recordings</td>\n",
              "      <td>Minor</td>\n",
              "      <td>4 beats</td>\n",
              "      <td>1.0</td>\n",
              "      <td>0.353</td>\n",
              "      <td>0.755</td>\n",
              "      <td>0.7330</td>\n",
              "      <td>0.08220</td>\n",
              "      <td>0.0</td>\n",
              "      <td>0.3900</td>\n",
              "      <td>0.437</td>\n",
              "      <td>-6.276</td>\n",
              "      <td>191.153</td>\n",
              "      <td>193680</td>\n",
              "      <td>2</td>\n",
              "      <td>9944865</td>\n",
              "    </tr>\n",
              "    <tr>\n",
              "      <th>2</th>\n",
              "      <td>003vvx7Niy0yvhvHt4a68B</td>\n",
              "      <td>The Killers</td>\n",
              "      <td>Mr. Brightside</td>\n",
              "      <td>Island Records</td>\n",
              "      <td>Major</td>\n",
              "      <td>4 beats</td>\n",
              "      <td>1.0</td>\n",
              "      <td>0.352</td>\n",
              "      <td>0.911</td>\n",
              "      <td>0.0747</td>\n",
              "      <td>0.00121</td>\n",
              "      <td>0.0</td>\n",
              "      <td>0.0995</td>\n",
              "      <td>0.236</td>\n",
              "      <td>-5.230</td>\n",
              "      <td>148.033</td>\n",
              "      <td>222973</td>\n",
              "      <td>125</td>\n",
              "      <td>512388123</td>\n",
              "    </tr>\n",
              "    <tr>\n",
              "      <th>3</th>\n",
              "      <td>00B7TZ0Xawar6NZ00JFomN</td>\n",
              "      <td>Cardi B, Chance the Rapper</td>\n",
              "      <td>Best Life (feat. Chance The Rapper)</td>\n",
              "      <td>Atlantic/KSR</td>\n",
              "      <td>Major</td>\n",
              "      <td>4 beats</td>\n",
              "      <td>9.0</td>\n",
              "      <td>0.620</td>\n",
              "      <td>0.625</td>\n",
              "      <td>0.5530</td>\n",
              "      <td>0.28700</td>\n",
              "      <td>0.0</td>\n",
              "      <td>0.3140</td>\n",
              "      <td>0.665</td>\n",
              "      <td>-7.438</td>\n",
              "      <td>167.911</td>\n",
              "      <td>284856</td>\n",
              "      <td>2</td>\n",
              "      <td>11985346</td>\n",
              "    </tr>\n",
              "    <tr>\n",
              "      <th>4</th>\n",
              "      <td>00Blm7zeNqgYLPtW6zg8cj</td>\n",
              "      <td>Post Malone, The Weeknd</td>\n",
              "      <td>One Right Now (with The Weeknd)</td>\n",
              "      <td>Republic Records</td>\n",
              "      <td>Major</td>\n",
              "      <td>4 beats</td>\n",
              "      <td>1.0</td>\n",
              "      <td>0.687</td>\n",
              "      <td>0.781</td>\n",
              "      <td>0.0530</td>\n",
              "      <td>0.03610</td>\n",
              "      <td>0.0</td>\n",
              "      <td>0.0755</td>\n",
              "      <td>0.688</td>\n",
              "      <td>-4.806</td>\n",
              "      <td>97.014</td>\n",
              "      <td>193507</td>\n",
              "      <td>30</td>\n",
              "      <td>301860377</td>\n",
              "    </tr>\n",
              "  </tbody>\n",
              "</table>\n",
              "</div>\n",
              "    <div class=\"colab-df-buttons\">\n",
              "\n",
              "  <div class=\"colab-df-container\">\n",
              "    <button class=\"colab-df-convert\" onclick=\"convertToInteractive('df-f61ad820-a99e-460f-9b70-a507a69559b8')\"\n",
              "            title=\"Convert this dataframe to an interactive table.\"\n",
              "            style=\"display:none;\">\n",
              "\n",
              "  <svg xmlns=\"http://www.w3.org/2000/svg\" height=\"24px\" viewBox=\"0 -960 960 960\">\n",
              "    <path d=\"M120-120v-720h720v720H120Zm60-500h600v-160H180v160Zm220 220h160v-160H400v160Zm0 220h160v-160H400v160ZM180-400h160v-160H180v160Zm440 0h160v-160H620v160ZM180-180h160v-160H180v160Zm440 0h160v-160H620v160Z\"/>\n",
              "  </svg>\n",
              "    </button>\n",
              "\n",
              "  <style>\n",
              "    .colab-df-container {\n",
              "      display:flex;\n",
              "      gap: 12px;\n",
              "    }\n",
              "\n",
              "    .colab-df-convert {\n",
              "      background-color: #E8F0FE;\n",
              "      border: none;\n",
              "      border-radius: 50%;\n",
              "      cursor: pointer;\n",
              "      display: none;\n",
              "      fill: #1967D2;\n",
              "      height: 32px;\n",
              "      padding: 0 0 0 0;\n",
              "      width: 32px;\n",
              "    }\n",
              "\n",
              "    .colab-df-convert:hover {\n",
              "      background-color: #E2EBFA;\n",
              "      box-shadow: 0px 1px 2px rgba(60, 64, 67, 0.3), 0px 1px 3px 1px rgba(60, 64, 67, 0.15);\n",
              "      fill: #174EA6;\n",
              "    }\n",
              "\n",
              "    .colab-df-buttons div {\n",
              "      margin-bottom: 4px;\n",
              "    }\n",
              "\n",
              "    [theme=dark] .colab-df-convert {\n",
              "      background-color: #3B4455;\n",
              "      fill: #D2E3FC;\n",
              "    }\n",
              "\n",
              "    [theme=dark] .colab-df-convert:hover {\n",
              "      background-color: #434B5C;\n",
              "      box-shadow: 0px 1px 3px 1px rgba(0, 0, 0, 0.15);\n",
              "      filter: drop-shadow(0px 1px 2px rgba(0, 0, 0, 0.3));\n",
              "      fill: #FFFFFF;\n",
              "    }\n",
              "  </style>\n",
              "\n",
              "    <script>\n",
              "      const buttonEl =\n",
              "        document.querySelector('#df-f61ad820-a99e-460f-9b70-a507a69559b8 button.colab-df-convert');\n",
              "      buttonEl.style.display =\n",
              "        google.colab.kernel.accessAllowed ? 'block' : 'none';\n",
              "\n",
              "      async function convertToInteractive(key) {\n",
              "        const element = document.querySelector('#df-f61ad820-a99e-460f-9b70-a507a69559b8');\n",
              "        const dataTable =\n",
              "          await google.colab.kernel.invokeFunction('convertToInteractive',\n",
              "                                                    [key], {});\n",
              "        if (!dataTable) return;\n",
              "\n",
              "        const docLinkHtml = 'Like what you see? Visit the ' +\n",
              "          '<a target=\"_blank\" href=https://colab.research.google.com/notebooks/data_table.ipynb>data table notebook</a>'\n",
              "          + ' to learn more about interactive tables.';\n",
              "        element.innerHTML = '';\n",
              "        dataTable['output_type'] = 'display_data';\n",
              "        await google.colab.output.renderOutput(dataTable, element);\n",
              "        const docLink = document.createElement('div');\n",
              "        docLink.innerHTML = docLinkHtml;\n",
              "        element.appendChild(docLink);\n",
              "      }\n",
              "    </script>\n",
              "  </div>\n",
              "\n",
              "\n",
              "    <div id=\"df-99e63111-2ab4-4cf7-86b6-a007c999b811\">\n",
              "      <button class=\"colab-df-quickchart\" onclick=\"quickchart('df-99e63111-2ab4-4cf7-86b6-a007c999b811')\"\n",
              "                title=\"Suggest charts\"\n",
              "                style=\"display:none;\">\n",
              "\n",
              "<svg xmlns=\"http://www.w3.org/2000/svg\" height=\"24px\"viewBox=\"0 0 24 24\"\n",
              "     width=\"24px\">\n",
              "    <g>\n",
              "        <path d=\"M19 3H5c-1.1 0-2 .9-2 2v14c0 1.1.9 2 2 2h14c1.1 0 2-.9 2-2V5c0-1.1-.9-2-2-2zM9 17H7v-7h2v7zm4 0h-2V7h2v10zm4 0h-2v-4h2v4z\"/>\n",
              "    </g>\n",
              "</svg>\n",
              "      </button>\n",
              "\n",
              "<style>\n",
              "  .colab-df-quickchart {\n",
              "      --bg-color: #E8F0FE;\n",
              "      --fill-color: #1967D2;\n",
              "      --hover-bg-color: #E2EBFA;\n",
              "      --hover-fill-color: #174EA6;\n",
              "      --disabled-fill-color: #AAA;\n",
              "      --disabled-bg-color: #DDD;\n",
              "  }\n",
              "\n",
              "  [theme=dark] .colab-df-quickchart {\n",
              "      --bg-color: #3B4455;\n",
              "      --fill-color: #D2E3FC;\n",
              "      --hover-bg-color: #434B5C;\n",
              "      --hover-fill-color: #FFFFFF;\n",
              "      --disabled-bg-color: #3B4455;\n",
              "      --disabled-fill-color: #666;\n",
              "  }\n",
              "\n",
              "  .colab-df-quickchart {\n",
              "    background-color: var(--bg-color);\n",
              "    border: none;\n",
              "    border-radius: 50%;\n",
              "    cursor: pointer;\n",
              "    display: none;\n",
              "    fill: var(--fill-color);\n",
              "    height: 32px;\n",
              "    padding: 0;\n",
              "    width: 32px;\n",
              "  }\n",
              "\n",
              "  .colab-df-quickchart:hover {\n",
              "    background-color: var(--hover-bg-color);\n",
              "    box-shadow: 0 1px 2px rgba(60, 64, 67, 0.3), 0 1px 3px 1px rgba(60, 64, 67, 0.15);\n",
              "    fill: var(--button-hover-fill-color);\n",
              "  }\n",
              "\n",
              "  .colab-df-quickchart-complete:disabled,\n",
              "  .colab-df-quickchart-complete:disabled:hover {\n",
              "    background-color: var(--disabled-bg-color);\n",
              "    fill: var(--disabled-fill-color);\n",
              "    box-shadow: none;\n",
              "  }\n",
              "\n",
              "  .colab-df-spinner {\n",
              "    border: 2px solid var(--fill-color);\n",
              "    border-color: transparent;\n",
              "    border-bottom-color: var(--fill-color);\n",
              "    animation:\n",
              "      spin 1s steps(1) infinite;\n",
              "  }\n",
              "\n",
              "  @keyframes spin {\n",
              "    0% {\n",
              "      border-color: transparent;\n",
              "      border-bottom-color: var(--fill-color);\n",
              "      border-left-color: var(--fill-color);\n",
              "    }\n",
              "    20% {\n",
              "      border-color: transparent;\n",
              "      border-left-color: var(--fill-color);\n",
              "      border-top-color: var(--fill-color);\n",
              "    }\n",
              "    30% {\n",
              "      border-color: transparent;\n",
              "      border-left-color: var(--fill-color);\n",
              "      border-top-color: var(--fill-color);\n",
              "      border-right-color: var(--fill-color);\n",
              "    }\n",
              "    40% {\n",
              "      border-color: transparent;\n",
              "      border-right-color: var(--fill-color);\n",
              "      border-top-color: var(--fill-color);\n",
              "    }\n",
              "    60% {\n",
              "      border-color: transparent;\n",
              "      border-right-color: var(--fill-color);\n",
              "    }\n",
              "    80% {\n",
              "      border-color: transparent;\n",
              "      border-right-color: var(--fill-color);\n",
              "      border-bottom-color: var(--fill-color);\n",
              "    }\n",
              "    90% {\n",
              "      border-color: transparent;\n",
              "      border-bottom-color: var(--fill-color);\n",
              "    }\n",
              "  }\n",
              "</style>\n",
              "\n",
              "      <script>\n",
              "        async function quickchart(key) {\n",
              "          const quickchartButtonEl =\n",
              "            document.querySelector('#' + key + ' button');\n",
              "          quickchartButtonEl.disabled = true;  // To prevent multiple clicks.\n",
              "          quickchartButtonEl.classList.add('colab-df-spinner');\n",
              "          try {\n",
              "            const charts = await google.colab.kernel.invokeFunction(\n",
              "                'suggestCharts', [key], {});\n",
              "          } catch (error) {\n",
              "            console.error('Error during call to suggestCharts:', error);\n",
              "          }\n",
              "          quickchartButtonEl.classList.remove('colab-df-spinner');\n",
              "          quickchartButtonEl.classList.add('colab-df-quickchart-complete');\n",
              "        }\n",
              "        (() => {\n",
              "          let quickchartButtonEl =\n",
              "            document.querySelector('#df-99e63111-2ab4-4cf7-86b6-a007c999b811 button');\n",
              "          quickchartButtonEl.style.display =\n",
              "            google.colab.kernel.accessAllowed ? 'block' : 'none';\n",
              "        })();\n",
              "      </script>\n",
              "    </div>\n",
              "\n",
              "    </div>\n",
              "  </div>\n"
            ],
            "application/vnd.google.colaboratory.intrinsic+json": {
              "type": "dataframe",
              "variable_name": "spotify_df",
              "summary": "{\n  \"name\": \"spotify_df\",\n  \"rows\": 6509,\n  \"fields\": [\n    {\n      \"column\": \"id\",\n      \"properties\": {\n        \"dtype\": \"string\",\n        \"num_unique_values\": 6509,\n        \"samples\": [\n          \"1Wolb8MRcXR2IMMaELTRpE\",\n          \"4hy7qTxsnyZUZoqo5RtaYq\",\n          \"4zWO4gvuFtw6EJZC5FFGlr\"\n        ],\n        \"semantic_type\": \"\",\n        \"description\": \"\"\n      }\n    },\n    {\n      \"column\": \"artist_names\",\n      \"properties\": {\n        \"dtype\": \"category\",\n        \"num_unique_values\": 2998,\n        \"samples\": [\n          \"Pop Smoke, A Boogie Wit da Hoodie\",\n          \"Bill Withers\",\n          \"The Chainsmokers, XYL\\u00d8\"\n        ],\n        \"semantic_type\": \"\",\n        \"description\": \"\"\n      }\n    },\n    {\n      \"column\": \"track_name\",\n      \"properties\": {\n        \"dtype\": \"string\",\n        \"num_unique_values\": 5348,\n        \"samples\": [\n          \"Parado no Bail\\u00e3o\",\n          \"all my friends\",\n          \"Don't Leave\"\n        ],\n        \"semantic_type\": \"\",\n        \"description\": \"\"\n      }\n    },\n    {\n      \"column\": \"source\",\n      \"properties\": {\n        \"dtype\": \"category\",\n        \"num_unique_values\": 965,\n        \"samples\": [\n          \"Yng Lvcas\",\n          \"Galactic / Republic Records\",\n          \"Olivia Rodrigo PS\"\n        ],\n        \"semantic_type\": \"\",\n        \"description\": \"\"\n      }\n    },\n    {\n      \"column\": \"mode\",\n      \"properties\": {\n        \"dtype\": \"category\",\n        \"num_unique_values\": 2,\n        \"samples\": [\n          \"Minor\",\n          \"Major\"\n        ],\n        \"semantic_type\": \"\",\n        \"description\": \"\"\n      }\n    },\n    {\n      \"column\": \"time_signature\",\n      \"properties\": {\n        \"dtype\": \"category\",\n        \"num_unique_values\": 4,\n        \"samples\": [\n          \"5 beats\",\n          \"1\"\n        ],\n        \"semantic_type\": \"\",\n        \"description\": \"\"\n      }\n    },\n    {\n      \"column\": \"key\",\n      \"properties\": {\n        \"dtype\": \"number\",\n        \"std\": 3.6447721863587237,\n        \"min\": 0.0,\n        \"max\": 11.0,\n        \"num_unique_values\": 12,\n        \"samples\": [\n          6.0,\n          2.0\n        ],\n        \"semantic_type\": \"\",\n        \"description\": \"\"\n      }\n    },\n    {\n      \"column\": \"danceability\",\n      \"properties\": {\n        \"dtype\": \"number\",\n        \"std\": 0.14172758856479867,\n        \"min\": 0.15,\n        \"max\": 0.985,\n        \"num_unique_values\": 686,\n        \"samples\": [\n          0.505,\n          0.943\n        ],\n        \"semantic_type\": \"\",\n        \"description\": \"\"\n      }\n    },\n    {\n      \"column\": \"energy\",\n      \"properties\": {\n        \"dtype\": \"number\",\n        \"std\": 0.1647861362908941,\n        \"min\": 0.0218,\n        \"max\": 0.989,\n        \"num_unique_values\": 805,\n        \"samples\": [\n          0.331,\n          0.941\n        ],\n        \"semantic_type\": \"\",\n        \"description\": \"\"\n      }\n    },\n    {\n      \"column\": \"speechiness\",\n      \"properties\": {\n        \"dtype\": \"number\",\n        \"std\": 0.11346688139790721,\n        \"min\": 0.0232,\n        \"max\": 0.966,\n        \"num_unique_values\": 1146,\n        \"samples\": [\n          0.0686,\n          0.0968\n        ],\n        \"semantic_type\": \"\",\n        \"description\": \"\"\n      }\n    },\n    {\n      \"column\": \"acousticness\",\n      \"properties\": {\n        \"dtype\": \"number\",\n        \"std\": 0.24468424659600738,\n        \"min\": 7.53e-06,\n        \"max\": 0.994,\n        \"num_unique_values\": 2019,\n        \"samples\": [\n          0.000239,\n          0.0209\n        ],\n        \"semantic_type\": \"\",\n        \"description\": \"\"\n      }\n    },\n    {\n      \"column\": \"instrumentalness\",\n      \"properties\": {\n        \"dtype\": \"number\",\n        \"std\": 0.07517346185949034,\n        \"min\": 0.0,\n        \"max\": 0.953,\n        \"num_unique_values\": 1831,\n        \"samples\": [\n          0.00614,\n          0.00344\n        ],\n        \"semantic_type\": \"\",\n        \"description\": \"\"\n      }\n    },\n    {\n      \"column\": \"liveness\",\n      \"properties\": {\n        \"dtype\": \"number\",\n        \"std\": 0.13805370347373494,\n        \"min\": 0.0197,\n        \"max\": 0.977,\n        \"num_unique_values\": 1071,\n        \"samples\": [\n          0.116,\n          0.0578\n        ],\n        \"semantic_type\": \"\",\n        \"description\": \"\"\n      }\n    },\n    {\n      \"column\": \"valence\",\n      \"properties\": {\n        \"dtype\": \"number\",\n        \"std\": 0.22684559019419717,\n        \"min\": 0.032,\n        \"max\": 0.982,\n        \"num_unique_values\": 1013,\n        \"samples\": [\n          0.0789,\n          0.0392\n        ],\n        \"semantic_type\": \"\",\n        \"description\": \"\"\n      }\n    },\n    {\n      \"column\": \"loudness\",\n      \"properties\": {\n        \"dtype\": \"number\",\n        \"std\": 2.5302296466968106,\n        \"min\": -34.475,\n        \"max\": -0.02,\n        \"num_unique_values\": 4252,\n        \"samples\": [\n          -6.427,\n          -8.117\n        ],\n        \"semantic_type\": \"\",\n        \"description\": \"\"\n      }\n    },\n    {\n      \"column\": \"tempo\",\n      \"properties\": {\n        \"dtype\": \"number\",\n        \"std\": 29.418168849305342,\n        \"min\": 46.718,\n        \"max\": 212.117,\n        \"num_unique_values\": 5352,\n        \"samples\": [\n          96.985,\n          105.137\n        ],\n        \"semantic_type\": \"\",\n        \"description\": \"\"\n      }\n    },\n    {\n      \"column\": \"duration_ms\",\n      \"properties\": {\n        \"dtype\": \"number\",\n        \"std\": 49207,\n        \"min\": 30133,\n        \"max\": 690732,\n        \"num_unique_values\": 5458,\n        \"samples\": [\n          277030,\n          200080\n        ],\n        \"semantic_type\": \"\",\n        \"description\": \"\"\n      }\n    },\n    {\n      \"column\": \"weeks_on_chart\",\n      \"properties\": {\n        \"dtype\": \"number\",\n        \"std\": 24,\n        \"min\": 1,\n        \"max\": 367,\n        \"num_unique_values\": 159,\n        \"samples\": [\n          367,\n          217\n        ],\n        \"semantic_type\": \"\",\n        \"description\": \"\"\n      }\n    },\n    {\n      \"column\": \"streams\",\n      \"properties\": {\n        \"dtype\": \"number\",\n        \"std\": 227727117,\n        \"min\": 2525159,\n        \"max\": 3528450184,\n        \"num_unique_values\": 6509,\n        \"samples\": [\n          3854154,\n          81342954\n        ],\n        \"semantic_type\": \"\",\n        \"description\": \"\"\n      }\n    }\n  ]\n}"
            }
          },
          "metadata": {},
          "execution_count": 76
        }
      ],
      "source": [
        "col = spotify_df.pop('key')\n",
        "spotify_df.insert(6, 'key', col)\n",
        "\n",
        "# Menampilkan beberapa baris data\n",
        "spotify_df.head()"
      ]
    },
    {
      "cell_type": "markdown",
      "id": "736190df-6b4a-4b3e-83a4-8d31d836cd38",
      "metadata": {
        "id": "736190df-6b4a-4b3e-83a4-8d31d836cd38"
      },
      "source": [
        "#### Mengubah kolom time signature menjadi angka, tidak ada kata 'beats'"
      ]
    },
    {
      "cell_type": "code",
      "execution_count": 77,
      "id": "0099dea2-7a6b-4e91-bbf6-97ea0311eff8",
      "metadata": {
        "id": "0099dea2-7a6b-4e91-bbf6-97ea0311eff8"
      },
      "outputs": [],
      "source": [
        "# Remove the word \"beats\" from the 'time_signature' column\n",
        "spotify_df['time_signature'] = spotify_df['time_signature'].str.replace(' beats', '', regex=False)\n",
        "\n",
        "# Convert the column to numeric (if needed, in case there are any non-numeric values)\n",
        "spotify_df['time_signature'] = pd.to_numeric(spotify_df['time_signature'], errors='coerce')"
      ]
    },
    {
      "cell_type": "code",
      "execution_count": 78,
      "id": "b0c389f6-4ae7-41c0-895f-d3b8648dfa26",
      "metadata": {
        "id": "b0c389f6-4ae7-41c0-895f-d3b8648dfa26",
        "colab": {
          "base_uri": "https://localhost:8080/",
          "height": 241
        },
        "outputId": "2feb3746-27e2-4235-862d-482fb05cdae4"
      },
      "outputs": [
        {
          "output_type": "execute_result",
          "data": {
            "text/plain": [
              "time_signature\n",
              "4    6053\n",
              "3     324\n",
              "5     107\n",
              "1      25\n",
              "Name: count, dtype: int64"
            ],
            "text/html": [
              "<div>\n",
              "<style scoped>\n",
              "    .dataframe tbody tr th:only-of-type {\n",
              "        vertical-align: middle;\n",
              "    }\n",
              "\n",
              "    .dataframe tbody tr th {\n",
              "        vertical-align: top;\n",
              "    }\n",
              "\n",
              "    .dataframe thead th {\n",
              "        text-align: right;\n",
              "    }\n",
              "</style>\n",
              "<table border=\"1\" class=\"dataframe\">\n",
              "  <thead>\n",
              "    <tr style=\"text-align: right;\">\n",
              "      <th></th>\n",
              "      <th>count</th>\n",
              "    </tr>\n",
              "    <tr>\n",
              "      <th>time_signature</th>\n",
              "      <th></th>\n",
              "    </tr>\n",
              "  </thead>\n",
              "  <tbody>\n",
              "    <tr>\n",
              "      <th>4</th>\n",
              "      <td>6053</td>\n",
              "    </tr>\n",
              "    <tr>\n",
              "      <th>3</th>\n",
              "      <td>324</td>\n",
              "    </tr>\n",
              "    <tr>\n",
              "      <th>5</th>\n",
              "      <td>107</td>\n",
              "    </tr>\n",
              "    <tr>\n",
              "      <th>1</th>\n",
              "      <td>25</td>\n",
              "    </tr>\n",
              "  </tbody>\n",
              "</table>\n",
              "</div><br><label><b>dtype:</b> int64</label>"
            ]
          },
          "metadata": {},
          "execution_count": 78
        }
      ],
      "source": [
        "spotify_df['time_signature'].value_counts()"
      ]
    },
    {
      "cell_type": "markdown",
      "id": "7773a51d-76fd-4f51-b1b7-f7f2496551a1",
      "metadata": {
        "id": "7773a51d-76fd-4f51-b1b7-f7f2496551a1"
      },
      "source": [
        "#### Menambahkan kolom dengan duration dan mengubah dalam bentuk menit serta menghapus kolom duration_ms.\n"
      ]
    },
    {
      "cell_type": "code",
      "execution_count": 79,
      "id": "c09667bd-2beb-4def-9902-7fe69e97839e",
      "metadata": {
        "id": "c09667bd-2beb-4def-9902-7fe69e97839e",
        "colab": {
          "base_uri": "https://localhost:8080/",
          "height": 347
        },
        "outputId": "e24619e3-665b-43fb-9de3-d1147b3b1175"
      },
      "outputs": [
        {
          "output_type": "execute_result",
          "data": {
            "text/plain": [
              "                       id                artist_names  \\\n",
              "0  000xQL6tZNLJzIrtIgxqSl         ZAYN, PARTYNEXTDOOR   \n",
              "1  003eoIwxETJujVWmNFMoZy                Alessia Cara   \n",
              "2  003vvx7Niy0yvhvHt4a68B                 The Killers   \n",
              "3  00B7TZ0Xawar6NZ00JFomN  Cardi B, Chance the Rapper   \n",
              "4  00Blm7zeNqgYLPtW6zg8cj     Post Malone, The Weeknd   \n",
              "\n",
              "                             track_name              source   mode  \\\n",
              "0  Still Got Time (feat. PARTYNEXTDOOR)   RCA Records Label  Major   \n",
              "1                         Growing Pains  Def Jam Recordings  Minor   \n",
              "2                        Mr. Brightside      Island Records  Major   \n",
              "3   Best Life (feat. Chance The Rapper)        Atlantic/KSR  Major   \n",
              "4       One Right Now (with The Weeknd)    Republic Records  Major   \n",
              "\n",
              "   time_signature  key  danceability  energy  speechiness  acousticness  \\\n",
              "0               4  7.0         0.748   0.627       0.0639       0.13100   \n",
              "1               4  1.0         0.353   0.755       0.7330       0.08220   \n",
              "2               4  1.0         0.352   0.911       0.0747       0.00121   \n",
              "3               4  9.0         0.620   0.625       0.5530       0.28700   \n",
              "4               4  1.0         0.687   0.781       0.0530       0.03610   \n",
              "\n",
              "   instrumentalness  liveness  valence  loudness    tempo  weeks_on_chart  \\\n",
              "0               0.0    0.0852    0.524    -6.029  120.963              17   \n",
              "1               0.0    0.3900    0.437    -6.276  191.153               2   \n",
              "2               0.0    0.0995    0.236    -5.230  148.033             125   \n",
              "3               0.0    0.3140    0.665    -7.438  167.911               2   \n",
              "4               0.0    0.0755    0.688    -4.806   97.014              30   \n",
              "\n",
              "     streams  duration  \n",
              "0  107527761  3.141517  \n",
              "1    9944865  3.228000  \n",
              "2  512388123  3.716217  \n",
              "3   11985346  4.747600  \n",
              "4  301860377  3.225117  "
            ],
            "text/html": [
              "\n",
              "  <div id=\"df-81de0110-52a8-4456-864e-d2b0bcb8f4aa\" class=\"colab-df-container\">\n",
              "    <div>\n",
              "<style scoped>\n",
              "    .dataframe tbody tr th:only-of-type {\n",
              "        vertical-align: middle;\n",
              "    }\n",
              "\n",
              "    .dataframe tbody tr th {\n",
              "        vertical-align: top;\n",
              "    }\n",
              "\n",
              "    .dataframe thead th {\n",
              "        text-align: right;\n",
              "    }\n",
              "</style>\n",
              "<table border=\"1\" class=\"dataframe\">\n",
              "  <thead>\n",
              "    <tr style=\"text-align: right;\">\n",
              "      <th></th>\n",
              "      <th>id</th>\n",
              "      <th>artist_names</th>\n",
              "      <th>track_name</th>\n",
              "      <th>source</th>\n",
              "      <th>mode</th>\n",
              "      <th>time_signature</th>\n",
              "      <th>key</th>\n",
              "      <th>danceability</th>\n",
              "      <th>energy</th>\n",
              "      <th>speechiness</th>\n",
              "      <th>acousticness</th>\n",
              "      <th>instrumentalness</th>\n",
              "      <th>liveness</th>\n",
              "      <th>valence</th>\n",
              "      <th>loudness</th>\n",
              "      <th>tempo</th>\n",
              "      <th>weeks_on_chart</th>\n",
              "      <th>streams</th>\n",
              "      <th>duration</th>\n",
              "    </tr>\n",
              "  </thead>\n",
              "  <tbody>\n",
              "    <tr>\n",
              "      <th>0</th>\n",
              "      <td>000xQL6tZNLJzIrtIgxqSl</td>\n",
              "      <td>ZAYN, PARTYNEXTDOOR</td>\n",
              "      <td>Still Got Time (feat. PARTYNEXTDOOR)</td>\n",
              "      <td>RCA Records Label</td>\n",
              "      <td>Major</td>\n",
              "      <td>4</td>\n",
              "      <td>7.0</td>\n",
              "      <td>0.748</td>\n",
              "      <td>0.627</td>\n",
              "      <td>0.0639</td>\n",
              "      <td>0.13100</td>\n",
              "      <td>0.0</td>\n",
              "      <td>0.0852</td>\n",
              "      <td>0.524</td>\n",
              "      <td>-6.029</td>\n",
              "      <td>120.963</td>\n",
              "      <td>17</td>\n",
              "      <td>107527761</td>\n",
              "      <td>3.141517</td>\n",
              "    </tr>\n",
              "    <tr>\n",
              "      <th>1</th>\n",
              "      <td>003eoIwxETJujVWmNFMoZy</td>\n",
              "      <td>Alessia Cara</td>\n",
              "      <td>Growing Pains</td>\n",
              "      <td>Def Jam Recordings</td>\n",
              "      <td>Minor</td>\n",
              "      <td>4</td>\n",
              "      <td>1.0</td>\n",
              "      <td>0.353</td>\n",
              "      <td>0.755</td>\n",
              "      <td>0.7330</td>\n",
              "      <td>0.08220</td>\n",
              "      <td>0.0</td>\n",
              "      <td>0.3900</td>\n",
              "      <td>0.437</td>\n",
              "      <td>-6.276</td>\n",
              "      <td>191.153</td>\n",
              "      <td>2</td>\n",
              "      <td>9944865</td>\n",
              "      <td>3.228000</td>\n",
              "    </tr>\n",
              "    <tr>\n",
              "      <th>2</th>\n",
              "      <td>003vvx7Niy0yvhvHt4a68B</td>\n",
              "      <td>The Killers</td>\n",
              "      <td>Mr. Brightside</td>\n",
              "      <td>Island Records</td>\n",
              "      <td>Major</td>\n",
              "      <td>4</td>\n",
              "      <td>1.0</td>\n",
              "      <td>0.352</td>\n",
              "      <td>0.911</td>\n",
              "      <td>0.0747</td>\n",
              "      <td>0.00121</td>\n",
              "      <td>0.0</td>\n",
              "      <td>0.0995</td>\n",
              "      <td>0.236</td>\n",
              "      <td>-5.230</td>\n",
              "      <td>148.033</td>\n",
              "      <td>125</td>\n",
              "      <td>512388123</td>\n",
              "      <td>3.716217</td>\n",
              "    </tr>\n",
              "    <tr>\n",
              "      <th>3</th>\n",
              "      <td>00B7TZ0Xawar6NZ00JFomN</td>\n",
              "      <td>Cardi B, Chance the Rapper</td>\n",
              "      <td>Best Life (feat. Chance The Rapper)</td>\n",
              "      <td>Atlantic/KSR</td>\n",
              "      <td>Major</td>\n",
              "      <td>4</td>\n",
              "      <td>9.0</td>\n",
              "      <td>0.620</td>\n",
              "      <td>0.625</td>\n",
              "      <td>0.5530</td>\n",
              "      <td>0.28700</td>\n",
              "      <td>0.0</td>\n",
              "      <td>0.3140</td>\n",
              "      <td>0.665</td>\n",
              "      <td>-7.438</td>\n",
              "      <td>167.911</td>\n",
              "      <td>2</td>\n",
              "      <td>11985346</td>\n",
              "      <td>4.747600</td>\n",
              "    </tr>\n",
              "    <tr>\n",
              "      <th>4</th>\n",
              "      <td>00Blm7zeNqgYLPtW6zg8cj</td>\n",
              "      <td>Post Malone, The Weeknd</td>\n",
              "      <td>One Right Now (with The Weeknd)</td>\n",
              "      <td>Republic Records</td>\n",
              "      <td>Major</td>\n",
              "      <td>4</td>\n",
              "      <td>1.0</td>\n",
              "      <td>0.687</td>\n",
              "      <td>0.781</td>\n",
              "      <td>0.0530</td>\n",
              "      <td>0.03610</td>\n",
              "      <td>0.0</td>\n",
              "      <td>0.0755</td>\n",
              "      <td>0.688</td>\n",
              "      <td>-4.806</td>\n",
              "      <td>97.014</td>\n",
              "      <td>30</td>\n",
              "      <td>301860377</td>\n",
              "      <td>3.225117</td>\n",
              "    </tr>\n",
              "  </tbody>\n",
              "</table>\n",
              "</div>\n",
              "    <div class=\"colab-df-buttons\">\n",
              "\n",
              "  <div class=\"colab-df-container\">\n",
              "    <button class=\"colab-df-convert\" onclick=\"convertToInteractive('df-81de0110-52a8-4456-864e-d2b0bcb8f4aa')\"\n",
              "            title=\"Convert this dataframe to an interactive table.\"\n",
              "            style=\"display:none;\">\n",
              "\n",
              "  <svg xmlns=\"http://www.w3.org/2000/svg\" height=\"24px\" viewBox=\"0 -960 960 960\">\n",
              "    <path d=\"M120-120v-720h720v720H120Zm60-500h600v-160H180v160Zm220 220h160v-160H400v160Zm0 220h160v-160H400v160ZM180-400h160v-160H180v160Zm440 0h160v-160H620v160ZM180-180h160v-160H180v160Zm440 0h160v-160H620v160Z\"/>\n",
              "  </svg>\n",
              "    </button>\n",
              "\n",
              "  <style>\n",
              "    .colab-df-container {\n",
              "      display:flex;\n",
              "      gap: 12px;\n",
              "    }\n",
              "\n",
              "    .colab-df-convert {\n",
              "      background-color: #E8F0FE;\n",
              "      border: none;\n",
              "      border-radius: 50%;\n",
              "      cursor: pointer;\n",
              "      display: none;\n",
              "      fill: #1967D2;\n",
              "      height: 32px;\n",
              "      padding: 0 0 0 0;\n",
              "      width: 32px;\n",
              "    }\n",
              "\n",
              "    .colab-df-convert:hover {\n",
              "      background-color: #E2EBFA;\n",
              "      box-shadow: 0px 1px 2px rgba(60, 64, 67, 0.3), 0px 1px 3px 1px rgba(60, 64, 67, 0.15);\n",
              "      fill: #174EA6;\n",
              "    }\n",
              "\n",
              "    .colab-df-buttons div {\n",
              "      margin-bottom: 4px;\n",
              "    }\n",
              "\n",
              "    [theme=dark] .colab-df-convert {\n",
              "      background-color: #3B4455;\n",
              "      fill: #D2E3FC;\n",
              "    }\n",
              "\n",
              "    [theme=dark] .colab-df-convert:hover {\n",
              "      background-color: #434B5C;\n",
              "      box-shadow: 0px 1px 3px 1px rgba(0, 0, 0, 0.15);\n",
              "      filter: drop-shadow(0px 1px 2px rgba(0, 0, 0, 0.3));\n",
              "      fill: #FFFFFF;\n",
              "    }\n",
              "  </style>\n",
              "\n",
              "    <script>\n",
              "      const buttonEl =\n",
              "        document.querySelector('#df-81de0110-52a8-4456-864e-d2b0bcb8f4aa button.colab-df-convert');\n",
              "      buttonEl.style.display =\n",
              "        google.colab.kernel.accessAllowed ? 'block' : 'none';\n",
              "\n",
              "      async function convertToInteractive(key) {\n",
              "        const element = document.querySelector('#df-81de0110-52a8-4456-864e-d2b0bcb8f4aa');\n",
              "        const dataTable =\n",
              "          await google.colab.kernel.invokeFunction('convertToInteractive',\n",
              "                                                    [key], {});\n",
              "        if (!dataTable) return;\n",
              "\n",
              "        const docLinkHtml = 'Like what you see? Visit the ' +\n",
              "          '<a target=\"_blank\" href=https://colab.research.google.com/notebooks/data_table.ipynb>data table notebook</a>'\n",
              "          + ' to learn more about interactive tables.';\n",
              "        element.innerHTML = '';\n",
              "        dataTable['output_type'] = 'display_data';\n",
              "        await google.colab.output.renderOutput(dataTable, element);\n",
              "        const docLink = document.createElement('div');\n",
              "        docLink.innerHTML = docLinkHtml;\n",
              "        element.appendChild(docLink);\n",
              "      }\n",
              "    </script>\n",
              "  </div>\n",
              "\n",
              "\n",
              "    <div id=\"df-baee4d27-8001-4773-8fda-af294e4dfd12\">\n",
              "      <button class=\"colab-df-quickchart\" onclick=\"quickchart('df-baee4d27-8001-4773-8fda-af294e4dfd12')\"\n",
              "                title=\"Suggest charts\"\n",
              "                style=\"display:none;\">\n",
              "\n",
              "<svg xmlns=\"http://www.w3.org/2000/svg\" height=\"24px\"viewBox=\"0 0 24 24\"\n",
              "     width=\"24px\">\n",
              "    <g>\n",
              "        <path d=\"M19 3H5c-1.1 0-2 .9-2 2v14c0 1.1.9 2 2 2h14c1.1 0 2-.9 2-2V5c0-1.1-.9-2-2-2zM9 17H7v-7h2v7zm4 0h-2V7h2v10zm4 0h-2v-4h2v4z\"/>\n",
              "    </g>\n",
              "</svg>\n",
              "      </button>\n",
              "\n",
              "<style>\n",
              "  .colab-df-quickchart {\n",
              "      --bg-color: #E8F0FE;\n",
              "      --fill-color: #1967D2;\n",
              "      --hover-bg-color: #E2EBFA;\n",
              "      --hover-fill-color: #174EA6;\n",
              "      --disabled-fill-color: #AAA;\n",
              "      --disabled-bg-color: #DDD;\n",
              "  }\n",
              "\n",
              "  [theme=dark] .colab-df-quickchart {\n",
              "      --bg-color: #3B4455;\n",
              "      --fill-color: #D2E3FC;\n",
              "      --hover-bg-color: #434B5C;\n",
              "      --hover-fill-color: #FFFFFF;\n",
              "      --disabled-bg-color: #3B4455;\n",
              "      --disabled-fill-color: #666;\n",
              "  }\n",
              "\n",
              "  .colab-df-quickchart {\n",
              "    background-color: var(--bg-color);\n",
              "    border: none;\n",
              "    border-radius: 50%;\n",
              "    cursor: pointer;\n",
              "    display: none;\n",
              "    fill: var(--fill-color);\n",
              "    height: 32px;\n",
              "    padding: 0;\n",
              "    width: 32px;\n",
              "  }\n",
              "\n",
              "  .colab-df-quickchart:hover {\n",
              "    background-color: var(--hover-bg-color);\n",
              "    box-shadow: 0 1px 2px rgba(60, 64, 67, 0.3), 0 1px 3px 1px rgba(60, 64, 67, 0.15);\n",
              "    fill: var(--button-hover-fill-color);\n",
              "  }\n",
              "\n",
              "  .colab-df-quickchart-complete:disabled,\n",
              "  .colab-df-quickchart-complete:disabled:hover {\n",
              "    background-color: var(--disabled-bg-color);\n",
              "    fill: var(--disabled-fill-color);\n",
              "    box-shadow: none;\n",
              "  }\n",
              "\n",
              "  .colab-df-spinner {\n",
              "    border: 2px solid var(--fill-color);\n",
              "    border-color: transparent;\n",
              "    border-bottom-color: var(--fill-color);\n",
              "    animation:\n",
              "      spin 1s steps(1) infinite;\n",
              "  }\n",
              "\n",
              "  @keyframes spin {\n",
              "    0% {\n",
              "      border-color: transparent;\n",
              "      border-bottom-color: var(--fill-color);\n",
              "      border-left-color: var(--fill-color);\n",
              "    }\n",
              "    20% {\n",
              "      border-color: transparent;\n",
              "      border-left-color: var(--fill-color);\n",
              "      border-top-color: var(--fill-color);\n",
              "    }\n",
              "    30% {\n",
              "      border-color: transparent;\n",
              "      border-left-color: var(--fill-color);\n",
              "      border-top-color: var(--fill-color);\n",
              "      border-right-color: var(--fill-color);\n",
              "    }\n",
              "    40% {\n",
              "      border-color: transparent;\n",
              "      border-right-color: var(--fill-color);\n",
              "      border-top-color: var(--fill-color);\n",
              "    }\n",
              "    60% {\n",
              "      border-color: transparent;\n",
              "      border-right-color: var(--fill-color);\n",
              "    }\n",
              "    80% {\n",
              "      border-color: transparent;\n",
              "      border-right-color: var(--fill-color);\n",
              "      border-bottom-color: var(--fill-color);\n",
              "    }\n",
              "    90% {\n",
              "      border-color: transparent;\n",
              "      border-bottom-color: var(--fill-color);\n",
              "    }\n",
              "  }\n",
              "</style>\n",
              "\n",
              "      <script>\n",
              "        async function quickchart(key) {\n",
              "          const quickchartButtonEl =\n",
              "            document.querySelector('#' + key + ' button');\n",
              "          quickchartButtonEl.disabled = true;  // To prevent multiple clicks.\n",
              "          quickchartButtonEl.classList.add('colab-df-spinner');\n",
              "          try {\n",
              "            const charts = await google.colab.kernel.invokeFunction(\n",
              "                'suggestCharts', [key], {});\n",
              "          } catch (error) {\n",
              "            console.error('Error during call to suggestCharts:', error);\n",
              "          }\n",
              "          quickchartButtonEl.classList.remove('colab-df-spinner');\n",
              "          quickchartButtonEl.classList.add('colab-df-quickchart-complete');\n",
              "        }\n",
              "        (() => {\n",
              "          let quickchartButtonEl =\n",
              "            document.querySelector('#df-baee4d27-8001-4773-8fda-af294e4dfd12 button');\n",
              "          quickchartButtonEl.style.display =\n",
              "            google.colab.kernel.accessAllowed ? 'block' : 'none';\n",
              "        })();\n",
              "      </script>\n",
              "    </div>\n",
              "\n",
              "    </div>\n",
              "  </div>\n"
            ],
            "application/vnd.google.colaboratory.intrinsic+json": {
              "type": "dataframe",
              "variable_name": "spotify_df",
              "summary": "{\n  \"name\": \"spotify_df\",\n  \"rows\": 6509,\n  \"fields\": [\n    {\n      \"column\": \"id\",\n      \"properties\": {\n        \"dtype\": \"string\",\n        \"num_unique_values\": 6509,\n        \"samples\": [\n          \"1Wolb8MRcXR2IMMaELTRpE\",\n          \"4hy7qTxsnyZUZoqo5RtaYq\",\n          \"4zWO4gvuFtw6EJZC5FFGlr\"\n        ],\n        \"semantic_type\": \"\",\n        \"description\": \"\"\n      }\n    },\n    {\n      \"column\": \"artist_names\",\n      \"properties\": {\n        \"dtype\": \"category\",\n        \"num_unique_values\": 2998,\n        \"samples\": [\n          \"Pop Smoke, A Boogie Wit da Hoodie\",\n          \"Bill Withers\",\n          \"The Chainsmokers, XYL\\u00d8\"\n        ],\n        \"semantic_type\": \"\",\n        \"description\": \"\"\n      }\n    },\n    {\n      \"column\": \"track_name\",\n      \"properties\": {\n        \"dtype\": \"string\",\n        \"num_unique_values\": 5348,\n        \"samples\": [\n          \"Parado no Bail\\u00e3o\",\n          \"all my friends\",\n          \"Don't Leave\"\n        ],\n        \"semantic_type\": \"\",\n        \"description\": \"\"\n      }\n    },\n    {\n      \"column\": \"source\",\n      \"properties\": {\n        \"dtype\": \"category\",\n        \"num_unique_values\": 965,\n        \"samples\": [\n          \"Yng Lvcas\",\n          \"Galactic / Republic Records\",\n          \"Olivia Rodrigo PS\"\n        ],\n        \"semantic_type\": \"\",\n        \"description\": \"\"\n      }\n    },\n    {\n      \"column\": \"mode\",\n      \"properties\": {\n        \"dtype\": \"category\",\n        \"num_unique_values\": 2,\n        \"samples\": [\n          \"Minor\",\n          \"Major\"\n        ],\n        \"semantic_type\": \"\",\n        \"description\": \"\"\n      }\n    },\n    {\n      \"column\": \"time_signature\",\n      \"properties\": {\n        \"dtype\": \"number\",\n        \"std\": 0,\n        \"min\": 1,\n        \"max\": 5,\n        \"num_unique_values\": 4,\n        \"samples\": [\n          5,\n          1\n        ],\n        \"semantic_type\": \"\",\n        \"description\": \"\"\n      }\n    },\n    {\n      \"column\": \"key\",\n      \"properties\": {\n        \"dtype\": \"number\",\n        \"std\": 3.6447721863587237,\n        \"min\": 0.0,\n        \"max\": 11.0,\n        \"num_unique_values\": 12,\n        \"samples\": [\n          6.0,\n          2.0\n        ],\n        \"semantic_type\": \"\",\n        \"description\": \"\"\n      }\n    },\n    {\n      \"column\": \"danceability\",\n      \"properties\": {\n        \"dtype\": \"number\",\n        \"std\": 0.14172758856479867,\n        \"min\": 0.15,\n        \"max\": 0.985,\n        \"num_unique_values\": 686,\n        \"samples\": [\n          0.505,\n          0.943\n        ],\n        \"semantic_type\": \"\",\n        \"description\": \"\"\n      }\n    },\n    {\n      \"column\": \"energy\",\n      \"properties\": {\n        \"dtype\": \"number\",\n        \"std\": 0.1647861362908941,\n        \"min\": 0.0218,\n        \"max\": 0.989,\n        \"num_unique_values\": 805,\n        \"samples\": [\n          0.331,\n          0.941\n        ],\n        \"semantic_type\": \"\",\n        \"description\": \"\"\n      }\n    },\n    {\n      \"column\": \"speechiness\",\n      \"properties\": {\n        \"dtype\": \"number\",\n        \"std\": 0.11346688139790721,\n        \"min\": 0.0232,\n        \"max\": 0.966,\n        \"num_unique_values\": 1146,\n        \"samples\": [\n          0.0686,\n          0.0968\n        ],\n        \"semantic_type\": \"\",\n        \"description\": \"\"\n      }\n    },\n    {\n      \"column\": \"acousticness\",\n      \"properties\": {\n        \"dtype\": \"number\",\n        \"std\": 0.24468424659600738,\n        \"min\": 7.53e-06,\n        \"max\": 0.994,\n        \"num_unique_values\": 2019,\n        \"samples\": [\n          0.000239,\n          0.0209\n        ],\n        \"semantic_type\": \"\",\n        \"description\": \"\"\n      }\n    },\n    {\n      \"column\": \"instrumentalness\",\n      \"properties\": {\n        \"dtype\": \"number\",\n        \"std\": 0.07517346185949034,\n        \"min\": 0.0,\n        \"max\": 0.953,\n        \"num_unique_values\": 1831,\n        \"samples\": [\n          0.00614,\n          0.00344\n        ],\n        \"semantic_type\": \"\",\n        \"description\": \"\"\n      }\n    },\n    {\n      \"column\": \"liveness\",\n      \"properties\": {\n        \"dtype\": \"number\",\n        \"std\": 0.13805370347373494,\n        \"min\": 0.0197,\n        \"max\": 0.977,\n        \"num_unique_values\": 1071,\n        \"samples\": [\n          0.116,\n          0.0578\n        ],\n        \"semantic_type\": \"\",\n        \"description\": \"\"\n      }\n    },\n    {\n      \"column\": \"valence\",\n      \"properties\": {\n        \"dtype\": \"number\",\n        \"std\": 0.22684559019419717,\n        \"min\": 0.032,\n        \"max\": 0.982,\n        \"num_unique_values\": 1013,\n        \"samples\": [\n          0.0789,\n          0.0392\n        ],\n        \"semantic_type\": \"\",\n        \"description\": \"\"\n      }\n    },\n    {\n      \"column\": \"loudness\",\n      \"properties\": {\n        \"dtype\": \"number\",\n        \"std\": 2.5302296466968106,\n        \"min\": -34.475,\n        \"max\": -0.02,\n        \"num_unique_values\": 4252,\n        \"samples\": [\n          -6.427,\n          -8.117\n        ],\n        \"semantic_type\": \"\",\n        \"description\": \"\"\n      }\n    },\n    {\n      \"column\": \"tempo\",\n      \"properties\": {\n        \"dtype\": \"number\",\n        \"std\": 29.418168849305342,\n        \"min\": 46.718,\n        \"max\": 212.117,\n        \"num_unique_values\": 5352,\n        \"samples\": [\n          96.985,\n          105.137\n        ],\n        \"semantic_type\": \"\",\n        \"description\": \"\"\n      }\n    },\n    {\n      \"column\": \"weeks_on_chart\",\n      \"properties\": {\n        \"dtype\": \"number\",\n        \"std\": 24,\n        \"min\": 1,\n        \"max\": 367,\n        \"num_unique_values\": 159,\n        \"samples\": [\n          367,\n          217\n        ],\n        \"semantic_type\": \"\",\n        \"description\": \"\"\n      }\n    },\n    {\n      \"column\": \"streams\",\n      \"properties\": {\n        \"dtype\": \"number\",\n        \"std\": 227727117,\n        \"min\": 2525159,\n        \"max\": 3528450184,\n        \"num_unique_values\": 6509,\n        \"samples\": [\n          3854154,\n          81342954\n        ],\n        \"semantic_type\": \"\",\n        \"description\": \"\"\n      }\n    },\n    {\n      \"column\": \"duration\",\n      \"properties\": {\n        \"dtype\": \"number\",\n        \"std\": 0.8201193866052204,\n        \"min\": 0.5022166666666666,\n        \"max\": 11.5122,\n        \"num_unique_values\": 5458,\n        \"samples\": [\n          4.617166666666667,\n          3.3346666666666667\n        ],\n        \"semantic_type\": \"\",\n        \"description\": \"\"\n      }\n    }\n  ]\n}"
            }
          },
          "metadata": {},
          "execution_count": 79
        }
      ],
      "source": [
        "# Mengubah durasi dari milidetik ke menit\n",
        "spotify_df['duration'] = spotify_df['duration_ms'] / 60000  # 1 menit = 60000 ms\n",
        "\n",
        "# Menghapus kolom 'duration_ms' jika tidak diperlukan lagi\n",
        "spotify_df = spotify_df.drop('duration_ms', axis=1)\n",
        "\n",
        "spotify_df.head()"
      ]
    },
    {
      "cell_type": "code",
      "execution_count": 80,
      "id": "e2e7713d-cc1c-419a-9c1d-79d016b691f0",
      "metadata": {
        "id": "e2e7713d-cc1c-419a-9c1d-79d016b691f0",
        "colab": {
          "base_uri": "https://localhost:8080/",
          "height": 347
        },
        "outputId": "61260398-8493-4153-f275-b2c45f396f8e"
      },
      "outputs": [
        {
          "output_type": "execute_result",
          "data": {
            "text/plain": [
              "                       id                artist_names  \\\n",
              "0  000xQL6tZNLJzIrtIgxqSl         ZAYN, PARTYNEXTDOOR   \n",
              "1  003eoIwxETJujVWmNFMoZy                Alessia Cara   \n",
              "2  003vvx7Niy0yvhvHt4a68B                 The Killers   \n",
              "3  00B7TZ0Xawar6NZ00JFomN  Cardi B, Chance the Rapper   \n",
              "4  00Blm7zeNqgYLPtW6zg8cj     Post Malone, The Weeknd   \n",
              "\n",
              "                             track_name  duration              source   mode  \\\n",
              "0  Still Got Time (feat. PARTYNEXTDOOR)  3.141517   RCA Records Label  Major   \n",
              "1                         Growing Pains  3.228000  Def Jam Recordings  Minor   \n",
              "2                        Mr. Brightside  3.716217      Island Records  Major   \n",
              "3   Best Life (feat. Chance The Rapper)  4.747600        Atlantic/KSR  Major   \n",
              "4       One Right Now (with The Weeknd)  3.225117    Republic Records  Major   \n",
              "\n",
              "   time_signature  key  danceability  energy  speechiness  acousticness  \\\n",
              "0               4  7.0         0.748   0.627       0.0639       0.13100   \n",
              "1               4  1.0         0.353   0.755       0.7330       0.08220   \n",
              "2               4  1.0         0.352   0.911       0.0747       0.00121   \n",
              "3               4  9.0         0.620   0.625       0.5530       0.28700   \n",
              "4               4  1.0         0.687   0.781       0.0530       0.03610   \n",
              "\n",
              "   instrumentalness  liveness  valence  loudness    tempo  weeks_on_chart  \\\n",
              "0               0.0    0.0852    0.524    -6.029  120.963              17   \n",
              "1               0.0    0.3900    0.437    -6.276  191.153               2   \n",
              "2               0.0    0.0995    0.236    -5.230  148.033             125   \n",
              "3               0.0    0.3140    0.665    -7.438  167.911               2   \n",
              "4               0.0    0.0755    0.688    -4.806   97.014              30   \n",
              "\n",
              "     streams  \n",
              "0  107527761  \n",
              "1    9944865  \n",
              "2  512388123  \n",
              "3   11985346  \n",
              "4  301860377  "
            ],
            "text/html": [
              "\n",
              "  <div id=\"df-3c08e2de-3dd9-4632-95da-ff5ae56ce611\" class=\"colab-df-container\">\n",
              "    <div>\n",
              "<style scoped>\n",
              "    .dataframe tbody tr th:only-of-type {\n",
              "        vertical-align: middle;\n",
              "    }\n",
              "\n",
              "    .dataframe tbody tr th {\n",
              "        vertical-align: top;\n",
              "    }\n",
              "\n",
              "    .dataframe thead th {\n",
              "        text-align: right;\n",
              "    }\n",
              "</style>\n",
              "<table border=\"1\" class=\"dataframe\">\n",
              "  <thead>\n",
              "    <tr style=\"text-align: right;\">\n",
              "      <th></th>\n",
              "      <th>id</th>\n",
              "      <th>artist_names</th>\n",
              "      <th>track_name</th>\n",
              "      <th>duration</th>\n",
              "      <th>source</th>\n",
              "      <th>mode</th>\n",
              "      <th>time_signature</th>\n",
              "      <th>key</th>\n",
              "      <th>danceability</th>\n",
              "      <th>energy</th>\n",
              "      <th>speechiness</th>\n",
              "      <th>acousticness</th>\n",
              "      <th>instrumentalness</th>\n",
              "      <th>liveness</th>\n",
              "      <th>valence</th>\n",
              "      <th>loudness</th>\n",
              "      <th>tempo</th>\n",
              "      <th>weeks_on_chart</th>\n",
              "      <th>streams</th>\n",
              "    </tr>\n",
              "  </thead>\n",
              "  <tbody>\n",
              "    <tr>\n",
              "      <th>0</th>\n",
              "      <td>000xQL6tZNLJzIrtIgxqSl</td>\n",
              "      <td>ZAYN, PARTYNEXTDOOR</td>\n",
              "      <td>Still Got Time (feat. PARTYNEXTDOOR)</td>\n",
              "      <td>3.141517</td>\n",
              "      <td>RCA Records Label</td>\n",
              "      <td>Major</td>\n",
              "      <td>4</td>\n",
              "      <td>7.0</td>\n",
              "      <td>0.748</td>\n",
              "      <td>0.627</td>\n",
              "      <td>0.0639</td>\n",
              "      <td>0.13100</td>\n",
              "      <td>0.0</td>\n",
              "      <td>0.0852</td>\n",
              "      <td>0.524</td>\n",
              "      <td>-6.029</td>\n",
              "      <td>120.963</td>\n",
              "      <td>17</td>\n",
              "      <td>107527761</td>\n",
              "    </tr>\n",
              "    <tr>\n",
              "      <th>1</th>\n",
              "      <td>003eoIwxETJujVWmNFMoZy</td>\n",
              "      <td>Alessia Cara</td>\n",
              "      <td>Growing Pains</td>\n",
              "      <td>3.228000</td>\n",
              "      <td>Def Jam Recordings</td>\n",
              "      <td>Minor</td>\n",
              "      <td>4</td>\n",
              "      <td>1.0</td>\n",
              "      <td>0.353</td>\n",
              "      <td>0.755</td>\n",
              "      <td>0.7330</td>\n",
              "      <td>0.08220</td>\n",
              "      <td>0.0</td>\n",
              "      <td>0.3900</td>\n",
              "      <td>0.437</td>\n",
              "      <td>-6.276</td>\n",
              "      <td>191.153</td>\n",
              "      <td>2</td>\n",
              "      <td>9944865</td>\n",
              "    </tr>\n",
              "    <tr>\n",
              "      <th>2</th>\n",
              "      <td>003vvx7Niy0yvhvHt4a68B</td>\n",
              "      <td>The Killers</td>\n",
              "      <td>Mr. Brightside</td>\n",
              "      <td>3.716217</td>\n",
              "      <td>Island Records</td>\n",
              "      <td>Major</td>\n",
              "      <td>4</td>\n",
              "      <td>1.0</td>\n",
              "      <td>0.352</td>\n",
              "      <td>0.911</td>\n",
              "      <td>0.0747</td>\n",
              "      <td>0.00121</td>\n",
              "      <td>0.0</td>\n",
              "      <td>0.0995</td>\n",
              "      <td>0.236</td>\n",
              "      <td>-5.230</td>\n",
              "      <td>148.033</td>\n",
              "      <td>125</td>\n",
              "      <td>512388123</td>\n",
              "    </tr>\n",
              "    <tr>\n",
              "      <th>3</th>\n",
              "      <td>00B7TZ0Xawar6NZ00JFomN</td>\n",
              "      <td>Cardi B, Chance the Rapper</td>\n",
              "      <td>Best Life (feat. Chance The Rapper)</td>\n",
              "      <td>4.747600</td>\n",
              "      <td>Atlantic/KSR</td>\n",
              "      <td>Major</td>\n",
              "      <td>4</td>\n",
              "      <td>9.0</td>\n",
              "      <td>0.620</td>\n",
              "      <td>0.625</td>\n",
              "      <td>0.5530</td>\n",
              "      <td>0.28700</td>\n",
              "      <td>0.0</td>\n",
              "      <td>0.3140</td>\n",
              "      <td>0.665</td>\n",
              "      <td>-7.438</td>\n",
              "      <td>167.911</td>\n",
              "      <td>2</td>\n",
              "      <td>11985346</td>\n",
              "    </tr>\n",
              "    <tr>\n",
              "      <th>4</th>\n",
              "      <td>00Blm7zeNqgYLPtW6zg8cj</td>\n",
              "      <td>Post Malone, The Weeknd</td>\n",
              "      <td>One Right Now (with The Weeknd)</td>\n",
              "      <td>3.225117</td>\n",
              "      <td>Republic Records</td>\n",
              "      <td>Major</td>\n",
              "      <td>4</td>\n",
              "      <td>1.0</td>\n",
              "      <td>0.687</td>\n",
              "      <td>0.781</td>\n",
              "      <td>0.0530</td>\n",
              "      <td>0.03610</td>\n",
              "      <td>0.0</td>\n",
              "      <td>0.0755</td>\n",
              "      <td>0.688</td>\n",
              "      <td>-4.806</td>\n",
              "      <td>97.014</td>\n",
              "      <td>30</td>\n",
              "      <td>301860377</td>\n",
              "    </tr>\n",
              "  </tbody>\n",
              "</table>\n",
              "</div>\n",
              "    <div class=\"colab-df-buttons\">\n",
              "\n",
              "  <div class=\"colab-df-container\">\n",
              "    <button class=\"colab-df-convert\" onclick=\"convertToInteractive('df-3c08e2de-3dd9-4632-95da-ff5ae56ce611')\"\n",
              "            title=\"Convert this dataframe to an interactive table.\"\n",
              "            style=\"display:none;\">\n",
              "\n",
              "  <svg xmlns=\"http://www.w3.org/2000/svg\" height=\"24px\" viewBox=\"0 -960 960 960\">\n",
              "    <path d=\"M120-120v-720h720v720H120Zm60-500h600v-160H180v160Zm220 220h160v-160H400v160Zm0 220h160v-160H400v160ZM180-400h160v-160H180v160Zm440 0h160v-160H620v160ZM180-180h160v-160H180v160Zm440 0h160v-160H620v160Z\"/>\n",
              "  </svg>\n",
              "    </button>\n",
              "\n",
              "  <style>\n",
              "    .colab-df-container {\n",
              "      display:flex;\n",
              "      gap: 12px;\n",
              "    }\n",
              "\n",
              "    .colab-df-convert {\n",
              "      background-color: #E8F0FE;\n",
              "      border: none;\n",
              "      border-radius: 50%;\n",
              "      cursor: pointer;\n",
              "      display: none;\n",
              "      fill: #1967D2;\n",
              "      height: 32px;\n",
              "      padding: 0 0 0 0;\n",
              "      width: 32px;\n",
              "    }\n",
              "\n",
              "    .colab-df-convert:hover {\n",
              "      background-color: #E2EBFA;\n",
              "      box-shadow: 0px 1px 2px rgba(60, 64, 67, 0.3), 0px 1px 3px 1px rgba(60, 64, 67, 0.15);\n",
              "      fill: #174EA6;\n",
              "    }\n",
              "\n",
              "    .colab-df-buttons div {\n",
              "      margin-bottom: 4px;\n",
              "    }\n",
              "\n",
              "    [theme=dark] .colab-df-convert {\n",
              "      background-color: #3B4455;\n",
              "      fill: #D2E3FC;\n",
              "    }\n",
              "\n",
              "    [theme=dark] .colab-df-convert:hover {\n",
              "      background-color: #434B5C;\n",
              "      box-shadow: 0px 1px 3px 1px rgba(0, 0, 0, 0.15);\n",
              "      filter: drop-shadow(0px 1px 2px rgba(0, 0, 0, 0.3));\n",
              "      fill: #FFFFFF;\n",
              "    }\n",
              "  </style>\n",
              "\n",
              "    <script>\n",
              "      const buttonEl =\n",
              "        document.querySelector('#df-3c08e2de-3dd9-4632-95da-ff5ae56ce611 button.colab-df-convert');\n",
              "      buttonEl.style.display =\n",
              "        google.colab.kernel.accessAllowed ? 'block' : 'none';\n",
              "\n",
              "      async function convertToInteractive(key) {\n",
              "        const element = document.querySelector('#df-3c08e2de-3dd9-4632-95da-ff5ae56ce611');\n",
              "        const dataTable =\n",
              "          await google.colab.kernel.invokeFunction('convertToInteractive',\n",
              "                                                    [key], {});\n",
              "        if (!dataTable) return;\n",
              "\n",
              "        const docLinkHtml = 'Like what you see? Visit the ' +\n",
              "          '<a target=\"_blank\" href=https://colab.research.google.com/notebooks/data_table.ipynb>data table notebook</a>'\n",
              "          + ' to learn more about interactive tables.';\n",
              "        element.innerHTML = '';\n",
              "        dataTable['output_type'] = 'display_data';\n",
              "        await google.colab.output.renderOutput(dataTable, element);\n",
              "        const docLink = document.createElement('div');\n",
              "        docLink.innerHTML = docLinkHtml;\n",
              "        element.appendChild(docLink);\n",
              "      }\n",
              "    </script>\n",
              "  </div>\n",
              "\n",
              "\n",
              "    <div id=\"df-89150570-89b4-461e-88c1-24e1e51a5647\">\n",
              "      <button class=\"colab-df-quickchart\" onclick=\"quickchart('df-89150570-89b4-461e-88c1-24e1e51a5647')\"\n",
              "                title=\"Suggest charts\"\n",
              "                style=\"display:none;\">\n",
              "\n",
              "<svg xmlns=\"http://www.w3.org/2000/svg\" height=\"24px\"viewBox=\"0 0 24 24\"\n",
              "     width=\"24px\">\n",
              "    <g>\n",
              "        <path d=\"M19 3H5c-1.1 0-2 .9-2 2v14c0 1.1.9 2 2 2h14c1.1 0 2-.9 2-2V5c0-1.1-.9-2-2-2zM9 17H7v-7h2v7zm4 0h-2V7h2v10zm4 0h-2v-4h2v4z\"/>\n",
              "    </g>\n",
              "</svg>\n",
              "      </button>\n",
              "\n",
              "<style>\n",
              "  .colab-df-quickchart {\n",
              "      --bg-color: #E8F0FE;\n",
              "      --fill-color: #1967D2;\n",
              "      --hover-bg-color: #E2EBFA;\n",
              "      --hover-fill-color: #174EA6;\n",
              "      --disabled-fill-color: #AAA;\n",
              "      --disabled-bg-color: #DDD;\n",
              "  }\n",
              "\n",
              "  [theme=dark] .colab-df-quickchart {\n",
              "      --bg-color: #3B4455;\n",
              "      --fill-color: #D2E3FC;\n",
              "      --hover-bg-color: #434B5C;\n",
              "      --hover-fill-color: #FFFFFF;\n",
              "      --disabled-bg-color: #3B4455;\n",
              "      --disabled-fill-color: #666;\n",
              "  }\n",
              "\n",
              "  .colab-df-quickchart {\n",
              "    background-color: var(--bg-color);\n",
              "    border: none;\n",
              "    border-radius: 50%;\n",
              "    cursor: pointer;\n",
              "    display: none;\n",
              "    fill: var(--fill-color);\n",
              "    height: 32px;\n",
              "    padding: 0;\n",
              "    width: 32px;\n",
              "  }\n",
              "\n",
              "  .colab-df-quickchart:hover {\n",
              "    background-color: var(--hover-bg-color);\n",
              "    box-shadow: 0 1px 2px rgba(60, 64, 67, 0.3), 0 1px 3px 1px rgba(60, 64, 67, 0.15);\n",
              "    fill: var(--button-hover-fill-color);\n",
              "  }\n",
              "\n",
              "  .colab-df-quickchart-complete:disabled,\n",
              "  .colab-df-quickchart-complete:disabled:hover {\n",
              "    background-color: var(--disabled-bg-color);\n",
              "    fill: var(--disabled-fill-color);\n",
              "    box-shadow: none;\n",
              "  }\n",
              "\n",
              "  .colab-df-spinner {\n",
              "    border: 2px solid var(--fill-color);\n",
              "    border-color: transparent;\n",
              "    border-bottom-color: var(--fill-color);\n",
              "    animation:\n",
              "      spin 1s steps(1) infinite;\n",
              "  }\n",
              "\n",
              "  @keyframes spin {\n",
              "    0% {\n",
              "      border-color: transparent;\n",
              "      border-bottom-color: var(--fill-color);\n",
              "      border-left-color: var(--fill-color);\n",
              "    }\n",
              "    20% {\n",
              "      border-color: transparent;\n",
              "      border-left-color: var(--fill-color);\n",
              "      border-top-color: var(--fill-color);\n",
              "    }\n",
              "    30% {\n",
              "      border-color: transparent;\n",
              "      border-left-color: var(--fill-color);\n",
              "      border-top-color: var(--fill-color);\n",
              "      border-right-color: var(--fill-color);\n",
              "    }\n",
              "    40% {\n",
              "      border-color: transparent;\n",
              "      border-right-color: var(--fill-color);\n",
              "      border-top-color: var(--fill-color);\n",
              "    }\n",
              "    60% {\n",
              "      border-color: transparent;\n",
              "      border-right-color: var(--fill-color);\n",
              "    }\n",
              "    80% {\n",
              "      border-color: transparent;\n",
              "      border-right-color: var(--fill-color);\n",
              "      border-bottom-color: var(--fill-color);\n",
              "    }\n",
              "    90% {\n",
              "      border-color: transparent;\n",
              "      border-bottom-color: var(--fill-color);\n",
              "    }\n",
              "  }\n",
              "</style>\n",
              "\n",
              "      <script>\n",
              "        async function quickchart(key) {\n",
              "          const quickchartButtonEl =\n",
              "            document.querySelector('#' + key + ' button');\n",
              "          quickchartButtonEl.disabled = true;  // To prevent multiple clicks.\n",
              "          quickchartButtonEl.classList.add('colab-df-spinner');\n",
              "          try {\n",
              "            const charts = await google.colab.kernel.invokeFunction(\n",
              "                'suggestCharts', [key], {});\n",
              "          } catch (error) {\n",
              "            console.error('Error during call to suggestCharts:', error);\n",
              "          }\n",
              "          quickchartButtonEl.classList.remove('colab-df-spinner');\n",
              "          quickchartButtonEl.classList.add('colab-df-quickchart-complete');\n",
              "        }\n",
              "        (() => {\n",
              "          let quickchartButtonEl =\n",
              "            document.querySelector('#df-89150570-89b4-461e-88c1-24e1e51a5647 button');\n",
              "          quickchartButtonEl.style.display =\n",
              "            google.colab.kernel.accessAllowed ? 'block' : 'none';\n",
              "        })();\n",
              "      </script>\n",
              "    </div>\n",
              "\n",
              "    </div>\n",
              "  </div>\n"
            ],
            "application/vnd.google.colaboratory.intrinsic+json": {
              "type": "dataframe",
              "variable_name": "spotify_df",
              "summary": "{\n  \"name\": \"spotify_df\",\n  \"rows\": 6509,\n  \"fields\": [\n    {\n      \"column\": \"id\",\n      \"properties\": {\n        \"dtype\": \"string\",\n        \"num_unique_values\": 6509,\n        \"samples\": [\n          \"1Wolb8MRcXR2IMMaELTRpE\",\n          \"4hy7qTxsnyZUZoqo5RtaYq\",\n          \"4zWO4gvuFtw6EJZC5FFGlr\"\n        ],\n        \"semantic_type\": \"\",\n        \"description\": \"\"\n      }\n    },\n    {\n      \"column\": \"artist_names\",\n      \"properties\": {\n        \"dtype\": \"category\",\n        \"num_unique_values\": 2998,\n        \"samples\": [\n          \"Pop Smoke, A Boogie Wit da Hoodie\",\n          \"Bill Withers\",\n          \"The Chainsmokers, XYL\\u00d8\"\n        ],\n        \"semantic_type\": \"\",\n        \"description\": \"\"\n      }\n    },\n    {\n      \"column\": \"track_name\",\n      \"properties\": {\n        \"dtype\": \"string\",\n        \"num_unique_values\": 5348,\n        \"samples\": [\n          \"Parado no Bail\\u00e3o\",\n          \"all my friends\",\n          \"Don't Leave\"\n        ],\n        \"semantic_type\": \"\",\n        \"description\": \"\"\n      }\n    },\n    {\n      \"column\": \"duration\",\n      \"properties\": {\n        \"dtype\": \"number\",\n        \"std\": 0.8201193866052204,\n        \"min\": 0.5022166666666666,\n        \"max\": 11.5122,\n        \"num_unique_values\": 5458,\n        \"samples\": [\n          4.617166666666667,\n          3.3346666666666667,\n          3.6492333333333336\n        ],\n        \"semantic_type\": \"\",\n        \"description\": \"\"\n      }\n    },\n    {\n      \"column\": \"source\",\n      \"properties\": {\n        \"dtype\": \"category\",\n        \"num_unique_values\": 965,\n        \"samples\": [\n          \"Yng Lvcas\",\n          \"Galactic / Republic Records\",\n          \"Olivia Rodrigo PS\"\n        ],\n        \"semantic_type\": \"\",\n        \"description\": \"\"\n      }\n    },\n    {\n      \"column\": \"mode\",\n      \"properties\": {\n        \"dtype\": \"category\",\n        \"num_unique_values\": 2,\n        \"samples\": [\n          \"Minor\",\n          \"Major\"\n        ],\n        \"semantic_type\": \"\",\n        \"description\": \"\"\n      }\n    },\n    {\n      \"column\": \"time_signature\",\n      \"properties\": {\n        \"dtype\": \"number\",\n        \"std\": 0,\n        \"min\": 1,\n        \"max\": 5,\n        \"num_unique_values\": 4,\n        \"samples\": [\n          5,\n          1\n        ],\n        \"semantic_type\": \"\",\n        \"description\": \"\"\n      }\n    },\n    {\n      \"column\": \"key\",\n      \"properties\": {\n        \"dtype\": \"number\",\n        \"std\": 3.6447721863587237,\n        \"min\": 0.0,\n        \"max\": 11.0,\n        \"num_unique_values\": 12,\n        \"samples\": [\n          6.0,\n          2.0\n        ],\n        \"semantic_type\": \"\",\n        \"description\": \"\"\n      }\n    },\n    {\n      \"column\": \"danceability\",\n      \"properties\": {\n        \"dtype\": \"number\",\n        \"std\": 0.14172758856479867,\n        \"min\": 0.15,\n        \"max\": 0.985,\n        \"num_unique_values\": 686,\n        \"samples\": [\n          0.505,\n          0.943\n        ],\n        \"semantic_type\": \"\",\n        \"description\": \"\"\n      }\n    },\n    {\n      \"column\": \"energy\",\n      \"properties\": {\n        \"dtype\": \"number\",\n        \"std\": 0.1647861362908941,\n        \"min\": 0.0218,\n        \"max\": 0.989,\n        \"num_unique_values\": 805,\n        \"samples\": [\n          0.331,\n          0.941\n        ],\n        \"semantic_type\": \"\",\n        \"description\": \"\"\n      }\n    },\n    {\n      \"column\": \"speechiness\",\n      \"properties\": {\n        \"dtype\": \"number\",\n        \"std\": 0.11346688139790721,\n        \"min\": 0.0232,\n        \"max\": 0.966,\n        \"num_unique_values\": 1146,\n        \"samples\": [\n          0.0686,\n          0.0968\n        ],\n        \"semantic_type\": \"\",\n        \"description\": \"\"\n      }\n    },\n    {\n      \"column\": \"acousticness\",\n      \"properties\": {\n        \"dtype\": \"number\",\n        \"std\": 0.24468424659600738,\n        \"min\": 7.53e-06,\n        \"max\": 0.994,\n        \"num_unique_values\": 2019,\n        \"samples\": [\n          0.000239,\n          0.0209\n        ],\n        \"semantic_type\": \"\",\n        \"description\": \"\"\n      }\n    },\n    {\n      \"column\": \"instrumentalness\",\n      \"properties\": {\n        \"dtype\": \"number\",\n        \"std\": 0.07517346185949034,\n        \"min\": 0.0,\n        \"max\": 0.953,\n        \"num_unique_values\": 1831,\n        \"samples\": [\n          0.00614,\n          0.00344\n        ],\n        \"semantic_type\": \"\",\n        \"description\": \"\"\n      }\n    },\n    {\n      \"column\": \"liveness\",\n      \"properties\": {\n        \"dtype\": \"number\",\n        \"std\": 0.13805370347373494,\n        \"min\": 0.0197,\n        \"max\": 0.977,\n        \"num_unique_values\": 1071,\n        \"samples\": [\n          0.116,\n          0.0578\n        ],\n        \"semantic_type\": \"\",\n        \"description\": \"\"\n      }\n    },\n    {\n      \"column\": \"valence\",\n      \"properties\": {\n        \"dtype\": \"number\",\n        \"std\": 0.22684559019419717,\n        \"min\": 0.032,\n        \"max\": 0.982,\n        \"num_unique_values\": 1013,\n        \"samples\": [\n          0.0789,\n          0.0392\n        ],\n        \"semantic_type\": \"\",\n        \"description\": \"\"\n      }\n    },\n    {\n      \"column\": \"loudness\",\n      \"properties\": {\n        \"dtype\": \"number\",\n        \"std\": 2.5302296466968106,\n        \"min\": -34.475,\n        \"max\": -0.02,\n        \"num_unique_values\": 4252,\n        \"samples\": [\n          -6.427,\n          -8.117\n        ],\n        \"semantic_type\": \"\",\n        \"description\": \"\"\n      }\n    },\n    {\n      \"column\": \"tempo\",\n      \"properties\": {\n        \"dtype\": \"number\",\n        \"std\": 29.418168849305342,\n        \"min\": 46.718,\n        \"max\": 212.117,\n        \"num_unique_values\": 5352,\n        \"samples\": [\n          96.985,\n          105.137\n        ],\n        \"semantic_type\": \"\",\n        \"description\": \"\"\n      }\n    },\n    {\n      \"column\": \"weeks_on_chart\",\n      \"properties\": {\n        \"dtype\": \"number\",\n        \"std\": 24,\n        \"min\": 1,\n        \"max\": 367,\n        \"num_unique_values\": 159,\n        \"samples\": [\n          367,\n          217\n        ],\n        \"semantic_type\": \"\",\n        \"description\": \"\"\n      }\n    },\n    {\n      \"column\": \"streams\",\n      \"properties\": {\n        \"dtype\": \"number\",\n        \"std\": 227727117,\n        \"min\": 2525159,\n        \"max\": 3528450184,\n        \"num_unique_values\": 6509,\n        \"samples\": [\n          3854154,\n          81342954\n        ],\n        \"semantic_type\": \"\",\n        \"description\": \"\"\n      }\n    }\n  ]\n}"
            }
          },
          "metadata": {},
          "execution_count": 80
        }
      ],
      "source": [
        "col = spotify_df.pop('duration')\n",
        "spotify_df.insert(3, 'duration', col)\n",
        "\n",
        "# Menampilkan beberapa baris data\n",
        "spotify_df.head()"
      ]
    },
    {
      "cell_type": "markdown",
      "id": "yFLqJo3UOxSE",
      "metadata": {
        "id": "yFLqJo3UOxSE"
      },
      "source": [
        "#Menghapus kolom yang tidak diperlukan"
      ]
    },
    {
      "cell_type": "code",
      "execution_count": 81,
      "id": "MQ7Wz8f5OhAJ",
      "metadata": {
        "id": "MQ7Wz8f5OhAJ",
        "colab": {
          "base_uri": "https://localhost:8080/",
          "height": 347
        },
        "outputId": "c06c90e7-21f8-4615-baea-5507705b3e0e"
      },
      "outputs": [
        {
          "output_type": "execute_result",
          "data": {
            "text/plain": [
              "                 artist_names                            track_name  duration  \\\n",
              "0         ZAYN, PARTYNEXTDOOR  Still Got Time (feat. PARTYNEXTDOOR)  3.141517   \n",
              "1                Alessia Cara                         Growing Pains  3.228000   \n",
              "2                 The Killers                        Mr. Brightside  3.716217   \n",
              "3  Cardi B, Chance the Rapper   Best Life (feat. Chance The Rapper)  4.747600   \n",
              "4     Post Malone, The Weeknd       One Right Now (with The Weeknd)  3.225117   \n",
              "\n",
              "               source   mode  time_signature  key  danceability  energy  \\\n",
              "0   RCA Records Label  Major               4  7.0         0.748   0.627   \n",
              "1  Def Jam Recordings  Minor               4  1.0         0.353   0.755   \n",
              "2      Island Records  Major               4  1.0         0.352   0.911   \n",
              "3        Atlantic/KSR  Major               4  9.0         0.620   0.625   \n",
              "4    Republic Records  Major               4  1.0         0.687   0.781   \n",
              "\n",
              "   speechiness  acousticness  instrumentalness  liveness  valence  loudness  \\\n",
              "0       0.0639       0.13100               0.0    0.0852    0.524    -6.029   \n",
              "1       0.7330       0.08220               0.0    0.3900    0.437    -6.276   \n",
              "2       0.0747       0.00121               0.0    0.0995    0.236    -5.230   \n",
              "3       0.5530       0.28700               0.0    0.3140    0.665    -7.438   \n",
              "4       0.0530       0.03610               0.0    0.0755    0.688    -4.806   \n",
              "\n",
              "     tempo  \n",
              "0  120.963  \n",
              "1  191.153  \n",
              "2  148.033  \n",
              "3  167.911  \n",
              "4   97.014  "
            ],
            "text/html": [
              "\n",
              "  <div id=\"df-ec10884f-5869-4188-bd39-c04fe94e35e7\" class=\"colab-df-container\">\n",
              "    <div>\n",
              "<style scoped>\n",
              "    .dataframe tbody tr th:only-of-type {\n",
              "        vertical-align: middle;\n",
              "    }\n",
              "\n",
              "    .dataframe tbody tr th {\n",
              "        vertical-align: top;\n",
              "    }\n",
              "\n",
              "    .dataframe thead th {\n",
              "        text-align: right;\n",
              "    }\n",
              "</style>\n",
              "<table border=\"1\" class=\"dataframe\">\n",
              "  <thead>\n",
              "    <tr style=\"text-align: right;\">\n",
              "      <th></th>\n",
              "      <th>artist_names</th>\n",
              "      <th>track_name</th>\n",
              "      <th>duration</th>\n",
              "      <th>source</th>\n",
              "      <th>mode</th>\n",
              "      <th>time_signature</th>\n",
              "      <th>key</th>\n",
              "      <th>danceability</th>\n",
              "      <th>energy</th>\n",
              "      <th>speechiness</th>\n",
              "      <th>acousticness</th>\n",
              "      <th>instrumentalness</th>\n",
              "      <th>liveness</th>\n",
              "      <th>valence</th>\n",
              "      <th>loudness</th>\n",
              "      <th>tempo</th>\n",
              "    </tr>\n",
              "  </thead>\n",
              "  <tbody>\n",
              "    <tr>\n",
              "      <th>0</th>\n",
              "      <td>ZAYN, PARTYNEXTDOOR</td>\n",
              "      <td>Still Got Time (feat. PARTYNEXTDOOR)</td>\n",
              "      <td>3.141517</td>\n",
              "      <td>RCA Records Label</td>\n",
              "      <td>Major</td>\n",
              "      <td>4</td>\n",
              "      <td>7.0</td>\n",
              "      <td>0.748</td>\n",
              "      <td>0.627</td>\n",
              "      <td>0.0639</td>\n",
              "      <td>0.13100</td>\n",
              "      <td>0.0</td>\n",
              "      <td>0.0852</td>\n",
              "      <td>0.524</td>\n",
              "      <td>-6.029</td>\n",
              "      <td>120.963</td>\n",
              "    </tr>\n",
              "    <tr>\n",
              "      <th>1</th>\n",
              "      <td>Alessia Cara</td>\n",
              "      <td>Growing Pains</td>\n",
              "      <td>3.228000</td>\n",
              "      <td>Def Jam Recordings</td>\n",
              "      <td>Minor</td>\n",
              "      <td>4</td>\n",
              "      <td>1.0</td>\n",
              "      <td>0.353</td>\n",
              "      <td>0.755</td>\n",
              "      <td>0.7330</td>\n",
              "      <td>0.08220</td>\n",
              "      <td>0.0</td>\n",
              "      <td>0.3900</td>\n",
              "      <td>0.437</td>\n",
              "      <td>-6.276</td>\n",
              "      <td>191.153</td>\n",
              "    </tr>\n",
              "    <tr>\n",
              "      <th>2</th>\n",
              "      <td>The Killers</td>\n",
              "      <td>Mr. Brightside</td>\n",
              "      <td>3.716217</td>\n",
              "      <td>Island Records</td>\n",
              "      <td>Major</td>\n",
              "      <td>4</td>\n",
              "      <td>1.0</td>\n",
              "      <td>0.352</td>\n",
              "      <td>0.911</td>\n",
              "      <td>0.0747</td>\n",
              "      <td>0.00121</td>\n",
              "      <td>0.0</td>\n",
              "      <td>0.0995</td>\n",
              "      <td>0.236</td>\n",
              "      <td>-5.230</td>\n",
              "      <td>148.033</td>\n",
              "    </tr>\n",
              "    <tr>\n",
              "      <th>3</th>\n",
              "      <td>Cardi B, Chance the Rapper</td>\n",
              "      <td>Best Life (feat. Chance The Rapper)</td>\n",
              "      <td>4.747600</td>\n",
              "      <td>Atlantic/KSR</td>\n",
              "      <td>Major</td>\n",
              "      <td>4</td>\n",
              "      <td>9.0</td>\n",
              "      <td>0.620</td>\n",
              "      <td>0.625</td>\n",
              "      <td>0.5530</td>\n",
              "      <td>0.28700</td>\n",
              "      <td>0.0</td>\n",
              "      <td>0.3140</td>\n",
              "      <td>0.665</td>\n",
              "      <td>-7.438</td>\n",
              "      <td>167.911</td>\n",
              "    </tr>\n",
              "    <tr>\n",
              "      <th>4</th>\n",
              "      <td>Post Malone, The Weeknd</td>\n",
              "      <td>One Right Now (with The Weeknd)</td>\n",
              "      <td>3.225117</td>\n",
              "      <td>Republic Records</td>\n",
              "      <td>Major</td>\n",
              "      <td>4</td>\n",
              "      <td>1.0</td>\n",
              "      <td>0.687</td>\n",
              "      <td>0.781</td>\n",
              "      <td>0.0530</td>\n",
              "      <td>0.03610</td>\n",
              "      <td>0.0</td>\n",
              "      <td>0.0755</td>\n",
              "      <td>0.688</td>\n",
              "      <td>-4.806</td>\n",
              "      <td>97.014</td>\n",
              "    </tr>\n",
              "  </tbody>\n",
              "</table>\n",
              "</div>\n",
              "    <div class=\"colab-df-buttons\">\n",
              "\n",
              "  <div class=\"colab-df-container\">\n",
              "    <button class=\"colab-df-convert\" onclick=\"convertToInteractive('df-ec10884f-5869-4188-bd39-c04fe94e35e7')\"\n",
              "            title=\"Convert this dataframe to an interactive table.\"\n",
              "            style=\"display:none;\">\n",
              "\n",
              "  <svg xmlns=\"http://www.w3.org/2000/svg\" height=\"24px\" viewBox=\"0 -960 960 960\">\n",
              "    <path d=\"M120-120v-720h720v720H120Zm60-500h600v-160H180v160Zm220 220h160v-160H400v160Zm0 220h160v-160H400v160ZM180-400h160v-160H180v160Zm440 0h160v-160H620v160ZM180-180h160v-160H180v160Zm440 0h160v-160H620v160Z\"/>\n",
              "  </svg>\n",
              "    </button>\n",
              "\n",
              "  <style>\n",
              "    .colab-df-container {\n",
              "      display:flex;\n",
              "      gap: 12px;\n",
              "    }\n",
              "\n",
              "    .colab-df-convert {\n",
              "      background-color: #E8F0FE;\n",
              "      border: none;\n",
              "      border-radius: 50%;\n",
              "      cursor: pointer;\n",
              "      display: none;\n",
              "      fill: #1967D2;\n",
              "      height: 32px;\n",
              "      padding: 0 0 0 0;\n",
              "      width: 32px;\n",
              "    }\n",
              "\n",
              "    .colab-df-convert:hover {\n",
              "      background-color: #E2EBFA;\n",
              "      box-shadow: 0px 1px 2px rgba(60, 64, 67, 0.3), 0px 1px 3px 1px rgba(60, 64, 67, 0.15);\n",
              "      fill: #174EA6;\n",
              "    }\n",
              "\n",
              "    .colab-df-buttons div {\n",
              "      margin-bottom: 4px;\n",
              "    }\n",
              "\n",
              "    [theme=dark] .colab-df-convert {\n",
              "      background-color: #3B4455;\n",
              "      fill: #D2E3FC;\n",
              "    }\n",
              "\n",
              "    [theme=dark] .colab-df-convert:hover {\n",
              "      background-color: #434B5C;\n",
              "      box-shadow: 0px 1px 3px 1px rgba(0, 0, 0, 0.15);\n",
              "      filter: drop-shadow(0px 1px 2px rgba(0, 0, 0, 0.3));\n",
              "      fill: #FFFFFF;\n",
              "    }\n",
              "  </style>\n",
              "\n",
              "    <script>\n",
              "      const buttonEl =\n",
              "        document.querySelector('#df-ec10884f-5869-4188-bd39-c04fe94e35e7 button.colab-df-convert');\n",
              "      buttonEl.style.display =\n",
              "        google.colab.kernel.accessAllowed ? 'block' : 'none';\n",
              "\n",
              "      async function convertToInteractive(key) {\n",
              "        const element = document.querySelector('#df-ec10884f-5869-4188-bd39-c04fe94e35e7');\n",
              "        const dataTable =\n",
              "          await google.colab.kernel.invokeFunction('convertToInteractive',\n",
              "                                                    [key], {});\n",
              "        if (!dataTable) return;\n",
              "\n",
              "        const docLinkHtml = 'Like what you see? Visit the ' +\n",
              "          '<a target=\"_blank\" href=https://colab.research.google.com/notebooks/data_table.ipynb>data table notebook</a>'\n",
              "          + ' to learn more about interactive tables.';\n",
              "        element.innerHTML = '';\n",
              "        dataTable['output_type'] = 'display_data';\n",
              "        await google.colab.output.renderOutput(dataTable, element);\n",
              "        const docLink = document.createElement('div');\n",
              "        docLink.innerHTML = docLinkHtml;\n",
              "        element.appendChild(docLink);\n",
              "      }\n",
              "    </script>\n",
              "  </div>\n",
              "\n",
              "\n",
              "    <div id=\"df-28915424-1452-4dc9-b53e-ddc1db0b2eac\">\n",
              "      <button class=\"colab-df-quickchart\" onclick=\"quickchart('df-28915424-1452-4dc9-b53e-ddc1db0b2eac')\"\n",
              "                title=\"Suggest charts\"\n",
              "                style=\"display:none;\">\n",
              "\n",
              "<svg xmlns=\"http://www.w3.org/2000/svg\" height=\"24px\"viewBox=\"0 0 24 24\"\n",
              "     width=\"24px\">\n",
              "    <g>\n",
              "        <path d=\"M19 3H5c-1.1 0-2 .9-2 2v14c0 1.1.9 2 2 2h14c1.1 0 2-.9 2-2V5c0-1.1-.9-2-2-2zM9 17H7v-7h2v7zm4 0h-2V7h2v10zm4 0h-2v-4h2v4z\"/>\n",
              "    </g>\n",
              "</svg>\n",
              "      </button>\n",
              "\n",
              "<style>\n",
              "  .colab-df-quickchart {\n",
              "      --bg-color: #E8F0FE;\n",
              "      --fill-color: #1967D2;\n",
              "      --hover-bg-color: #E2EBFA;\n",
              "      --hover-fill-color: #174EA6;\n",
              "      --disabled-fill-color: #AAA;\n",
              "      --disabled-bg-color: #DDD;\n",
              "  }\n",
              "\n",
              "  [theme=dark] .colab-df-quickchart {\n",
              "      --bg-color: #3B4455;\n",
              "      --fill-color: #D2E3FC;\n",
              "      --hover-bg-color: #434B5C;\n",
              "      --hover-fill-color: #FFFFFF;\n",
              "      --disabled-bg-color: #3B4455;\n",
              "      --disabled-fill-color: #666;\n",
              "  }\n",
              "\n",
              "  .colab-df-quickchart {\n",
              "    background-color: var(--bg-color);\n",
              "    border: none;\n",
              "    border-radius: 50%;\n",
              "    cursor: pointer;\n",
              "    display: none;\n",
              "    fill: var(--fill-color);\n",
              "    height: 32px;\n",
              "    padding: 0;\n",
              "    width: 32px;\n",
              "  }\n",
              "\n",
              "  .colab-df-quickchart:hover {\n",
              "    background-color: var(--hover-bg-color);\n",
              "    box-shadow: 0 1px 2px rgba(60, 64, 67, 0.3), 0 1px 3px 1px rgba(60, 64, 67, 0.15);\n",
              "    fill: var(--button-hover-fill-color);\n",
              "  }\n",
              "\n",
              "  .colab-df-quickchart-complete:disabled,\n",
              "  .colab-df-quickchart-complete:disabled:hover {\n",
              "    background-color: var(--disabled-bg-color);\n",
              "    fill: var(--disabled-fill-color);\n",
              "    box-shadow: none;\n",
              "  }\n",
              "\n",
              "  .colab-df-spinner {\n",
              "    border: 2px solid var(--fill-color);\n",
              "    border-color: transparent;\n",
              "    border-bottom-color: var(--fill-color);\n",
              "    animation:\n",
              "      spin 1s steps(1) infinite;\n",
              "  }\n",
              "\n",
              "  @keyframes spin {\n",
              "    0% {\n",
              "      border-color: transparent;\n",
              "      border-bottom-color: var(--fill-color);\n",
              "      border-left-color: var(--fill-color);\n",
              "    }\n",
              "    20% {\n",
              "      border-color: transparent;\n",
              "      border-left-color: var(--fill-color);\n",
              "      border-top-color: var(--fill-color);\n",
              "    }\n",
              "    30% {\n",
              "      border-color: transparent;\n",
              "      border-left-color: var(--fill-color);\n",
              "      border-top-color: var(--fill-color);\n",
              "      border-right-color: var(--fill-color);\n",
              "    }\n",
              "    40% {\n",
              "      border-color: transparent;\n",
              "      border-right-color: var(--fill-color);\n",
              "      border-top-color: var(--fill-color);\n",
              "    }\n",
              "    60% {\n",
              "      border-color: transparent;\n",
              "      border-right-color: var(--fill-color);\n",
              "    }\n",
              "    80% {\n",
              "      border-color: transparent;\n",
              "      border-right-color: var(--fill-color);\n",
              "      border-bottom-color: var(--fill-color);\n",
              "    }\n",
              "    90% {\n",
              "      border-color: transparent;\n",
              "      border-bottom-color: var(--fill-color);\n",
              "    }\n",
              "  }\n",
              "</style>\n",
              "\n",
              "      <script>\n",
              "        async function quickchart(key) {\n",
              "          const quickchartButtonEl =\n",
              "            document.querySelector('#' + key + ' button');\n",
              "          quickchartButtonEl.disabled = true;  // To prevent multiple clicks.\n",
              "          quickchartButtonEl.classList.add('colab-df-spinner');\n",
              "          try {\n",
              "            const charts = await google.colab.kernel.invokeFunction(\n",
              "                'suggestCharts', [key], {});\n",
              "          } catch (error) {\n",
              "            console.error('Error during call to suggestCharts:', error);\n",
              "          }\n",
              "          quickchartButtonEl.classList.remove('colab-df-spinner');\n",
              "          quickchartButtonEl.classList.add('colab-df-quickchart-complete');\n",
              "        }\n",
              "        (() => {\n",
              "          let quickchartButtonEl =\n",
              "            document.querySelector('#df-28915424-1452-4dc9-b53e-ddc1db0b2eac button');\n",
              "          quickchartButtonEl.style.display =\n",
              "            google.colab.kernel.accessAllowed ? 'block' : 'none';\n",
              "        })();\n",
              "      </script>\n",
              "    </div>\n",
              "\n",
              "    </div>\n",
              "  </div>\n"
            ],
            "application/vnd.google.colaboratory.intrinsic+json": {
              "type": "dataframe",
              "variable_name": "spotify_df",
              "summary": "{\n  \"name\": \"spotify_df\",\n  \"rows\": 6509,\n  \"fields\": [\n    {\n      \"column\": \"artist_names\",\n      \"properties\": {\n        \"dtype\": \"category\",\n        \"num_unique_values\": 2998,\n        \"samples\": [\n          \"Pop Smoke, A Boogie Wit da Hoodie\",\n          \"Bill Withers\",\n          \"The Chainsmokers, XYL\\u00d8\"\n        ],\n        \"semantic_type\": \"\",\n        \"description\": \"\"\n      }\n    },\n    {\n      \"column\": \"track_name\",\n      \"properties\": {\n        \"dtype\": \"string\",\n        \"num_unique_values\": 5348,\n        \"samples\": [\n          \"Parado no Bail\\u00e3o\",\n          \"all my friends\",\n          \"Don't Leave\"\n        ],\n        \"semantic_type\": \"\",\n        \"description\": \"\"\n      }\n    },\n    {\n      \"column\": \"duration\",\n      \"properties\": {\n        \"dtype\": \"number\",\n        \"std\": 0.8201193866052204,\n        \"min\": 0.5022166666666666,\n        \"max\": 11.5122,\n        \"num_unique_values\": 5458,\n        \"samples\": [\n          4.617166666666667,\n          3.3346666666666667,\n          3.6492333333333336\n        ],\n        \"semantic_type\": \"\",\n        \"description\": \"\"\n      }\n    },\n    {\n      \"column\": \"source\",\n      \"properties\": {\n        \"dtype\": \"category\",\n        \"num_unique_values\": 965,\n        \"samples\": [\n          \"Yng Lvcas\",\n          \"Galactic / Republic Records\",\n          \"Olivia Rodrigo PS\"\n        ],\n        \"semantic_type\": \"\",\n        \"description\": \"\"\n      }\n    },\n    {\n      \"column\": \"mode\",\n      \"properties\": {\n        \"dtype\": \"category\",\n        \"num_unique_values\": 2,\n        \"samples\": [\n          \"Minor\",\n          \"Major\"\n        ],\n        \"semantic_type\": \"\",\n        \"description\": \"\"\n      }\n    },\n    {\n      \"column\": \"time_signature\",\n      \"properties\": {\n        \"dtype\": \"number\",\n        \"std\": 0,\n        \"min\": 1,\n        \"max\": 5,\n        \"num_unique_values\": 4,\n        \"samples\": [\n          5,\n          1\n        ],\n        \"semantic_type\": \"\",\n        \"description\": \"\"\n      }\n    },\n    {\n      \"column\": \"key\",\n      \"properties\": {\n        \"dtype\": \"number\",\n        \"std\": 3.6447721863587237,\n        \"min\": 0.0,\n        \"max\": 11.0,\n        \"num_unique_values\": 12,\n        \"samples\": [\n          6.0,\n          2.0\n        ],\n        \"semantic_type\": \"\",\n        \"description\": \"\"\n      }\n    },\n    {\n      \"column\": \"danceability\",\n      \"properties\": {\n        \"dtype\": \"number\",\n        \"std\": 0.14172758856479867,\n        \"min\": 0.15,\n        \"max\": 0.985,\n        \"num_unique_values\": 686,\n        \"samples\": [\n          0.505,\n          0.943\n        ],\n        \"semantic_type\": \"\",\n        \"description\": \"\"\n      }\n    },\n    {\n      \"column\": \"energy\",\n      \"properties\": {\n        \"dtype\": \"number\",\n        \"std\": 0.1647861362908941,\n        \"min\": 0.0218,\n        \"max\": 0.989,\n        \"num_unique_values\": 805,\n        \"samples\": [\n          0.331,\n          0.941\n        ],\n        \"semantic_type\": \"\",\n        \"description\": \"\"\n      }\n    },\n    {\n      \"column\": \"speechiness\",\n      \"properties\": {\n        \"dtype\": \"number\",\n        \"std\": 0.11346688139790721,\n        \"min\": 0.0232,\n        \"max\": 0.966,\n        \"num_unique_values\": 1146,\n        \"samples\": [\n          0.0686,\n          0.0968\n        ],\n        \"semantic_type\": \"\",\n        \"description\": \"\"\n      }\n    },\n    {\n      \"column\": \"acousticness\",\n      \"properties\": {\n        \"dtype\": \"number\",\n        \"std\": 0.24468424659600738,\n        \"min\": 7.53e-06,\n        \"max\": 0.994,\n        \"num_unique_values\": 2019,\n        \"samples\": [\n          0.000239,\n          0.0209\n        ],\n        \"semantic_type\": \"\",\n        \"description\": \"\"\n      }\n    },\n    {\n      \"column\": \"instrumentalness\",\n      \"properties\": {\n        \"dtype\": \"number\",\n        \"std\": 0.07517346185949034,\n        \"min\": 0.0,\n        \"max\": 0.953,\n        \"num_unique_values\": 1831,\n        \"samples\": [\n          0.00614,\n          0.00344\n        ],\n        \"semantic_type\": \"\",\n        \"description\": \"\"\n      }\n    },\n    {\n      \"column\": \"liveness\",\n      \"properties\": {\n        \"dtype\": \"number\",\n        \"std\": 0.13805370347373494,\n        \"min\": 0.0197,\n        \"max\": 0.977,\n        \"num_unique_values\": 1071,\n        \"samples\": [\n          0.116,\n          0.0578\n        ],\n        \"semantic_type\": \"\",\n        \"description\": \"\"\n      }\n    },\n    {\n      \"column\": \"valence\",\n      \"properties\": {\n        \"dtype\": \"number\",\n        \"std\": 0.22684559019419717,\n        \"min\": 0.032,\n        \"max\": 0.982,\n        \"num_unique_values\": 1013,\n        \"samples\": [\n          0.0789,\n          0.0392\n        ],\n        \"semantic_type\": \"\",\n        \"description\": \"\"\n      }\n    },\n    {\n      \"column\": \"loudness\",\n      \"properties\": {\n        \"dtype\": \"number\",\n        \"std\": 2.5302296466968106,\n        \"min\": -34.475,\n        \"max\": -0.02,\n        \"num_unique_values\": 4252,\n        \"samples\": [\n          -6.427,\n          -8.117\n        ],\n        \"semantic_type\": \"\",\n        \"description\": \"\"\n      }\n    },\n    {\n      \"column\": \"tempo\",\n      \"properties\": {\n        \"dtype\": \"number\",\n        \"std\": 29.418168849305342,\n        \"min\": 46.718,\n        \"max\": 212.117,\n        \"num_unique_values\": 5352,\n        \"samples\": [\n          96.985,\n          105.137\n        ],\n        \"semantic_type\": \"\",\n        \"description\": \"\"\n      }\n    }\n  ]\n}"
            }
          },
          "metadata": {},
          "execution_count": 81
        }
      ],
      "source": [
        "# Menghapus kolom 'weeks_on_chart' dan 'streams' dari DataFrame\n",
        "spotify_df = spotify_df.drop(['weeks_on_chart', 'streams', 'id'], axis=1)\n",
        "\n",
        "# Menampilkan beberapa baris pertama untuk memastikan kolom sudah dihapus\n",
        "spotify_df.head()\n"
      ]
    },
    {
      "cell_type": "markdown",
      "id": "RQgh6Kn5z8A0",
      "metadata": {
        "id": "RQgh6Kn5z8A0"
      },
      "source": [
        "# menambahkan kolom target"
      ]
    },
    {
      "cell_type": "code",
      "execution_count": 82,
      "id": "kjjDOpMSz_1M",
      "metadata": {
        "id": "kjjDOpMSz_1M"
      },
      "outputs": [],
      "source": [
        "# Contoh: Membuat kolom target berdasarkan energy\n",
        "spotify_df['target'] = spotify_df['energy'].apply(lambda x: 1 if x > 0.6 else 0)\n"
      ]
    },
    {
      "cell_type": "code",
      "execution_count": 83,
      "id": "WhpzsWVG0GIa",
      "metadata": {
        "id": "WhpzsWVG0GIa"
      },
      "outputs": [],
      "source": [
        "# Contoh: Menggunakan kombinasi danceability dan loudness\n",
        "spotify_df['target'] = spotify_df.apply(\n",
        "    lambda x: 1 if x['danceability'] > 0.7 and x['loudness'] > -10 else 0, axis=1\n",
        ")"
      ]
    },
    {
      "cell_type": "code",
      "execution_count": 84,
      "id": "JA_ywBPt0INh",
      "metadata": {
        "id": "JA_ywBPt0INh"
      },
      "outputs": [],
      "source": [
        "from sklearn.cluster import KMeans\n",
        "\n",
        "# Pilih kolom numerik\n",
        "numeric_features = spotify_df[['danceability', 'energy', 'tempo']]  # Sesuaikan dengan fitur yang tersedia\n",
        "\n",
        "# Normalisasi data\n",
        "from sklearn.preprocessing import MinMaxScaler\n",
        "scaler = MinMaxScaler()\n",
        "scaled_features = scaler.fit_transform(numeric_features)\n",
        "\n",
        "# Terapkan K-Means Clustering\n",
        "kmeans = KMeans(n_clusters=2, random_state=42)\n",
        "spotify_df['target'] = kmeans.fit_predict(scaled_features)\n"
      ]
    },
    {
      "cell_type": "markdown",
      "id": "t7FZs4gqEX3w",
      "metadata": {
        "id": "t7FZs4gqEX3w"
      },
      "source": [
        "#Menyimpan hasil cleaning"
      ]
    },
    {
      "cell_type": "code",
      "execution_count": 85,
      "id": "a8ae9837-eb75-4315-b881-d374a5f14bed",
      "metadata": {
        "id": "a8ae9837-eb75-4315-b881-d374a5f14bed"
      },
      "outputs": [],
      "source": [
        "# Path file dataset yang sudah di cleaning\n",
        "file_path2 = '/content/drive/MyDrive/Machine Learning/Analisis system rekomendasi spotify menggunakan machine learning/dataset/cleaned_spotify_top_songs.csv'"
      ]
    },
    {
      "cell_type": "markdown",
      "id": "LrlMshnR6UWu",
      "metadata": {
        "id": "LrlMshnR6UWu"
      },
      "source": [
        "# EDA"
      ]
    },
    {
      "cell_type": "code",
      "execution_count": 86,
      "id": "Ik2cDdzZ6Xqh",
      "metadata": {
        "id": "Ik2cDdzZ6Xqh"
      },
      "outputs": [],
      "source": [
        "import pandas as pd\n",
        "import numpy as mp\n",
        "import matplotlib.pyplot as plt\n",
        "%matplotlib inline\n",
        "import seaborn as sns"
      ]
    },
    {
      "cell_type": "code",
      "execution_count": 87,
      "id": "Uk0dvKIa6pAp",
      "metadata": {
        "id": "Uk0dvKIa6pAp"
      },
      "outputs": [],
      "source": [
        "file_path2 = '/content/drive/MyDrive/Machine Learning/Analisis system rekomendasi spotify menggunakan machine learning/dataset/cleaned_spotify_top_songs.csv'"
      ]
    },
    {
      "cell_type": "code",
      "execution_count": 88,
      "id": "E9ikzQ0U6mK3",
      "metadata": {
        "id": "E9ikzQ0U6mK3",
        "colab": {
          "base_uri": "https://localhost:8080/",
          "height": 347
        },
        "outputId": "6b126286-905e-4593-82ec-2aac02c1ce09"
      },
      "outputs": [
        {
          "output_type": "execute_result",
          "data": {
            "text/plain": [
              "                       id                artist_names  \\\n",
              "0  000xQL6tZNLJzIrtIgxqSl         ZAYN, PARTYNEXTDOOR   \n",
              "1  003eoIwxETJujVWmNFMoZy                Alessia Cara   \n",
              "2  003vvx7Niy0yvhvHt4a68B                 The Killers   \n",
              "3  00B7TZ0Xawar6NZ00JFomN  Cardi B, Chance the Rapper   \n",
              "4  00Blm7zeNqgYLPtW6zg8cj     Post Malone, The Weeknd   \n",
              "\n",
              "                             track_name              source    key   mode  \\\n",
              "0  Still Got Time (feat. PARTYNEXTDOOR)   RCA Records Label      G  Major   \n",
              "1                         Growing Pains  Def Jam Recordings  C#/Db  Minor   \n",
              "2                        Mr. Brightside      Island Records  C#/Db  Major   \n",
              "3   Best Life (feat. Chance The Rapper)        Atlantic/KSR      A  Major   \n",
              "4       One Right Now (with The Weeknd)    Republic Records  C#/Db  Major   \n",
              "\n",
              "  time_signature  danceability  energy  speechiness  acousticness  \\\n",
              "0        4 beats         0.748   0.627       0.0639       0.13100   \n",
              "1        4 beats         0.353   0.755       0.7330       0.08220   \n",
              "2        4 beats         0.352   0.911       0.0747       0.00121   \n",
              "3        4 beats         0.620   0.625       0.5530       0.28700   \n",
              "4        4 beats         0.687   0.781       0.0530       0.03610   \n",
              "\n",
              "   instrumentalness  liveness  valence  loudness    tempo  duration_ms  \\\n",
              "0               0.0    0.0852    0.524    -6.029  120.963       188491   \n",
              "1               0.0    0.3900    0.437    -6.276  191.153       193680   \n",
              "2               0.0    0.0995    0.236    -5.230  148.033       222973   \n",
              "3               0.0    0.3140    0.665    -7.438  167.911       284856   \n",
              "4               0.0    0.0755    0.688    -4.806   97.014       193507   \n",
              "\n",
              "   weeks_on_chart    streams  \n",
              "0              17  107527761  \n",
              "1               2    9944865  \n",
              "2             125  512388123  \n",
              "3               2   11985346  \n",
              "4              30  301860377  "
            ],
            "text/html": [
              "\n",
              "  <div id=\"df-c3d457c3-55f8-45f0-afe0-89f3bd58bc35\" class=\"colab-df-container\">\n",
              "    <div>\n",
              "<style scoped>\n",
              "    .dataframe tbody tr th:only-of-type {\n",
              "        vertical-align: middle;\n",
              "    }\n",
              "\n",
              "    .dataframe tbody tr th {\n",
              "        vertical-align: top;\n",
              "    }\n",
              "\n",
              "    .dataframe thead th {\n",
              "        text-align: right;\n",
              "    }\n",
              "</style>\n",
              "<table border=\"1\" class=\"dataframe\">\n",
              "  <thead>\n",
              "    <tr style=\"text-align: right;\">\n",
              "      <th></th>\n",
              "      <th>id</th>\n",
              "      <th>artist_names</th>\n",
              "      <th>track_name</th>\n",
              "      <th>source</th>\n",
              "      <th>key</th>\n",
              "      <th>mode</th>\n",
              "      <th>time_signature</th>\n",
              "      <th>danceability</th>\n",
              "      <th>energy</th>\n",
              "      <th>speechiness</th>\n",
              "      <th>acousticness</th>\n",
              "      <th>instrumentalness</th>\n",
              "      <th>liveness</th>\n",
              "      <th>valence</th>\n",
              "      <th>loudness</th>\n",
              "      <th>tempo</th>\n",
              "      <th>duration_ms</th>\n",
              "      <th>weeks_on_chart</th>\n",
              "      <th>streams</th>\n",
              "    </tr>\n",
              "  </thead>\n",
              "  <tbody>\n",
              "    <tr>\n",
              "      <th>0</th>\n",
              "      <td>000xQL6tZNLJzIrtIgxqSl</td>\n",
              "      <td>ZAYN, PARTYNEXTDOOR</td>\n",
              "      <td>Still Got Time (feat. PARTYNEXTDOOR)</td>\n",
              "      <td>RCA Records Label</td>\n",
              "      <td>G</td>\n",
              "      <td>Major</td>\n",
              "      <td>4 beats</td>\n",
              "      <td>0.748</td>\n",
              "      <td>0.627</td>\n",
              "      <td>0.0639</td>\n",
              "      <td>0.13100</td>\n",
              "      <td>0.0</td>\n",
              "      <td>0.0852</td>\n",
              "      <td>0.524</td>\n",
              "      <td>-6.029</td>\n",
              "      <td>120.963</td>\n",
              "      <td>188491</td>\n",
              "      <td>17</td>\n",
              "      <td>107527761</td>\n",
              "    </tr>\n",
              "    <tr>\n",
              "      <th>1</th>\n",
              "      <td>003eoIwxETJujVWmNFMoZy</td>\n",
              "      <td>Alessia Cara</td>\n",
              "      <td>Growing Pains</td>\n",
              "      <td>Def Jam Recordings</td>\n",
              "      <td>C#/Db</td>\n",
              "      <td>Minor</td>\n",
              "      <td>4 beats</td>\n",
              "      <td>0.353</td>\n",
              "      <td>0.755</td>\n",
              "      <td>0.7330</td>\n",
              "      <td>0.08220</td>\n",
              "      <td>0.0</td>\n",
              "      <td>0.3900</td>\n",
              "      <td>0.437</td>\n",
              "      <td>-6.276</td>\n",
              "      <td>191.153</td>\n",
              "      <td>193680</td>\n",
              "      <td>2</td>\n",
              "      <td>9944865</td>\n",
              "    </tr>\n",
              "    <tr>\n",
              "      <th>2</th>\n",
              "      <td>003vvx7Niy0yvhvHt4a68B</td>\n",
              "      <td>The Killers</td>\n",
              "      <td>Mr. Brightside</td>\n",
              "      <td>Island Records</td>\n",
              "      <td>C#/Db</td>\n",
              "      <td>Major</td>\n",
              "      <td>4 beats</td>\n",
              "      <td>0.352</td>\n",
              "      <td>0.911</td>\n",
              "      <td>0.0747</td>\n",
              "      <td>0.00121</td>\n",
              "      <td>0.0</td>\n",
              "      <td>0.0995</td>\n",
              "      <td>0.236</td>\n",
              "      <td>-5.230</td>\n",
              "      <td>148.033</td>\n",
              "      <td>222973</td>\n",
              "      <td>125</td>\n",
              "      <td>512388123</td>\n",
              "    </tr>\n",
              "    <tr>\n",
              "      <th>3</th>\n",
              "      <td>00B7TZ0Xawar6NZ00JFomN</td>\n",
              "      <td>Cardi B, Chance the Rapper</td>\n",
              "      <td>Best Life (feat. Chance The Rapper)</td>\n",
              "      <td>Atlantic/KSR</td>\n",
              "      <td>A</td>\n",
              "      <td>Major</td>\n",
              "      <td>4 beats</td>\n",
              "      <td>0.620</td>\n",
              "      <td>0.625</td>\n",
              "      <td>0.5530</td>\n",
              "      <td>0.28700</td>\n",
              "      <td>0.0</td>\n",
              "      <td>0.3140</td>\n",
              "      <td>0.665</td>\n",
              "      <td>-7.438</td>\n",
              "      <td>167.911</td>\n",
              "      <td>284856</td>\n",
              "      <td>2</td>\n",
              "      <td>11985346</td>\n",
              "    </tr>\n",
              "    <tr>\n",
              "      <th>4</th>\n",
              "      <td>00Blm7zeNqgYLPtW6zg8cj</td>\n",
              "      <td>Post Malone, The Weeknd</td>\n",
              "      <td>One Right Now (with The Weeknd)</td>\n",
              "      <td>Republic Records</td>\n",
              "      <td>C#/Db</td>\n",
              "      <td>Major</td>\n",
              "      <td>4 beats</td>\n",
              "      <td>0.687</td>\n",
              "      <td>0.781</td>\n",
              "      <td>0.0530</td>\n",
              "      <td>0.03610</td>\n",
              "      <td>0.0</td>\n",
              "      <td>0.0755</td>\n",
              "      <td>0.688</td>\n",
              "      <td>-4.806</td>\n",
              "      <td>97.014</td>\n",
              "      <td>193507</td>\n",
              "      <td>30</td>\n",
              "      <td>301860377</td>\n",
              "    </tr>\n",
              "  </tbody>\n",
              "</table>\n",
              "</div>\n",
              "    <div class=\"colab-df-buttons\">\n",
              "\n",
              "  <div class=\"colab-df-container\">\n",
              "    <button class=\"colab-df-convert\" onclick=\"convertToInteractive('df-c3d457c3-55f8-45f0-afe0-89f3bd58bc35')\"\n",
              "            title=\"Convert this dataframe to an interactive table.\"\n",
              "            style=\"display:none;\">\n",
              "\n",
              "  <svg xmlns=\"http://www.w3.org/2000/svg\" height=\"24px\" viewBox=\"0 -960 960 960\">\n",
              "    <path d=\"M120-120v-720h720v720H120Zm60-500h600v-160H180v160Zm220 220h160v-160H400v160Zm0 220h160v-160H400v160ZM180-400h160v-160H180v160Zm440 0h160v-160H620v160ZM180-180h160v-160H180v160Zm440 0h160v-160H620v160Z\"/>\n",
              "  </svg>\n",
              "    </button>\n",
              "\n",
              "  <style>\n",
              "    .colab-df-container {\n",
              "      display:flex;\n",
              "      gap: 12px;\n",
              "    }\n",
              "\n",
              "    .colab-df-convert {\n",
              "      background-color: #E8F0FE;\n",
              "      border: none;\n",
              "      border-radius: 50%;\n",
              "      cursor: pointer;\n",
              "      display: none;\n",
              "      fill: #1967D2;\n",
              "      height: 32px;\n",
              "      padding: 0 0 0 0;\n",
              "      width: 32px;\n",
              "    }\n",
              "\n",
              "    .colab-df-convert:hover {\n",
              "      background-color: #E2EBFA;\n",
              "      box-shadow: 0px 1px 2px rgba(60, 64, 67, 0.3), 0px 1px 3px 1px rgba(60, 64, 67, 0.15);\n",
              "      fill: #174EA6;\n",
              "    }\n",
              "\n",
              "    .colab-df-buttons div {\n",
              "      margin-bottom: 4px;\n",
              "    }\n",
              "\n",
              "    [theme=dark] .colab-df-convert {\n",
              "      background-color: #3B4455;\n",
              "      fill: #D2E3FC;\n",
              "    }\n",
              "\n",
              "    [theme=dark] .colab-df-convert:hover {\n",
              "      background-color: #434B5C;\n",
              "      box-shadow: 0px 1px 3px 1px rgba(0, 0, 0, 0.15);\n",
              "      filter: drop-shadow(0px 1px 2px rgba(0, 0, 0, 0.3));\n",
              "      fill: #FFFFFF;\n",
              "    }\n",
              "  </style>\n",
              "\n",
              "    <script>\n",
              "      const buttonEl =\n",
              "        document.querySelector('#df-c3d457c3-55f8-45f0-afe0-89f3bd58bc35 button.colab-df-convert');\n",
              "      buttonEl.style.display =\n",
              "        google.colab.kernel.accessAllowed ? 'block' : 'none';\n",
              "\n",
              "      async function convertToInteractive(key) {\n",
              "        const element = document.querySelector('#df-c3d457c3-55f8-45f0-afe0-89f3bd58bc35');\n",
              "        const dataTable =\n",
              "          await google.colab.kernel.invokeFunction('convertToInteractive',\n",
              "                                                    [key], {});\n",
              "        if (!dataTable) return;\n",
              "\n",
              "        const docLinkHtml = 'Like what you see? Visit the ' +\n",
              "          '<a target=\"_blank\" href=https://colab.research.google.com/notebooks/data_table.ipynb>data table notebook</a>'\n",
              "          + ' to learn more about interactive tables.';\n",
              "        element.innerHTML = '';\n",
              "        dataTable['output_type'] = 'display_data';\n",
              "        await google.colab.output.renderOutput(dataTable, element);\n",
              "        const docLink = document.createElement('div');\n",
              "        docLink.innerHTML = docLinkHtml;\n",
              "        element.appendChild(docLink);\n",
              "      }\n",
              "    </script>\n",
              "  </div>\n",
              "\n",
              "\n",
              "    <div id=\"df-e24ea8eb-9ade-4d8b-a467-61996d794a1a\">\n",
              "      <button class=\"colab-df-quickchart\" onclick=\"quickchart('df-e24ea8eb-9ade-4d8b-a467-61996d794a1a')\"\n",
              "                title=\"Suggest charts\"\n",
              "                style=\"display:none;\">\n",
              "\n",
              "<svg xmlns=\"http://www.w3.org/2000/svg\" height=\"24px\"viewBox=\"0 0 24 24\"\n",
              "     width=\"24px\">\n",
              "    <g>\n",
              "        <path d=\"M19 3H5c-1.1 0-2 .9-2 2v14c0 1.1.9 2 2 2h14c1.1 0 2-.9 2-2V5c0-1.1-.9-2-2-2zM9 17H7v-7h2v7zm4 0h-2V7h2v10zm4 0h-2v-4h2v4z\"/>\n",
              "    </g>\n",
              "</svg>\n",
              "      </button>\n",
              "\n",
              "<style>\n",
              "  .colab-df-quickchart {\n",
              "      --bg-color: #E8F0FE;\n",
              "      --fill-color: #1967D2;\n",
              "      --hover-bg-color: #E2EBFA;\n",
              "      --hover-fill-color: #174EA6;\n",
              "      --disabled-fill-color: #AAA;\n",
              "      --disabled-bg-color: #DDD;\n",
              "  }\n",
              "\n",
              "  [theme=dark] .colab-df-quickchart {\n",
              "      --bg-color: #3B4455;\n",
              "      --fill-color: #D2E3FC;\n",
              "      --hover-bg-color: #434B5C;\n",
              "      --hover-fill-color: #FFFFFF;\n",
              "      --disabled-bg-color: #3B4455;\n",
              "      --disabled-fill-color: #666;\n",
              "  }\n",
              "\n",
              "  .colab-df-quickchart {\n",
              "    background-color: var(--bg-color);\n",
              "    border: none;\n",
              "    border-radius: 50%;\n",
              "    cursor: pointer;\n",
              "    display: none;\n",
              "    fill: var(--fill-color);\n",
              "    height: 32px;\n",
              "    padding: 0;\n",
              "    width: 32px;\n",
              "  }\n",
              "\n",
              "  .colab-df-quickchart:hover {\n",
              "    background-color: var(--hover-bg-color);\n",
              "    box-shadow: 0 1px 2px rgba(60, 64, 67, 0.3), 0 1px 3px 1px rgba(60, 64, 67, 0.15);\n",
              "    fill: var(--button-hover-fill-color);\n",
              "  }\n",
              "\n",
              "  .colab-df-quickchart-complete:disabled,\n",
              "  .colab-df-quickchart-complete:disabled:hover {\n",
              "    background-color: var(--disabled-bg-color);\n",
              "    fill: var(--disabled-fill-color);\n",
              "    box-shadow: none;\n",
              "  }\n",
              "\n",
              "  .colab-df-spinner {\n",
              "    border: 2px solid var(--fill-color);\n",
              "    border-color: transparent;\n",
              "    border-bottom-color: var(--fill-color);\n",
              "    animation:\n",
              "      spin 1s steps(1) infinite;\n",
              "  }\n",
              "\n",
              "  @keyframes spin {\n",
              "    0% {\n",
              "      border-color: transparent;\n",
              "      border-bottom-color: var(--fill-color);\n",
              "      border-left-color: var(--fill-color);\n",
              "    }\n",
              "    20% {\n",
              "      border-color: transparent;\n",
              "      border-left-color: var(--fill-color);\n",
              "      border-top-color: var(--fill-color);\n",
              "    }\n",
              "    30% {\n",
              "      border-color: transparent;\n",
              "      border-left-color: var(--fill-color);\n",
              "      border-top-color: var(--fill-color);\n",
              "      border-right-color: var(--fill-color);\n",
              "    }\n",
              "    40% {\n",
              "      border-color: transparent;\n",
              "      border-right-color: var(--fill-color);\n",
              "      border-top-color: var(--fill-color);\n",
              "    }\n",
              "    60% {\n",
              "      border-color: transparent;\n",
              "      border-right-color: var(--fill-color);\n",
              "    }\n",
              "    80% {\n",
              "      border-color: transparent;\n",
              "      border-right-color: var(--fill-color);\n",
              "      border-bottom-color: var(--fill-color);\n",
              "    }\n",
              "    90% {\n",
              "      border-color: transparent;\n",
              "      border-bottom-color: var(--fill-color);\n",
              "    }\n",
              "  }\n",
              "</style>\n",
              "\n",
              "      <script>\n",
              "        async function quickchart(key) {\n",
              "          const quickchartButtonEl =\n",
              "            document.querySelector('#' + key + ' button');\n",
              "          quickchartButtonEl.disabled = true;  // To prevent multiple clicks.\n",
              "          quickchartButtonEl.classList.add('colab-df-spinner');\n",
              "          try {\n",
              "            const charts = await google.colab.kernel.invokeFunction(\n",
              "                'suggestCharts', [key], {});\n",
              "          } catch (error) {\n",
              "            console.error('Error during call to suggestCharts:', error);\n",
              "          }\n",
              "          quickchartButtonEl.classList.remove('colab-df-spinner');\n",
              "          quickchartButtonEl.classList.add('colab-df-quickchart-complete');\n",
              "        }\n",
              "        (() => {\n",
              "          let quickchartButtonEl =\n",
              "            document.querySelector('#df-e24ea8eb-9ade-4d8b-a467-61996d794a1a button');\n",
              "          quickchartButtonEl.style.display =\n",
              "            google.colab.kernel.accessAllowed ? 'block' : 'none';\n",
              "        })();\n",
              "      </script>\n",
              "    </div>\n",
              "\n",
              "    </div>\n",
              "  </div>\n"
            ],
            "application/vnd.google.colaboratory.intrinsic+json": {
              "type": "dataframe",
              "variable_name": "spotify_df",
              "summary": "{\n  \"name\": \"spotify_df\",\n  \"rows\": 6513,\n  \"fields\": [\n    {\n      \"column\": \"id\",\n      \"properties\": {\n        \"dtype\": \"string\",\n        \"num_unique_values\": 6513,\n        \"samples\": [\n          \"6wos8Ds5FKMe33GjBHRake\",\n          \"1d7q712nXjG98HiwHk7HFS\",\n          \"1Qg9jWGDkKAGZXj5v2OG59\"\n        ],\n        \"semantic_type\": \"\",\n        \"description\": \"\"\n      }\n    },\n    {\n      \"column\": \"artist_names\",\n      \"properties\": {\n        \"dtype\": \"category\",\n        \"num_unique_values\": 3001,\n        \"samples\": [\n          \"Louis Tomlinson\",\n          \"Migos, Travis Scott, Ty Dolla $ign, Big Sean\",\n          \"Nick Jonas, Anne-Marie, Mike Posner\"\n        ],\n        \"semantic_type\": \"\",\n        \"description\": \"\"\n      }\n    },\n    {\n      \"column\": \"track_name\",\n      \"properties\": {\n        \"dtype\": \"string\",\n        \"num_unique_values\": 5351,\n        \"samples\": [\n          \"A Sweeter Place (feat. Kid Cudi)\",\n          \"Bodak Yellow\",\n          \"Instagram\"\n        ],\n        \"semantic_type\": \"\",\n        \"description\": \"\"\n      }\n    },\n    {\n      \"column\": \"source\",\n      \"properties\": {\n        \"dtype\": \"category\",\n        \"num_unique_values\": 967,\n        \"samples\": [\n          \"Rich The Kid / (TDE/ISR PS)\",\n          \"Riot Games\",\n          \"Roc Nation Records LLC\"\n        ],\n        \"semantic_type\": \"\",\n        \"description\": \"\"\n      }\n    },\n    {\n      \"column\": \"key\",\n      \"properties\": {\n        \"dtype\": \"category\",\n        \"num_unique_values\": 12,\n        \"samples\": [\n          \"F#/Gb\",\n          \"D\",\n          \"G\"\n        ],\n        \"semantic_type\": \"\",\n        \"description\": \"\"\n      }\n    },\n    {\n      \"column\": \"mode\",\n      \"properties\": {\n        \"dtype\": \"category\",\n        \"num_unique_values\": 2,\n        \"samples\": [\n          \"Minor\",\n          \"Major\"\n        ],\n        \"semantic_type\": \"\",\n        \"description\": \"\"\n      }\n    },\n    {\n      \"column\": \"time_signature\",\n      \"properties\": {\n        \"dtype\": \"category\",\n        \"num_unique_values\": 4,\n        \"samples\": [\n          \"5 beats\",\n          \"1\"\n        ],\n        \"semantic_type\": \"\",\n        \"description\": \"\"\n      }\n    },\n    {\n      \"column\": \"danceability\",\n      \"properties\": {\n        \"dtype\": \"number\",\n        \"std\": 0.14178728706021024,\n        \"min\": 0.15,\n        \"max\": 0.985,\n        \"num_unique_values\": 686,\n        \"samples\": [\n          0.618,\n          0.418\n        ],\n        \"semantic_type\": \"\",\n        \"description\": \"\"\n      }\n    },\n    {\n      \"column\": \"energy\",\n      \"properties\": {\n        \"dtype\": \"number\",\n        \"std\": 0.16481253789387149,\n        \"min\": 0.0218,\n        \"max\": 0.989,\n        \"num_unique_values\": 805,\n        \"samples\": [\n          0.331,\n          0.941\n        ],\n        \"semantic_type\": \"\",\n        \"description\": \"\"\n      }\n    },\n    {\n      \"column\": \"speechiness\",\n      \"properties\": {\n        \"dtype\": \"number\",\n        \"std\": 0.1134414598261523,\n        \"min\": 0.0232,\n        \"max\": 0.966,\n        \"num_unique_values\": 1146,\n        \"samples\": [\n          0.0496,\n          0.0968\n        ],\n        \"semantic_type\": \"\",\n        \"description\": \"\"\n      }\n    },\n    {\n      \"column\": \"acousticness\",\n      \"properties\": {\n        \"dtype\": \"number\",\n        \"std\": 0.2447843932595484,\n        \"min\": 7.53e-06,\n        \"max\": 0.994,\n        \"num_unique_values\": 2020,\n        \"samples\": [\n          0.227,\n          0.0199\n        ],\n        \"semantic_type\": \"\",\n        \"description\": \"\"\n      }\n    },\n    {\n      \"column\": \"instrumentalness\",\n      \"properties\": {\n        \"dtype\": \"number\",\n        \"std\": 0.07515096868581032,\n        \"min\": 0.0,\n        \"max\": 0.953,\n        \"num_unique_values\": 1833,\n        \"samples\": [\n          0.000227,\n          0.00919\n        ],\n        \"semantic_type\": \"\",\n        \"description\": \"\"\n      }\n    },\n    {\n      \"column\": \"liveness\",\n      \"properties\": {\n        \"dtype\": \"number\",\n        \"std\": 0.1380543529009922,\n        \"min\": 0.0197,\n        \"max\": 0.977,\n        \"num_unique_values\": 1071,\n        \"samples\": [\n          0.094,\n          0.0578\n        ],\n        \"semantic_type\": \"\",\n        \"description\": \"\"\n      }\n    },\n    {\n      \"column\": \"valence\",\n      \"properties\": {\n        \"dtype\": \"number\",\n        \"std\": 0.22700059158361902,\n        \"min\": 0.032,\n        \"max\": 0.982,\n        \"num_unique_values\": 1013,\n        \"samples\": [\n          0.0807,\n          0.624\n        ],\n        \"semantic_type\": \"\",\n        \"description\": \"\"\n      }\n    },\n    {\n      \"column\": \"loudness\",\n      \"properties\": {\n        \"dtype\": \"number\",\n        \"std\": 2.536114362713086,\n        \"min\": -34.475,\n        \"max\": 1.509,\n        \"num_unique_values\": 4255,\n        \"samples\": [\n          -3.547,\n          -7.415\n        ],\n        \"semantic_type\": \"\",\n        \"description\": \"\"\n      }\n    },\n    {\n      \"column\": \"tempo\",\n      \"properties\": {\n        \"dtype\": \"number\",\n        \"std\": 29.416096740706195,\n        \"min\": 46.718,\n        \"max\": 212.117,\n        \"num_unique_values\": 5353,\n        \"samples\": [\n          113.669,\n          105.137\n        ],\n        \"semantic_type\": \"\",\n        \"description\": \"\"\n      }\n    },\n    {\n      \"column\": \"duration_ms\",\n      \"properties\": {\n        \"dtype\": \"number\",\n        \"std\": 49199,\n        \"min\": 30133,\n        \"max\": 690732,\n        \"num_unique_values\": 5460,\n        \"samples\": [\n          236160,\n          227467\n        ],\n        \"semantic_type\": \"\",\n        \"description\": \"\"\n      }\n    },\n    {\n      \"column\": \"weeks_on_chart\",\n      \"properties\": {\n        \"dtype\": \"number\",\n        \"std\": 24,\n        \"min\": 1,\n        \"max\": 367,\n        \"num_unique_values\": 159,\n        \"samples\": [\n          367,\n          217\n        ],\n        \"semantic_type\": \"\",\n        \"description\": \"\"\n      }\n    },\n    {\n      \"column\": \"streams\",\n      \"properties\": {\n        \"dtype\": \"number\",\n        \"std\": 227669470,\n        \"min\": 2525159,\n        \"max\": 3528450184,\n        \"num_unique_values\": 6513,\n        \"samples\": [\n          3812830,\n          15967986\n        ],\n        \"semantic_type\": \"\",\n        \"description\": \"\"\n      }\n    }\n  ]\n}"
            }
          },
          "metadata": {},
          "execution_count": 88
        }
      ],
      "source": [
        "spotify_df = pd.read_csv(file_path)\n",
        "spotify_df.head()"
      ]
    },
    {
      "cell_type": "code",
      "execution_count": 89,
      "id": "xN46mTIK6wOA",
      "metadata": {
        "id": "xN46mTIK6wOA",
        "colab": {
          "base_uri": "https://localhost:8080/"
        },
        "outputId": "85872e9e-f387-4769-fa3f-25e1a8717b4a"
      },
      "outputs": [
        {
          "output_type": "execute_result",
          "data": {
            "text/plain": [
              "Index(['id', 'artist_names', 'track_name', 'source', 'key', 'mode',\n",
              "       'time_signature', 'danceability', 'energy', 'speechiness',\n",
              "       'acousticness', 'instrumentalness', 'liveness', 'valence', 'loudness',\n",
              "       'tempo', 'duration_ms', 'weeks_on_chart', 'streams'],\n",
              "      dtype='object')"
            ]
          },
          "metadata": {},
          "execution_count": 89
        }
      ],
      "source": [
        "spotify_df.columns"
      ]
    },
    {
      "cell_type": "markdown",
      "id": "pU2jeDGZ60TN",
      "metadata": {
        "id": "pU2jeDGZ60TN"
      },
      "source": [
        "###PLOTTING RATA-RATA NILAI SEMUA FITUR AUDIO\n",
        "Saya menghitung rata-rata dari setiap fitur audio dalam dataset untuk menganalisis kontribusinya terhadap kesukaan lagu.\n",
        "**Nilai Rata-Rata dan Plot Jarak untuk Fitur Danceability**\n",
        "Selanjutnya, saya akan membuat plot untuk menunjukkan nilai rata-rata dan distribusi fitur danceability guna mengevaluasi dampaknya terhadap kesukaan lagu."
      ]
    },
    {
      "cell_type": "code",
      "execution_count": 90,
      "id": "W787vaMo6z9o",
      "metadata": {
        "id": "W787vaMo6z9o",
        "colab": {
          "base_uri": "https://localhost:8080/",
          "height": 466
        },
        "outputId": "0517c192-b0db-4fe6-97f5-7418b7c21d93"
      },
      "outputs": [
        {
          "output_type": "stream",
          "name": "stdout",
          "text": [
            "Mean value for danceability: 0.6817306924612314\n"
          ]
        },
        {
          "output_type": "display_data",
          "data": {
            "text/plain": [
              "<Figure size 640x480 with 1 Axes>"
            ],
            "image/png": "[encoded data removed]"
          },
          "metadata": {}
        }
      ],
      "source": [
        "print(\"Mean value for danceability:\", spotify_df['danceability'].mean())\n",
        "\n",
        "sns.histplot(spotify_df['danceability'], kde=True)\n",
        "plt.show()\n"
      ]
    },
    {
      "cell_type": "markdown",
      "id": "oCaWzdifJi7W",
      "metadata": {
        "id": "oCaWzdifJi7W"
      },
      "source": [
        "Dengan nilai rata-rata sebesar 0,681, jelas bahwa sebagian besar lagu teratas memiliki rating danceability yang tinggi.\n"
      ]
    },
    {
      "cell_type": "markdown",
      "id": "u_AyB2IbJvlv",
      "metadata": {
        "id": "u_AyB2IbJvlv"
      },
      "source": [
        "###Nilai Rata-Rata dan Plot Jarak untuk Fitur ENERGY"
      ]
    },
    {
      "cell_type": "code",
      "execution_count": 91,
      "id": "1ynRNMYK6yVu",
      "metadata": {
        "id": "1ynRNMYK6yVu",
        "colab": {
          "base_uri": "https://localhost:8080/",
          "height": 466
        },
        "outputId": "cf170a3b-83cd-4124-95e7-6bbc58ada250"
      },
      "outputs": [
        {
          "output_type": "stream",
          "name": "stdout",
          "text": [
            "Mean value for energy: 0.6365222785198832\n"
          ]
        },
        {
          "output_type": "display_data",
          "data": {
            "text/plain": [
              "<Figure size 640x480 with 1 Axes>"
            ],
            "image/png": "[encoded data removed]"
          },
          "metadata": {}
        }
      ],
      "source": [
        "print(\"Mean value for energy:\", spotify_df['energy'].mean())\n",
        "sns.histplot(spotify_df['energy'], kde=True)\n",
        "plt.show()"
      ]
    },
    {
      "cell_type": "markdown",
      "id": "jPGytCjcKNtO",
      "metadata": {
        "id": "jPGytCjcKNtO"
      },
      "source": [
        "Sepertinya orang lebih suka lagu yang enerjik daripada yang tenang (rata-rata 0.636), meskipun fitur ini terlihat lebih merata distribusinya dibandingkan dengan danceability."
      ]
    },
    {
      "cell_type": "markdown",
      "id": "EJnPKDNTK4U2",
      "metadata": {
        "id": "EJnPKDNTK4U2"
      },
      "source": [
        "###Memetakan Nilai Numerik Kunci ke Not"
      ]
    },
    {
      "cell_type": "code",
      "execution_count": 92,
      "id": "5vqv_6xl68oO",
      "metadata": {
        "id": "5vqv_6xl68oO",
        "colab": {
          "base_uri": "https://localhost:8080/",
          "height": 472
        },
        "outputId": "76f72cfb-d50a-4c73-a899-cd06737747ef"
      },
      "outputs": [
        {
          "output_type": "display_data",
          "data": {
            "text/plain": [
              "<Figure size 640x480 with 1 Axes>"
            ],
            "image/png": "[encoded data removed]"
          },
          "metadata": {}
        }
      ],
      "source": [
        "import seaborn as sns\n",
        "import matplotlib.pyplot as plt\n",
        "import pandas as pd\n",
        "\n",
        "# Pemetaan key ke nama kunci\n",
        "key_mapping = {\n",
        "    0.0: 'C',\n",
        "    1.0: 'C♯,D♭',\n",
        "    2.0: 'D',\n",
        "    3.0: 'D♯,E♭',\n",
        "    4.0: 'E',\n",
        "    5.0: 'F',\n",
        "    6.0: 'F♯,G♭',\n",
        "    7.0: 'G',\n",
        "    8.0: 'G♯,A♭',\n",
        "    9.0: 'A',\n",
        "    10.0: 'A♯,B♭',\n",
        "    11.0: 'B'\n",
        "}\n",
        "\n",
        "# Mengubah kolom 'key' menjadi nama kunci sesuai dengan key_mapping\n",
        "spotify_df['key'] = spotify_df['key'].map(key_mapping)\n",
        "\n",
        "# Visualisasi count plot untuk kolom 'key'\n",
        "sns.countplot(x='key', data=spotify_df, order=spotify_df['key'].value_counts().index)\n",
        "\n",
        "# Menambahkan judul dan label\n",
        "plt.title(\"Count of Song Keys\")\n",
        "plt.xlabel('Song Key')\n",
        "plt.ylabel('Count')\n",
        "\n",
        "# Menampilkan plot\n",
        "plt.show()\n"
      ]
    },
    {
      "cell_type": "markdown",
      "id": "Eqm7PEhGNKnJ",
      "metadata": {
        "id": "Eqm7PEhGNKnJ"
      },
      "source": [
        "Kunci yang paling umum di antara lagu-lagu teratas adalah C♯/D♭."
      ]
    },
    {
      "cell_type": "markdown",
      "id": "mAixnITC7BsY",
      "metadata": {
        "id": "mAixnITC7BsY"
      },
      "source": [
        "### Nilai Rata-Rata dan Plot Jarak untuk Fitur LOUDNESS\n"
      ]
    },
    {
      "cell_type": "code",
      "execution_count": 93,
      "id": "_VWVyzMP7CgI",
      "metadata": {
        "id": "_VWVyzMP7CgI",
        "colab": {
          "base_uri": "https://localhost:8080/",
          "height": 466
        },
        "outputId": "4593875c-c331-40c9-c0aa-bf532563417e"
      },
      "outputs": [
        {
          "output_type": "stream",
          "name": "stdout",
          "text": [
            "Mean value for loudness: -6.350666513127591\n"
          ]
        },
        {
          "output_type": "display_data",
          "data": {
            "text/plain": [
              "<Figure size 640x480 with 1 Axes>"
            ],
            "image/png": "[encoded data removed]"
          },
          "metadata": {}
        }
      ],
      "source": [
        "print(\"Mean value for loudness:\", spotify_df['loudness'].mean())\n",
        "sns.histplot(spotify_df['loudness'], kde=True)  # Menggunakan histplot dan menambahkan KDE\n",
        "plt.show()"
      ]
    },
    {
      "cell_type": "markdown",
      "id": "w0K3fOo8Nx0X",
      "metadata": {
        "id": "w0K3fOo8Nx0X"
      },
      "source": [
        "Karena nilainya negatif, ini menunjukkan bahwa orang cenderung menyukai lagu-lagu yang tidak terlalu keras."
      ]
    },
    {
      "cell_type": "markdown",
      "id": "oJenEHUL7Kkp",
      "metadata": {
        "id": "oJenEHUL7Kkp"
      },
      "source": [
        "###Nilai Rata-Rata dan Plot Jarak untuk Fitur SPEECHINES"
      ]
    },
    {
      "cell_type": "code",
      "execution_count": 94,
      "id": "wk-m7IHB7JEC",
      "metadata": {
        "id": "wk-m7IHB7JEC",
        "colab": {
          "base_uri": "https://localhost:8080/",
          "height": 466
        },
        "outputId": "9fe474c9-2515-457d-8c4b-977d944aa198"
      },
      "outputs": [
        {
          "output_type": "stream",
          "name": "stdout",
          "text": [
            "Mean value for speechiness: 0.12193311837862736\n"
          ]
        },
        {
          "output_type": "display_data",
          "data": {
            "text/plain": [
              "<Figure size 640x480 with 1 Axes>"
            ],
            "image/png": "[encoded data removed]"
          },
          "metadata": {}
        }
      ],
      "source": [
        "print(\"Mean value for speechiness:\", spotify_df['speechiness'].mean())\n",
        "sns.histplot(spotify_df['speechiness'], kde=True)  # Menggunakan histplot dan menambahkan KDE\n",
        "plt.show()"
      ]
    },
    {
      "cell_type": "markdown",
      "id": "CsTR3uPI7gW2",
      "metadata": {
        "id": "CsTR3uPI7gW2"
      },
      "source": [
        "Nilai rata-rata untuk fitur speechiness adalah rendah, yaitu hanya 0,121, yang menyimpulkan bahwa orang lebih suka lagu-lagu yang memiliki lebih banyak musik di dalamnya."
      ]
    },
    {
      "cell_type": "markdown",
      "id": "NYT_kEm87kyZ",
      "metadata": {
        "id": "NYT_kEm87kyZ"
      },
      "source": [
        "###Nilai Rata-Rata dan Plot Jarak untuk Fitur ACOUSTICNESS"
      ]
    },
    {
      "cell_type": "code",
      "execution_count": 95,
      "id": "IXkd_i7DQKmE",
      "metadata": {
        "id": "IXkd_i7DQKmE",
        "colab": {
          "base_uri": "https://localhost:8080/",
          "height": 470
        },
        "outputId": "bfe5ec08-d770-45ea-ff76-c097648f798a"
      },
      "outputs": [
        {
          "output_type": "stream",
          "name": "stdout",
          "text": [
            "Mean value for acousticness: 0.23676098454322128\n"
          ]
        },
        {
          "output_type": "display_data",
          "data": {
            "text/plain": [
              "<Figure size 640x480 with 1 Axes>"
            ],
            "image/png": "[encoded data removed]"
          },
          "metadata": {}
        }
      ],
      "source": [
        "print(\"Mean value for acousticness:\", spotify_df['acousticness'].mean())\n",
        "sns.histplot(spotify_df['acousticness'], kde=True)  # Menggunakan histplot dan menambahkan KDE\n",
        "plt.show()\n"
      ]
    },
    {
      "cell_type": "markdown",
      "id": "c8H7Yp_i7j0P",
      "metadata": {
        "id": "c8H7Yp_i7j0P"
      },
      "source": [
        "Orang lebih suka lagu non-akustik daripada lagu akustik."
      ]
    },
    {
      "cell_type": "markdown",
      "id": "7YqygscmQZTm",
      "metadata": {
        "id": "7YqygscmQZTm"
      },
      "source": [
        "###Nilai Rata-Rata dan Plot Jarak untuk Fitur INSTRUMENTALNESS"
      ]
    },
    {
      "cell_type": "code",
      "execution_count": null,
      "id": "ZuVN2hyC7oqi",
      "metadata": {
        "id": "ZuVN2hyC7oqi",
        "colab": {
          "base_uri": "https://localhost:8080/"
        },
        "outputId": "3f7efdf7-8237-4bb0-b8eb-b72caaaf7711"
      },
      "outputs": [
        {
          "output_type": "stream",
          "name": "stdout",
          "text": [
            "Mean value for instrumentalness: 0.012468691260555812\n"
          ]
        }
      ],
      "source": [
        "print(\"Mean value for instrumentalness:\", spotify_df['instrumentalness'].mean())\n",
        "sns.histplot(spotify_df['instrumentalness'], kde=True)  # Menggunakan histplot dan menambahkan KDE\n",
        "plt.show()\n"
      ]
    },
    {
      "cell_type": "markdown",
      "id": "YNinfbtZQrpe",
      "metadata": {
        "id": "YNinfbtZQrpe"
      },
      "source": [
        "Orang cenderung tidak menyukai lagu yang memiliki terlalu banyak instrumen."
      ]
    },
    {
      "cell_type": "markdown",
      "id": "Ft_niy-s7t0Q",
      "metadata": {
        "id": "Ft_niy-s7t0Q"
      },
      "source": [
        "###Nilai Rata-Rata dan Plot Jarak untuk Fitur LIVENESS"
      ]
    },
    {
      "cell_type": "code",
      "execution_count": null,
      "id": "vdjyY69P7vCw",
      "metadata": {
        "id": "vdjyY69P7vCw"
      },
      "outputs": [],
      "source": [
        "print(\"Mean value for liveness:\", spotify_df['liveness'].mean())\n",
        "sns.histplot(spotify_df['liveness'], kde=True)  # Menggunakan histplot dan menambahkan KDE\n",
        "plt.show()\n"
      ]
    },
    {
      "cell_type": "markdown",
      "id": "806k_3gC7zBk",
      "metadata": {
        "id": "806k_3gC7zBk"
      },
      "source": [
        "###Nilai Rata-Rata dan Plot Jarak untuk Fitur TEMPO"
      ]
    },
    {
      "cell_type": "code",
      "execution_count": null,
      "id": "R9i5vUEXTgPc",
      "metadata": {
        "id": "R9i5vUEXTgPc"
      },
      "outputs": [],
      "source": [
        "print('Mean value for tempo feature:', spotify_df['tempo'].mean())\n",
        "sns.histplot(spotify_df['tempo'], kde=True)\n",
        "plt.show()"
      ]
    },
    {
      "cell_type": "markdown",
      "id": "xeZhdzy673Cy",
      "metadata": {
        "id": "xeZhdzy673Cy"
      },
      "source": [
        "Dari nilai rata-rata, terbukti bahwa orang cenderung lebih menyukai lagu-lagu dengan tempo cepat dibandingkan yang lambat."
      ]
    },
    {
      "cell_type": "markdown",
      "id": "MOOQWqoaT0VA",
      "metadata": {
        "id": "MOOQWqoaT0VA"
      },
      "source": [
        "###Nilai Rata-Rata dan Plot Jarak untuk Fitur DURATION"
      ]
    },
    {
      "cell_type": "code",
      "execution_count": null,
      "id": "JZmpD-bF7309",
      "metadata": {
        "id": "JZmpD-bF7309"
      },
      "outputs": [],
      "source": [
        "# Menghitung rata-rata durasi dalam menit\n",
        "print('Mean value for duration feature:', spotify_df['duration'].mean())\n",
        "\n",
        "# Menampilkan histogram untuk kolom 'duration' dalam menit\n",
        "sns.histplot(spotify_df['duration'], kde=True)\n",
        "plt.show()\n"
      ]
    },
    {
      "cell_type": "markdown",
      "id": "9wtBi-yobLhC",
      "metadata": {
        "id": "9wtBi-yobLhC"
      },
      "source": [
        "Orang cenderung menyukai lagu-lagu yang bukan terlalu panjang dan bukan terlalu pendek.\n"
      ]
    },
    {
      "cell_type": "markdown",
      "id": "kg1pO1VqbNix",
      "metadata": {
        "id": "kg1pO1VqbNix"
      },
      "source": [
        "###Nilai Rata-Rata dan Plot Jarak untuk Fitur TIME_SIGNATURE"
      ]
    },
    {
      "cell_type": "code",
      "execution_count": null,
      "id": "Myvhd_pdbNFe",
      "metadata": {
        "id": "Myvhd_pdbNFe"
      },
      "outputs": [],
      "source": [
        "print('Mean value for time_signature feature:', spotify_df['time_signature'].mean())\n",
        "sns.distplot(spotify_df['time_signature'])\n",
        "plt.show()"
      ]
    },
    {
      "cell_type": "markdown",
      "id": "zEBiOsXNcOkD",
      "metadata": {
        "id": "zEBiOsXNcOkD"
      },
      "source": [
        "Orang cenderung mendengarkan lagu yang memiliki tanda waktu 4/5."
      ]
    },
    {
      "cell_type": "markdown",
      "id": "OAX6H53-Llft",
      "metadata": {
        "id": "OAX6H53-Llft"
      },
      "source": [
        "##Saya membangun heatmap ini untuk melihat fitur audio mana yang memiliki korelasi tinggi satu sama lain dan berkontribusi terhadap kesukaan lagu.\n",
        "\n",
        "**CMAP**: Pemetaan dari nilai data ke ruang warna. Jika tidak disediakan, defaultnya akan bergantung pada apakah pusat ditetapkan.\n",
        "**ANNOT**: Jika True, tulis nilai data di setiap sel. Jika berupa array yang memiliki bentuk yang sama dengan data, maka gunakan ini untuk memberi anotasi pada heatmap alih-alih data mentah."
      ]
    },
    {
      "cell_type": "code",
      "execution_count": null,
      "id": "tQZLgL7ncJix",
      "metadata": {
        "id": "tQZLgL7ncJix"
      },
      "outputs": [],
      "source": [
        "# Exclude non-numeric columns (e.g., artist_name, track_name) before calculating correlation\n",
        "numeric_columns = spotify_df.select_dtypes(include=['number']).columns\n",
        "spotify_df_numeric = spotify_df[numeric_columns]\n",
        "\n",
        "# Plot the heatmap\n",
        "plt.figure(figsize=(16, 5))\n",
        "sns.heatmap(spotify_df_numeric.corr(), cmap=\"coolwarm\", annot=True)\n",
        "plt.show()\n"
      ]
    },
    {
      "cell_type": "markdown",
      "id": "lWSrEzcLMCJv",
      "metadata": {
        "id": "lWSrEzcLMCJv"
      },
      "source": [
        "***PAIRPLOT***\n",
        "\n",
        "Saya membuat pairplot ini untuk menunjukkan hubungan antar fitur audio dan distribusi masing-masing fitur seperti loudness, acousticness, energy, dan instrumentalness. Fungsi ini akan membuat grid di mana setiap variabel dalam data akan ditampilkan di sumbu y pada satu baris dan di sumbu x pada satu kolom. Diagonal grid akan menampilkan plot distribusi untuk setiap variabel tersebut."
      ]
    },
    {
      "cell_type": "code",
      "execution_count": null,
      "id": "BAl3r3H0dZF-",
      "metadata": {
        "id": "BAl3r3H0dZF-"
      },
      "outputs": [],
      "source": [
        "sns.pairplot(spotify_df,vars= ['loudness','acousticness','energy','instrumentalness'])"
      ]
    },
    {
      "cell_type": "markdown",
      "id": "9WUp-BfQNGFl",
      "metadata": {
        "id": "9WUp-BfQNGFl"
      },
      "source": [
        "**KORELASI MENGGUNAKAN REGRESI LINIER**\n",
        "\n",
        "Untuk mengeksplorasi lebih jauh fitur audio, saya mencoba mencari korelasi antara beberapa fitur. Saya mencoba menemukan korelasi antara valence dan danceability dengan melatih model regresi linier dan memplot korelasinya dalam bentuk scatterplot."
      ]
    },
    {
      "cell_type": "code",
      "execution_count": null,
      "id": "nIstlr_9tm5i",
      "metadata": {
        "id": "nIstlr_9tm5i"
      },
      "outputs": [],
      "source": [
        "# Trying to find correlation between valence and danceability by training a linear regression model\n",
        "x = spotify_df[\"danceability\"].values\n",
        "y = spotify_df[\"valence\"].values\n",
        "\n",
        "# Reshaping the dataset for x and y axes\n",
        "x = x.reshape(x.shape[0], 1)\n",
        "y = y.reshape(y.shape[0], 1)\n",
        "\n",
        "# Training the linear regression model on the dataset\n",
        "regr = linear_model.LinearRegression()\n",
        "regr.fit(x, y)\n",
        "\n",
        "# Plotting the correlation between danceability and song mood using the trained 'regr' model\n",
        "fig = plt.figure(figsize=(6, 6))\n",
        "fig.suptitle(\"Correlation between Danceability and Song Mood\")\n",
        "\n",
        "ax = plt.subplot(1, 1, 1)\n",
        "ax.scatter(x, y, alpha=0.5)\n",
        "ax.plot(x, regr.predict(x), color=\"red\", linewidth=3)\n",
        "plt.xticks(())\n",
        "plt.yticks(())\n",
        "\n",
        "ax.xaxis.set_major_locator(ticker.MultipleLocator(0.1))\n",
        "ax.xaxis.set_minor_locator(ticker.MultipleLocator(0.02))\n",
        "\n",
        "ax.yaxis.set_major_locator(ticker.MultipleLocator(0.1))\n",
        "ax.yaxis.set_minor_locator(ticker.MultipleLocator(0.02))\n",
        "\n",
        "plt.xlabel(\"Danceability\")\n",
        "plt.ylabel(\"Valence\")\n",
        "\n",
        "plt.show()"
      ]
    },
    {
      "cell_type": "code",
      "execution_count": null,
      "id": "9AJT-oBAv470",
      "metadata": {
        "id": "9AJT-oBAv470"
      },
      "outputs": [],
      "source": [
        "\n",
        "# Menggunakan teknik korelasi untuk danceability dan energy\n",
        "x = spotify_df[\"danceability\"].values\n",
        "y = spotify_df[\"energy\"].values\n",
        "\n",
        "x = x.reshape(x.shape[0], 1)\n",
        "y = y.reshape(y.shape[0], 1)\n",
        "\n",
        "# Model regresi linear\n",
        "regr = linear_model.LinearRegression()\n",
        "regr.fit(x, y)\n",
        "\n",
        "# Membuat plot\n",
        "fig = plt.figure(figsize=(6, 6))\n",
        "fig.suptitle(\"Correlation between danceability and energy\")\n",
        "\n",
        "ax = plt.subplot(1, 1, 1)\n",
        "ax.scatter(x, y, alpha=0.5)\n",
        "ax.plot(x, regr.predict(x), color=\"red\", linewidth=3)\n",
        "\n",
        "# Menghapus ticks\n",
        "plt.xticks(())\n",
        "plt.yticks(())\n",
        "\n",
        "# Mengatur ticks minor dan major\n",
        "ax.xaxis.set_major_locator(ticker.MultipleLocator(0.1))\n",
        "ax.xaxis.set_minor_locator(ticker.MultipleLocator(0.02))\n",
        "\n",
        "ax.yaxis.set_major_locator(ticker.MultipleLocator(0.1))\n",
        "ax.yaxis.set_minor_locator(ticker.MultipleLocator(0.02))\n",
        "\n",
        "# Menambahkan label sumbu\n",
        "plt.xlabel(\"danceability\")\n",
        "plt.ylabel(\"energy\")\n",
        "\n",
        "# Menampilkan plot\n",
        "plt.show()\n"
      ]
    },
    {
      "cell_type": "code",
      "execution_count": null,
      "id": "dcb_M029wCRM",
      "metadata": {
        "id": "dcb_M029wCRM"
      },
      "outputs": [],
      "source": [
        "# Menggunakan teknik korelasi untuk danceability dan speechiness\n",
        "x = spotify_df[\"danceability\"].values\n",
        "y = spotify_df[\"speechiness\"].values\n",
        "\n",
        "x = x.reshape(x.shape[0], 1)\n",
        "y = y.reshape(y.shape[0], 1)\n",
        "\n",
        "# Model regresi linear\n",
        "regr = linear_model.LinearRegression()\n",
        "regr.fit(x, y)\n",
        "\n",
        "# Membuat plot\n",
        "fig = plt.figure(figsize=(6, 6))\n",
        "fig.suptitle(\"Correlation between danceability and speechiness\")\n",
        "\n",
        "ax = plt.subplot(1, 1, 1)\n",
        "ax.scatter(x, y, alpha=0.5)\n",
        "ax.plot(x, regr.predict(x), color=\"red\", linewidth=3)\n",
        "\n",
        "# Menghapus ticks\n",
        "plt.xticks(())\n",
        "plt.yticks(())\n",
        "\n",
        "# Mengatur ticks minor dan major\n",
        "ax.xaxis.set_major_locator(ticker.MultipleLocator(0.1))\n",
        "ax.xaxis.set_minor_locator(ticker.MultipleLocator(0.02))\n",
        "\n",
        "ax.yaxis.set_major_locator(ticker.MultipleLocator(0.1))\n",
        "ax.yaxis.set_minor_locator(ticker.MultipleLocator(0.02))\n",
        "\n",
        "# Menambahkan label sumbu\n",
        "plt.xlabel(\"danceability\")\n",
        "plt.ylabel(\"speechiness\")\n",
        "\n",
        "# Menampilkan plot\n",
        "plt.show()"
      ]
    },
    {
      "cell_type": "code",
      "execution_count": null,
      "id": "7OwOpjEDwx4a",
      "metadata": {
        "id": "7OwOpjEDwx4a"
      },
      "outputs": [],
      "source": [
        "# Menggunakan teknik korelasi untuk danceability dan speechiness\n",
        "x = spotify_df[\"acousticness\"].values.reshape(-1, 1)\n",
        "y = spotify_df[\"energy\"].values.reshape(-1, 1)\n",
        "\n",
        "x = x.reshape(x.shape[0], 1)\n",
        "y = y.reshape(y.shape[0], 1)\n",
        "\n",
        "regr = linear_model.LinearRegression()\n",
        "regr.fit(x, y)\n",
        "\n",
        "fig = plt.figure(figsize=(6, 6))\n",
        "fig.suptitle(\"Correlation between acousticness and energy\")\n",
        "\n",
        "ax = plt.subplot(1, 1, 1)\n",
        "ax.scatter(x, y, alpha=0.5)\n",
        "ax.plot(x, regr.predict(x), color=\"red\", linewidth=3)\n",
        "plt.xticks(())\n",
        "plt.yticks(())\n",
        "\n",
        "ax.xaxis.set_major_locator(ticker.MultipleLocator(0.1))\n",
        "ax.xaxis.set_minor_locator(ticker.MultipleLocator(0.02))\n",
        "\n",
        "ax.yaxis.set_major_locator(ticker.MultipleLocator(0.1))\n",
        "ax.yaxis.set_minor_locator(ticker.MultipleLocator(0.02))\n",
        "\n",
        "plt.xlabel(\"acousticness\")\n",
        "plt.ylabel(\"energy\")\n",
        "\n",
        "plt.show()"
      ]
    },
    {
      "cell_type": "markdown",
      "id": "2B6sGePmyHp2",
      "metadata": {
        "id": "2B6sGePmyHp2"
      },
      "source": [
        "##SPLITTING THE DATASET BY SENTIMENT\n",
        "Splitting dataset into random train and test subsets with ratio of 70:30"
      ]
    },
    {
      "cell_type": "code",
      "execution_count": null,
      "id": "yqwjWgCbyHQH",
      "metadata": {
        "id": "yqwjWgCbyHQH"
      },
      "outputs": [],
      "source": [
        "from sklearn.model_selection import train_test_split"
      ]
    },
    {
      "cell_type": "code",
      "execution_count": null,
      "id": "ywR_vHYexaSI",
      "metadata": {
        "id": "ywR_vHYexaSI"
      },
      "outputs": [],
      "source": [
        "train, test = train_test_split(spotify_df, test_size=0.30, random_state=42)\n",
        "print(\"Training samples: {}; Test samples: {}\".format(len(train), len(test)))\n"
      ]
    },
    {
      "cell_type": "code",
      "execution_count": null,
      "id": "xSpYIvXc0Wdo",
      "metadata": {
        "id": "xSpYIvXc0Wdo"
      },
      "outputs": [],
      "source": [
        "\n",
        "# Pemisahan data berdasarkan target\n",
        "pos_tempo = spotify_df[spotify_df['target'] == 1]['tempo']\n",
        "neg_tempo = spotify_df[spotify_df['target'] == 0]['tempo']\n",
        "pos_dance = spotify_df[spotify_df['target'] == 1]['danceability']\n",
        "neg_dance = spotify_df[spotify_df['target'] == 0]['danceability']\n",
        "pos_duration = spotify_df[spotify_df['target'] == 1]['duration']\n",
        "neg_duration = spotify_df[spotify_df['target'] == 0]['duration']\n",
        "pos_loudness = spotify_df[spotify_df['target'] == 1]['loudness']\n",
        "neg_loudness = spotify_df[spotify_df['target'] == 0]['loudness']\n",
        "pos_speechiness = spotify_df[spotify_df['target'] == 1]['speechiness']\n",
        "neg_speechiness = spotify_df[spotify_df['target'] == 0]['speechiness']\n",
        "pos_energy = spotify_df[spotify_df['target'] == 1]['energy']\n",
        "neg_energy = spotify_df[spotify_df['target'] == 0]['energy']\n",
        "pos_acousticness = spotify_df[spotify_df['target'] == 1]['acousticness']\n",
        "neg_acousticness = spotify_df[spotify_df['target'] == 0]['acousticness']\n",
        "pos_key = spotify_df[spotify_df['target'] == 1]['key']\n",
        "neg_key = spotify_df[spotify_df['target'] == 0]['key']\n",
        "pos_instrumentalness = spotify_df[spotify_df['target'] == 1]['instrumentalness']\n",
        "neg_instrumentalness = spotify_df[spotify_df['target'] == 0]['instrumentalness']\n"
      ]
    },
    {
      "cell_type": "markdown",
      "id": "2-4rfNaUN1Nc",
      "metadata": {
        "id": "2-4rfNaUN1Nc"
      },
      "source": [
        "PLOTTING HISTOGRAM SAMPLE DISTRIBUSI TEMPO LIKE/DISLIKE"
      ]
    },
    {
      "cell_type": "code",
      "execution_count": null,
      "id": "-ANzVZGr0ex_",
      "metadata": {
        "id": "-ANzVZGr0ex_"
      },
      "outputs": [],
      "source": [
        "fig = plt.figure(figsize=(12, 6))\n",
        "plt.title(\"Song Tempo Like/Dislike Distribution\")\n",
        "pos_tempo.hist(alpha=0.7, bins=30, label='positive')\n",
        "neg_tempo.hist(alpha=0.7, bins=30, label='negative')\n",
        "plt.legend(loc=\"upper right\")"
      ]
    },
    {
      "cell_type": "markdown",
      "id": "ydWg0LJ3Ouiz",
      "metadata": {
        "id": "ydWg0LJ3Ouiz"
      },
      "source": [
        "Distribusi positif mengenai tempo menunjukkan bahwa orang cenderung mendengarkan lagu-lagu yang memiliki tempo sedang."
      ]
    },
    {
      "cell_type": "markdown",
      "id": "6enUsM-LO3FE",
      "metadata": {
        "id": "6enUsM-LO3FE"
      },
      "source": [
        "**PLOTTING DISTRIBUSI LIKE/DISLIKE UNTUK SETIAP FITUR AUDIO DALAM DIAGRAM YANG SAMA**"
      ]
    },
    {
      "cell_type": "code",
      "execution_count": null,
      "id": "wWrQpZTU0iPS",
      "metadata": {
        "id": "wWrQpZTU0iPS"
      },
      "outputs": [],
      "source": [
        "fig2 = plt.figure(figsize=(15, 15))\n",
        "\n",
        "# Danceability\n",
        "ax3 = fig2.add_subplot(331)\n",
        "ax3.set_xlabel('Danceability')\n",
        "ax3.set_ylabel('Count')\n",
        "ax3.set_title(\"Song Danceability Like Distribution\")\n",
        "pos_dance.hist(alpha=0.5, bins=30)\n",
        "ax4 = fig2.add_subplot(331)\n",
        "neg_dance.hist(alpha=0.5, bins=30)\n",
        "\n",
        "\n",
        "# Duration\n",
        "ax5 = fig2.add_subplot(332)\n",
        "pos_duration.hist(alpha=0.5, bins=30)\n",
        "ax5.set_xlabel('Duration (ms)')\n",
        "ax5.set_ylabel('Count')\n",
        "ax5.set_title(\"Song Duration Like Distribution\")\n",
        "ax6 = fig2.add_subplot(332)\n",
        "neg_duration.hist(alpha=0.5, bins=30)\n",
        "\n",
        "\n",
        "# Loudness\n",
        "ax7 = fig2.add_subplot(333)\n",
        "pos_loudness.hist(alpha=0.5, bins=30)\n",
        "ax7.set_xlabel('Loudness')\n",
        "ax7.set_ylabel('Count')\n",
        "ax7.set_title(\"Song Loudness Like Distribution\")\n",
        "ax8 = fig2.add_subplot(333)\n",
        "neg_loudness.hist(alpha=0.5, bins=30)\n",
        "\n",
        "# Speechiness\n",
        "ax9 = fig2.add_subplot(334)\n",
        "pos_speechiness.hist(alpha=0.5, bins=30)\n",
        "ax9.set_xlabel('Speechiness')\n",
        "ax9.set_ylabel('Count')\n",
        "ax9.set_title(\"Song Speechiness Like Distribution\")\n",
        "\n",
        "ax10 = fig2.add_subplot(334)\n",
        "neg_speechiness.hist(alpha=0.5, bins=30)\n",
        "\n",
        "# Energy\n",
        "ax13 = fig2.add_subplot(336)\n",
        "pos_energy.hist(alpha=0.5, bins=30)\n",
        "ax13.set_xlabel('Energy')\n",
        "ax13.set_ylabel('Count')\n",
        "ax13.set_title(\"Song Energy Like Distribution\")\n",
        "\n",
        "ax14 = fig2.add_subplot(336)\n",
        "neg_energy.hist(alpha=0.5, bins=30)\n",
        "\n",
        "# Key\n",
        "ax15 = fig2.add_subplot(337)\n",
        "pos_key.hist(alpha=0.5, bins=30)\n",
        "ax15.set_xlabel('Key')\n",
        "ax15.set_ylabel('Count')\n",
        "ax15.set_title(\"Song Key Like Distribution\")\n",
        "\n",
        "ax15 = fig2.add_subplot(337)\n",
        "neg_key.hist(alpha=0.5, bins=30)\n",
        "\n",
        "# Acousticness\n",
        "ax16 = fig2.add_subplot(338)\n",
        "pos_acousticness.hist(alpha=0.5, bins=30)\n",
        "ax16.set_xlabel('Acousticness')\n",
        "ax16.set_ylabel('Count')\n",
        "ax16.set_title(\"Song Acousticness Like Distribution\")\n",
        "\n",
        "ax16 = fig2.add_subplot(338)\n",
        "neg_acousticness.hist(alpha=0.5, bins=30)\n",
        "\n",
        "# Instrumentalness\n",
        "ax17 = fig2.add_subplot(339)\n",
        "pos_instrumentalness.hist(alpha=0.5, bins=30)\n",
        "ax17.set_xlabel('Instrumentalness')\n",
        "ax17.set_ylabel('Count')\n",
        "ax17.set_title(\"Song Instrumentalness Like Distribution\")\n",
        "\n",
        "ax17 = fig2.add_subplot(339)\n",
        "neg_instrumentalness.hist(alpha=0.5, bins=30)"
      ]
    },
    {
      "cell_type": "markdown",
      "id": "_B3VEm9RgtMT",
      "metadata": {
        "id": "_B3VEm9RgtMT"
      },
      "source": [
        "- Danceability: Orang lebih suka lagu yang mudah untuk diajak menari karena distribusinya menunjukkan lebih banyak lagu dengan tingkat danceability yang tinggi.\n",
        "- Song Duration: Orang lebih suka lagu yang durasinya tidak terlalu panjang maupun pendek.\n",
        "- Loudness: Orang lebih suka lagu yang tidak terlalu keras.\n",
        "- Speechiness: Orang lebih suka lagu dengan tingkat speechiness sedang (antara 0.2 hingga 0.4).\n",
        "- Energy: Orang lebih suka lagu yang enerjik.\n",
        "- Key: Orang lebih suka lagu yang ada di kunci D mayor.\n",
        "- Acousticness: Orang lebih suka lagu yang tidak terlalu banyak unsur akustiknya.\n",
        "- Instrumentalness: Orang lebih suka lagu yang tidak terlalu banyak instrumen musik tanpa vokal."
      ]
    },
    {
      "cell_type": "markdown",
      "id": "cgrAFym5hJNZ",
      "metadata": {
        "id": "cgrAFym5hJNZ"
      },
      "source": [
        "**Menemukan jumlah artis beserta lagu-lagu mereka**"
      ]
    },
    {
      "cell_type": "code",
      "execution_count": null,
      "id": "LmP9tLhB0oN3",
      "metadata": {
        "id": "LmP9tLhB0oN3"
      },
      "outputs": [],
      "source": [
        "speaker_df = spotify_df.groupby('artist_names').count().reset_index()[['artist_names', 'track_name']]  # Ganti 'track_name' dengan kolom yang relevan\n",
        "speaker_df.columns = ['artist_name', 'appearances']  # Ubah nama kolom agar lebih deskriptif\n",
        "\n",
        "# Mengurutkan artis berdasarkan jumlah penampilan\n",
        "speaker_df = speaker_df.sort_values('appearances', ascending=False)\n",
        "\n",
        "# Menampilkan 10 artis teratas\n",
        "speaker_df.head(10)"
      ]
    },
    {
      "cell_type": "markdown",
      "id": "MMbRynuThRiL",
      "metadata": {
        "id": "MMbRynuThRiL"
      },
      "source": [
        "**Memplot grafik batang untuk penampilan yang sama**"
      ]
    },
    {
      "cell_type": "code",
      "execution_count": null,
      "id": "2A5Nagh11bFW",
      "metadata": {
        "id": "2A5Nagh11bFW"
      },
      "outputs": [],
      "source": [
        "plt.figure(figsize=(15, 5))\n",
        "sns.barplot(x='artist_name', y='appearances', data=speaker_df.head(50))  # Gunakan 'artist_name'\n",
        "plt.xticks(rotation=45, ha='right')  # Memutar label sumbu x agar terbaca\n",
        "plt.title('Top 50 Artists by Appearances')\n",
        "plt.xlabel('Artist Name')\n",
        "plt.ylabel('Appearances')\n",
        "plt.show()\n"
      ]
    },
    {
      "cell_type": "markdown",
      "id": "bMR8Gys6160J",
      "metadata": {
        "id": "bMR8Gys6160J"
      },
      "source": [
        "#PELATIHAN ALGORITMA KLASIFIKASI PADA DATASET"
      ]
    },
    {
      "cell_type": "markdown",
      "id": "RA_N6xsO2L4y",
      "metadata": {
        "id": "RA_N6xsO2L4y"
      },
      "source": [
        "## splitting"
      ]
    },
    {
      "cell_type": "markdown",
      "id": "wod3AcTahmI9",
      "metadata": {
        "id": "wod3AcTahmI9"
      },
      "source": [
        "**MEMBAGI DATASET MENJADI DATA TRAIN DAN TEST**\n",
        "Saya telah membagi data dengan perbandingan 80:20 karena data uji selalu lebih sedikit dibandingkan data latih. Selain itu, saya telah menghapus kolom 'TARGET' dari sumbu X dan memindahkannya ke sumbu Y, karena kolom tersebut adalah variabel yang bergantung (dependent variable) yang akan kita klasifikasikan dan prediksi berdasarkan nilainya."
      ]
    },
    {
      "cell_type": "code",
      "execution_count": null,
      "id": "u02vcfK34gWT",
      "metadata": {
        "id": "u02vcfK34gWT"
      },
      "outputs": [],
      "source": [
        "drive.mount('/content/drive')"
      ]
    },
    {
      "cell_type": "code",
      "execution_count": null,
      "id": "2gNMKfRZ4hHq",
      "metadata": {
        "id": "2gNMKfRZ4hHq"
      },
      "outputs": [],
      "source": [
        "# Path file dataset yang sudah di cleaning\n",
        "file_path2 = '/content/drive/MyDrive/Machine Learning/Analisis system rekomendasi spotify menggunakan machine learning/dataset/cleaned_spotify_top_songs.csv'"
      ]
    },
    {
      "cell_type": "code",
      "execution_count": null,
      "id": "Dbs75rbN4vbs",
      "metadata": {
        "id": "Dbs75rbN4vbs"
      },
      "outputs": [],
      "source": [
        "spotify_df = pd.read_csv(file_path2)\n",
        "spotify_df.head()"
      ]
    },
    {
      "cell_type": "code",
      "execution_count": null,
      "id": "FJQM-5iW4zf6",
      "metadata": {
        "id": "FJQM-5iW4zf6"
      },
      "outputs": [],
      "source": [
        "spotify_df.columns"
      ]
    },
    {
      "cell_type": "code",
      "execution_count": null,
      "id": "fm0i5P1w2KWr",
      "metadata": {
        "id": "fm0i5P1w2KWr"
      },
      "outputs": [],
      "source": [
        "import pandas as pd\n",
        "from sklearn.model_selection import train_test_split\n"
      ]
    },
    {
      "cell_type": "code",
      "execution_count": null,
      "id": "Ahj6FXf32tRq",
      "metadata": {
        "id": "Ahj6FXf32tRq"
      },
      "outputs": [],
      "source": [
        "# Menghapus kolom string yang tidak diperlukan: 'track_names', 'source', dan 'artist_names'\n",
        "spotify_df.drop(['track_name', 'source', 'artist_names','mode'], axis=1, inplace=True)\n",
        "\n",
        "# Memisahkan fitur (X) dan target (y)\n",
        "X = spotify_df.drop(['target'], axis=1)\n",
        "y = spotify_df['target']\n",
        "\n",
        "# Membagi data menjadi training dan testing set (80%-20%)\n",
        "X_train, X_test, y_train, y_test = train_test_split(X, y, test_size=0.2, random_state=42)\n",
        "\n",
        "# Output ukuran dataset untuk memverifikasi\n",
        "print(f\"Ukuran X_train: {X_train.shape}\")\n",
        "print(f\"Ukuran X_test: {X_test.shape}\")\n",
        "print(f\"Ukuran y_train: {y_train.shape}\")\n",
        "print(f\"Ukuran y_test: {y_test.shape}\")"
      ]
    },
    {
      "cell_type": "markdown",
      "id": "YxJS9zl0hyZ5",
      "metadata": {
        "id": "YxJS9zl0hyZ5"
      },
      "source": [
        "**MELATIH ALGORITMA KLASIFIKASI**  \n",
        "Teknik klasifikasi digunakan untuk membangun model prediksi dari dataset. Beberapa teknik yang digunakan antara lain *decision tree*, *naive Bayes*, dan *random forest*. Masing-masing teknik ini menggunakan algoritma pembelajaran untuk memprediksi label kelas data yang belum diketahui.\n",
        "\n",
        "**DECISION TREE CLASSIFIER**: Menggunakan pohon keputusan untuk memisahkan data berdasarkan atribut dan menetapkan label kelas (1 atau 0).\n",
        "\n",
        "**GAUSSIAN NAIVE BAYES**: Algoritma cepat yang menggunakan teori probabilitas Bayes untuk memprediksi kelas data.\n",
        "\n",
        "**RANDOM FOREST CLASSIFIER**: Membuat beberapa pohon keputusan dari subset acak data, kemudian menggabungkan hasilnya untuk menentukan kelas.\n",
        "\n",
        "Semua algoritma ini diimpor dari pustaka *sklearn*, didefinisikan, dan digunakan untuk melatih model."
      ]
    },
    {
      "cell_type": "code",
      "execution_count": null,
      "id": "N7Oiqpoa7y7c",
      "metadata": {
        "id": "N7Oiqpoa7y7c"
      },
      "outputs": [],
      "source": [
        "from sklearn.tree import DecisionTreeClassifier\n",
        "from sklearn.naive_bayes import GaussianNB\n",
        "from sklearn.ensemble import RandomForestClassifier\n",
        "\n",
        "dtc = DecisionTreeClassifier()\n",
        "nbc = GaussianNB()\n",
        "rfc = RandomForestClassifier()\n",
        "\n",
        "dtc.fit(X_train, y_train)\n",
        "nbc.fit(X_train, y_train)\n",
        "rfc.fit(X_train, y_train)"
      ]
    },
    {
      "cell_type": "markdown",
      "id": "dYspjB6piB1q",
      "metadata": {
        "id": "dYspjB6piB1q"
      },
      "source": [
        "**MENCARI SKOR AKURASI UNTUK SETIAP ALGORITMA**"
      ]
    },
    {
      "cell_type": "code",
      "execution_count": null,
      "id": "zpYDsYH9BikP",
      "metadata": {
        "id": "zpYDsYH9BikP"
      },
      "outputs": [],
      "source": [
        "tree_score = dtc.score(X_test, y_test)\n",
        "naive_score = nbc.score(X_test, y_test)\n",
        "random_forest_score = rfc.score(X_test, y_test)\n",
        "\n",
        "print('Decision Tree score:', tree_score)\n",
        "print('Naive Bayes score:', naive_score)\n",
        "print('Random Forest score:', random_forest_score)"
      ]
    },
    {
      "cell_type": "markdown",
      "id": "VprCskhXiKl6",
      "metadata": {
        "id": "VprCskhXiKl6"
      },
      "source": [
        "**DARI SKOR YANG DIDAPAT, RANDOM FOREST MERUPAKAN ALGORITMA YANG TERBAIK UNTUK MASALAH KLASIFIKASI INI.**"
      ]
    },
    {
      "cell_type": "markdown",
      "id": "o6M4k8AdByOL",
      "metadata": {
        "id": "o6M4k8AdByOL"
      },
      "source": [
        "# plotting the roc curve"
      ]
    },
    {
      "cell_type": "markdown",
      "id": "EaNQJJ-giUG-",
      "metadata": {
        "id": "EaNQJJ-giUG-"
      },
      "source": [
        "**Kurva ROC** adalah sebuah plot grafis yang menggambarkan kemampuan diagnostik dari sistem klasifikasi biner saat ambang diskriminasi (discrimination threshold) bervariasi."
      ]
    },
    {
      "cell_type": "code",
      "execution_count": null,
      "id": "E_afY_nCB1vZ",
      "metadata": {
        "id": "E_afY_nCB1vZ"
      },
      "outputs": [],
      "source": [
        "from sklearn.metrics import roc_curve, auc\n",
        "import matplotlib.pyplot as plt\n",
        "\n",
        "# Get the predicted probabilities for the positive class (class 1)\n",
        "dtc_prob = dtc.predict_proba(X_test)[:, 1]  # Probabilities for the positive class\n",
        "nbc_prob = nbc.predict_proba(X_test)[:, 1]\n",
        "rfc_prob = rfc.predict_proba(X_test)[:, 1]\n",
        "\n",
        "# Get the true class labels\n",
        "actual = y_test\n",
        "\n",
        "# Calculate ROC curve values for each model\n",
        "dt_false_pos, dt_true_pos, _ = roc_curve(actual, dtc_prob)\n",
        "dt_auc = auc(dt_false_pos, dt_true_pos)\n",
        "\n",
        "nb_false_pos, nb_true_pos, _ = roc_curve(actual, nbc_prob)\n",
        "nb_auc = auc(nb_false_pos, nb_true_pos)\n",
        "\n",
        "rf_false_pos, rf_true_pos, _ = roc_curve(actual, rfc_prob)\n",
        "rf_auc = auc(rf_false_pos, rf_true_pos)\n",
        "\n",
        "# Plot the ROC curves\n",
        "plt.figure(figsize=(10,6))\n",
        "\n",
        "# Plot for Decision Tree\n",
        "plt.plot(dt_false_pos, dt_true_pos, 'r', label='Decision Tree = %0.2f' % dt_auc)\n",
        "\n",
        "# Plot for Naive Bayes\n",
        "plt.plot(nb_false_pos, nb_true_pos, 'g', label='Naive Bayes = %0.2f' % nb_auc)\n",
        "\n",
        "# Plot for Random Forest\n",
        "plt.plot(rf_false_pos, rf_true_pos, 'b', label='Random Forest = %0.2f' % rf_auc)\n",
        "\n",
        "# Plot diagonal line (no-skill line)\n",
        "plt.plot([0, 1], [0, 1], 'k--')\n",
        "\n",
        "# Add labels and title\n",
        "plt.xlabel('False Positive Rate')\n",
        "plt.ylabel('True Positive Rate')\n",
        "plt.title('ROC Curve')\n",
        "\n",
        "# Show legend\n",
        "plt.legend(loc='lower right')\n",
        "\n",
        "# Display the plot\n",
        "plt.show()\n"
      ]
    },
    {
      "cell_type": "markdown",
      "id": "Rkj2rjC_ibWU",
      "metadata": {
        "id": "Rkj2rjC_ibWU"
      },
      "source": [
        "Kesimpulan\n",
        "- Random Forest menunjukkan performa yang baik untuk dataset pelatihan dengan akurasi 100%.\n",
        "\n",
        "- Naive Bayes menunjukkan performa yang baik untuk dataset pengujian dengan akurasi 98%."
      ]
    },
    {
      "cell_type": "markdown",
      "id": "AS6WqUqXibQv",
      "metadata": {
        "id": "AS6WqUqXibQv"
      },
      "source": []
    },
    {
      "cell_type": "markdown",
      "id": "ad2VgLoVjDXm",
      "metadata": {
        "id": "ad2VgLoVjDXm"
      },
      "source": [
        "**Deep Learning pada Dataset**\n",
        "\n",
        "Setelah mencoba algoritma tradisional, saya memutuskan untuk menggunakan algoritma deep learning sebagai algoritma klasifikasi untuk dataset ini.\n",
        "\n",
        "**Apa itu Deep Learning dan Neural Networks?**\n",
        "Neural networks adalah algoritma yang terinspirasi dari otak manusia, dirancang untuk mengenali pola. Mereka memproses data mentah, seperti gambar, suara, teks, atau data deret waktu, untuk mengelompokkan atau mengklasifikasikan berdasarkan pola numerik.\n",
        "\n",
        "**Apa itu Artificial Neural Network (ANN)?**\n",
        "ANN membantu kita memahami pengaruh perubahan ukuran dataset terhadap waktu komputasi dan situasi terbaik untuk model. Model ini bekerja dengan 3 lapisan: **input layer**, **hidden layer**, dan **output layer**.\n",
        "\n",
        "**Langkah-langkah dalam Neural Network:**\n",
        "1. Menetapkan bobot acak untuk semua hubungan.\n",
        "2. Menghitung tingkat aktivasi untuk output nodes menggunakan input dan bobot.\n",
        "3. Menemukan tingkat aktivasi output nodes.\n",
        "4. Menghitung tingkat kesalahan pada output node.\n",
        "5. Menggunakan bobot dan kesalahan untuk mengubah bobot antara hidden node dan input node.\n",
        "6. Mengulang langkah-langkah di atas hingga konvergensi tercapai.\n",
        "7. Menggunakan bobot akhir untuk menghitung output.\n",
        "\n",
        "**Detail Statistika:**\n",
        "Logit (H1) = W(I1H1) * I1 + W(I2H1) * I2 + W(I3H1) * I3 + Konstan\n",
        "\n",
        "**Rekalibrasi Bobot:**\n",
        "Error @ H1 = W(H1O1)Error@O1 + W(H1O2)Error@O2\n",
        "\n",
        "**Kapan Model Cocok?**\n",
        "ANN jarang digunakan untuk pemodelan prediktif karena cenderung overfit pada data.\n",
        "\n",
        "**Keunggulan ANN:**\n",
        "ANN lebih kuat karena memiliki banyak koefisien yang dapat dioptimalkan, sehingga lebih fleksibel dibandingkan model tradisional.\n",
        "\n",
        "**Parameter Hyper:**\n",
        "- Fungsi Aktivasi: 'RELU' (input layer), 'SIGMOID' (output layer)\n",
        "- Optimizer: RMSPROP\n",
        "- Fungsi Loss: Binary Cross-Entropy\n",
        "- Epochs: 100\n",
        "- Batch Size: 100"
      ]
    },
    {
      "cell_type": "markdown",
      "id": "8CoBIJgSCCfa",
      "metadata": {
        "id": "8CoBIJgSCCfa"
      },
      "source": [
        "#ANN"
      ]
    },
    {
      "cell_type": "code",
      "execution_count": null,
      "id": "A7CGloZuCD1x",
      "metadata": {
        "id": "A7CGloZuCD1x"
      },
      "outputs": [],
      "source": [
        "\n",
        "import numpy as np\n",
        "import matplotlib.pyplot as plt\n",
        "import pandas as pd"
      ]
    },
    {
      "cell_type": "code",
      "execution_count": null,
      "id": "PHcHLY4NCM8k",
      "metadata": {
        "id": "PHcHLY4NCM8k"
      },
      "outputs": [],
      "source": [
        "drive.mount('/content/drive')"
      ]
    },
    {
      "cell_type": "code",
      "execution_count": null,
      "id": "xzioc8NICe-W",
      "metadata": {
        "id": "xzioc8NICe-W"
      },
      "outputs": [],
      "source": [
        "dataset = '/content/drive/MyDrive/sem  5/DATA SAINS/cleaned_spotify_top_songs.csv'"
      ]
    },
    {
      "cell_type": "code",
      "execution_count": null,
      "id": "YPwWl3wCCkvf",
      "metadata": {
        "id": "YPwWl3wCCkvf"
      },
      "outputs": [],
      "source": [
        "spotify_df = pd.read_csv(dataset)\n",
        "spotify_df.head()"
      ]
    },
    {
      "cell_type": "code",
      "execution_count": null,
      "id": "DErPX8PRCnRW",
      "metadata": {
        "id": "DErPX8PRCnRW"
      },
      "outputs": [],
      "source": [
        "import pandas as pd\n",
        "\n",
        "# Memuat dataset\n",
        "dataset = pd.read_csv('/content/drive/MyDrive/sem  5/DATA SAINS/cleaned_spotify_top_songs.csv')\n",
        "\n",
        "# Memilih fitur (X) dan target (y) menggunakan nama kolom\n",
        "X = dataset[['acousticness', 'instrumentalness', 'liveness', 'valence', 'loudness', 'tempo']].values\n",
        "y = dataset['target'].values\n",
        "\n",
        "# Mengecek dimensi dari X dan y\n",
        "print(X.shape, y.shape)\n"
      ]
    },
    {
      "cell_type": "code",
      "execution_count": null,
      "id": "N5NmLhCaCq0Z",
      "metadata": {
        "id": "N5NmLhCaCq0Z"
      },
      "outputs": [],
      "source": [
        "from sklearn.model_selection import train_test_split\n",
        "X_train,X_test, y_train, y_test = train_test_split(X, y, test_size = 0.2, random_state = 0)"
      ]
    },
    {
      "cell_type": "markdown",
      "id": "ZtuLFC_9CuBB",
      "metadata": {
        "id": "ZtuLFC_9CuBB"
      },
      "source": [
        "**StandardScaler**: Proses pemusatan (centering) dan penskalaan (scaling) dilakukan secara terpisah pada setiap fitur dengan menghitung statistik yang relevan dari sampel di set pelatihan. Rata-rata dan deviasi standar kemudian disimpan untuk digunakan pada data berikutnya dengan metode transformasi."
      ]
    },
    {
      "cell_type": "code",
      "execution_count": null,
      "id": "bPz70cNOCs6v",
      "metadata": {
        "id": "bPz70cNOCs6v"
      },
      "outputs": [],
      "source": [
        "from sklearn.preprocessing import StandardScaler\n",
        "sc = StandardScaler()\n",
        "X_train = sc.fit_transform(X_train)\n",
        "print(X_train.shape)\n",
        "print(X_test.shape)\n",
        "print(y_train.shape)\n",
        "print(y_test.shape)"
      ]
    },
    {
      "cell_type": "code",
      "execution_count": null,
      "id": "umZMdeSsC1ue",
      "metadata": {
        "id": "umZMdeSsC1ue"
      },
      "outputs": [],
      "source": [
        "import keras\n",
        "from keras.models import Sequential #to initialize ANN\n",
        "from keras.layers import Dense      # to create layers in ANN model"
      ]
    },
    {
      "cell_type": "code",
      "execution_count": null,
      "id": "ScnMRAljC4JS",
      "metadata": {
        "id": "ScnMRAljC4JS"
      },
      "outputs": [],
      "source": [
        "# Initializing ANN\n",
        "from keras.models import Sequential\n",
        "from keras.layers import Dense\n",
        "\n",
        "classifier = Sequential()\n",
        "\n",
        "# Adding the input layer and the first hidden layer\n",
        "classifier.add(Dense(7, activation='relu', input_shape=(6,), name='DenseLayer1'))  # Ubah 13 menjadi 6\n",
        "\n",
        "# Adding 2nd hidden layer\n",
        "classifier.add(Dense(7, activation='relu', name='DenseLayer2'))\n",
        "\n",
        "# Adding the output layer\n",
        "classifier.add(Dense(1, activation='sigmoid', name='DenseLayer3'))\n",
        "\n",
        "# Compiling the ANN model\n",
        "classifier.compile(optimizer='rmsprop', loss='binary_crossentropy', metrics=['accuracy'])\n",
        "\n",
        "# Fitting the model\n",
        "classifier.fit(X_train, y_train, epochs=100, batch_size=100)\n"
      ]
    },
    {
      "cell_type": "markdown",
      "id": "1aX6RIxQJ6v0",
      "metadata": {
        "id": "1aX6RIxQJ6v0"
      },
      "source": [
        "**Mencoba Model ANN dengan Hyperparameter yang Berbeda**\n",
        "\n",
        "Di sini, saya telah menggunakan hyperparameter berikut:\n",
        "\n",
        "- Fungsi Aktivasi: 'TANH' (Lapisan Input), 'SIGMOID' (Lapisan Output)\n",
        "- Optimizer: RMSPROP\n",
        "- Fungsi Kerugian: BINARY_CROSSENTROPY\n",
        "- Epochs: 100\n",
        "- Batch Size: 100"
      ]
    },
    {
      "cell_type": "code",
      "execution_count": null,
      "id": "lsAQjjAlJ1-s",
      "metadata": {
        "id": "lsAQjjAlJ1-s"
      },
      "outputs": [],
      "source": [
        "import numpy as np\n",
        "import matplotlib.pyplot as plt\n",
        "import pandas as pd"
      ]
    },
    {
      "cell_type": "code",
      "execution_count": null,
      "id": "bcAbZx7iJ4MA",
      "metadata": {
        "id": "bcAbZx7iJ4MA"
      },
      "outputs": [],
      "source": [
        "dataset = '/content/drive/MyDrive/sem  5/DATA SAINS/cleaned_spotify_top_songs.csv'"
      ]
    },
    {
      "cell_type": "code",
      "execution_count": null,
      "id": "oQODUVtPKBJx",
      "metadata": {
        "id": "oQODUVtPKBJx"
      },
      "outputs": [],
      "source": [
        "import pandas as pd\n",
        "\n",
        "# Memuat dataset\n",
        "dataset = pd.read_csv('/content/drive/MyDrive/sem  5/DATA SAINS/cleaned_spotify_top_songs.csv')\n",
        "\n",
        "# Memilih fitur (X) dan target (y) menggunakan nama kolom\n",
        "X = dataset[['acousticness', 'instrumentalness', 'liveness', 'valence', 'loudness', 'tempo']].values\n",
        "y = dataset['target'].values\n",
        "\n",
        "# Mengecek dimensi dari X dan y\n",
        "print(X.shape, y.shape)\n"
      ]
    },
    {
      "cell_type": "code",
      "execution_count": null,
      "id": "EVrFAVN3KRP_",
      "metadata": {
        "id": "EVrFAVN3KRP_"
      },
      "outputs": [],
      "source": [
        "from sklearn.model_selection import train_test_split\n",
        "X_train,X_test, y_train, y_test = train_test_split(X, y, test_size = 0.2, random_state = 0)"
      ]
    },
    {
      "cell_type": "code",
      "execution_count": null,
      "id": "PP1N1BftKgHu",
      "metadata": {
        "id": "PP1N1BftKgHu"
      },
      "outputs": [],
      "source": [
        "from sklearn.preprocessing import StandardScaler\n",
        "sc = StandardScaler()\n",
        "X_train = sc.fit_transform(X_train)\n",
        "print(X_train.shape)\n",
        "print(X_test.shape)\n",
        "print(y_train.shape)\n",
        "print(y_test.shape)"
      ]
    },
    {
      "cell_type": "code",
      "execution_count": null,
      "id": "ig4kJKOpKjkv",
      "metadata": {
        "id": "ig4kJKOpKjkv"
      },
      "outputs": [],
      "source": [
        "import keras\n",
        "from keras.models import Sequential #to initialize ANN\n",
        "from keras.layers import Dense      # to create layers in ANN model\n",
        "from keras import optimizers"
      ]
    },
    {
      "cell_type": "code",
      "execution_count": null,
      "id": "MIQ-2t0QKnXS",
      "metadata": {
        "id": "MIQ-2t0QKnXS"
      },
      "outputs": [],
      "source": [
        "# Initializing ANN\n",
        "from keras.models import Sequential\n",
        "from keras.layers import Dense\n",
        "\n",
        "# Defining ANN as a sequence of layers\n",
        "classifier = Sequential()\n",
        "\n",
        "# Adding the input layer and the first hidden layer\n",
        "classifier.add(Dense(7, activation='tanh', input_shape=(6,), name='DenseLayer1'))  # Ganti 13 dengan 6\n",
        "\n",
        "# Adding the 2nd hidden layer\n",
        "classifier.add(Dense(7, activation='tanh', name='DenseLayer2'))\n",
        "\n",
        "# Adding the output layer\n",
        "classifier.add(Dense(1, activation='sigmoid', name='DenseLayer3'))\n",
        "\n",
        "# Compiling the ANN model\n",
        "classifier.compile(optimizer='rmsprop', loss='binary_crossentropy', metrics=['accuracy'])\n",
        "\n",
        "# Fitting the model\n",
        "classifier.fit(X_train, y_train, epochs=100, batch_size=100)\n"
      ]
    },
    {
      "cell_type": "markdown",
      "id": "-SJtskdNju6H",
      "metadata": {
        "id": "-SJtskdNju6H"
      },
      "source": [
        "Ini menunjukkan bahwa fungsi aktivasi tanh pada lapisan tersembunyi dan sigmoid pada lapisan output bekerja dengan baik, dengan akurasi sebesar 93%"
      ]
    },
    {
      "cell_type": "markdown",
      "id": "bOFMqALrjyrG",
      "metadata": {
        "id": "bOFMqALrjyrG"
      },
      "source": [
        "**KESIMPULAN **\n",
        "- Setelah melakukan EDA dan pelatihan menggunakan algoritma tradisional serta jaringan saraf tiruan, saya telah memahami konsep-konsep dengan baik.\n",
        "\n",
        "- Saya telah mengimplementasikan semua yang mencakup materi untuk kursus ini.\n",
        "\n",
        "- Untuk ANN, akurasi berubah dengan parameter yang berbeda, di mana ReLU bekerja lebih baik daripada tanh. Seiring dengan meningkatnya epoch, akurasi juga meningkat. Namun, semakin banyak lapisan yang digunakan, akan mengarah pada overfitting.\n",
        "\n",
        "- Dalam algoritma klasifikasi, Random Forest bekerja dengan baik untuk dataset ini. Meskipun setiap algoritma memiliki fitur masing-masing, ia berfungsi sesuai dengan lingkungan dan masalah yang dihadapi.\n",
        "\n",
        "- Dari analisis eksploratori, saya dapat menyimpulkan bahwa fitur seperti danceability dan energy lebih berpengaruh terhadap kesukaan seseorang terhadap lagu."
      ]
    },
    {
      "cell_type": "code",
      "execution_count": null,
      "id": "vz5vo5owkB4k",
      "metadata": {
        "id": "vz5vo5owkB4k"
      },
      "outputs": [],
      "source": []
    }
  ],
  "metadata": {
    "accelerator": "GPU",
    "colab": {
      "gpuType": "T4",
      "provenance": [],
      "include_colab_link": true
    },
    "kernelspec": {
      "display_name": "Python 3",
      "name": "python3"
    },
    "language_info": {
      "codemirror_mode": {
        "name": "ipython",
        "version": 3
      },
      "file_extension": ".py",
      "mimetype": "text/x-python",
      "name": "python",
      "nbconvert_exporter": "python",
      "pygments_lexer": "ipython3",
      "version": "3.11.7"
    }
  },
  "nbformat": 4,
  "nbformat_minor": 5
}